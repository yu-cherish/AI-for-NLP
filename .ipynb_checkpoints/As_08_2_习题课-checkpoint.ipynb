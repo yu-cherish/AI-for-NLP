{
 "cells": [
  {
   "cell_type": "markdown",
   "metadata": {},
   "source": [
    "# 确定任务并提出子问题  INPUT+ＭODEL＝OUTPUT\n",
    "\n",
    "\n",
    "\n",
    "\n",
    "# 分步解决"
   ]
  },
  {
   "cell_type": "code",
   "execution_count": null,
   "metadata": {
    "collapsed": true
   },
   "outputs": [],
   "source": []
  },
  {
   "cell_type": "code",
   "execution_count": 1,
   "metadata": {
    "collapsed": true
   },
   "outputs": [],
   "source": [
    "import pandas as pd\n",
    "import numpy as np\n",
    "import matplotlib as plt\n",
    "import jieba\n",
    "import scipy\n",
    "import sklearn\n",
    "import time, timeit"
   ]
  },
  {
   "cell_type": "code",
   "execution_count": 2,
   "metadata": {
    "collapsed": true
   },
   "outputs": [],
   "source": [
    "data = pd.read_csv('sqlResult_1558435.csv',encoding='gb18030')"
   ]
  },
  {
   "cell_type": "code",
   "execution_count": 3,
   "metadata": {
    "scrolled": true
   },
   "outputs": [
    {
     "data": {
      "text/html": [
       "<div>\n",
       "<style scoped>\n",
       "    .dataframe tbody tr th:only-of-type {\n",
       "        vertical-align: middle;\n",
       "    }\n",
       "\n",
       "    .dataframe tbody tr th {\n",
       "        vertical-align: top;\n",
       "    }\n",
       "\n",
       "    .dataframe thead th {\n",
       "        text-align: right;\n",
       "    }\n",
       "</style>\n",
       "<table border=\"1\" class=\"dataframe\">\n",
       "  <thead>\n",
       "    <tr style=\"text-align: right;\">\n",
       "      <th></th>\n",
       "      <th>id</th>\n",
       "      <th>author</th>\n",
       "      <th>source</th>\n",
       "      <th>content</th>\n",
       "      <th>feature</th>\n",
       "      <th>title</th>\n",
       "      <th>url</th>\n",
       "    </tr>\n",
       "  </thead>\n",
       "  <tbody>\n",
       "    <tr>\n",
       "      <th>0</th>\n",
       "      <td>89617</td>\n",
       "      <td>NaN</td>\n",
       "      <td>快科技@http://www.kkj.cn/</td>\n",
       "      <td>此外，自本周（6月12日）起，除小米手机6等15款机型外，其余机型已暂停更新发布（含开发版/...</td>\n",
       "      <td>{\"type\":\"科技\",\"site\":\"cnbeta\",\"commentNum\":\"37\"...</td>\n",
       "      <td>小米MIUI 9首批机型曝光：共计15款</td>\n",
       "      <td>http://www.cnbeta.com/articles/tech/623597.htm</td>\n",
       "    </tr>\n",
       "    <tr>\n",
       "      <th>1</th>\n",
       "      <td>89616</td>\n",
       "      <td>NaN</td>\n",
       "      <td>快科技@http://www.kkj.cn/</td>\n",
       "      <td>骁龙835作为唯一通过Windows 10桌面平台认证的ARM处理器，高通强调，不会因为只考...</td>\n",
       "      <td>{\"type\":\"科技\",\"site\":\"cnbeta\",\"commentNum\":\"15\"...</td>\n",
       "      <td>骁龙835在Windows 10上的性能表现有望改善</td>\n",
       "      <td>http://www.cnbeta.com/articles/tech/623599.htm</td>\n",
       "    </tr>\n",
       "    <tr>\n",
       "      <th>2</th>\n",
       "      <td>89615</td>\n",
       "      <td>NaN</td>\n",
       "      <td>快科技@http://www.kkj.cn/</td>\n",
       "      <td>此前的一加3T搭载的是3400mAh电池，DashCharge快充规格为5V/4A。\\r\\n...</td>\n",
       "      <td>{\"type\":\"科技\",\"site\":\"cnbeta\",\"commentNum\":\"18\"...</td>\n",
       "      <td>一加手机5细节曝光：3300mAh、充半小时用1天</td>\n",
       "      <td>http://www.cnbeta.com/articles/tech/623601.htm</td>\n",
       "    </tr>\n",
       "    <tr>\n",
       "      <th>3</th>\n",
       "      <td>89614</td>\n",
       "      <td>NaN</td>\n",
       "      <td>新华社</td>\n",
       "      <td>这是6月18日在葡萄牙中部大佩德罗冈地区拍摄的被森林大火烧毁的汽车。新华社记者张立云摄\\r\\n</td>\n",
       "      <td>{\"type\":\"国际新闻\",\"site\":\"环球\",\"commentNum\":\"0\",\"j...</td>\n",
       "      <td>葡森林火灾造成至少62人死亡 政府宣布进入紧急状态（组图）</td>\n",
       "      <td>http://world.huanqiu.com/hot/2017-06/10866126....</td>\n",
       "    </tr>\n",
       "    <tr>\n",
       "      <th>4</th>\n",
       "      <td>89613</td>\n",
       "      <td>胡淑丽_MN7479</td>\n",
       "      <td>深圳大件事</td>\n",
       "      <td>（原标题：44岁女子跑深圳约会网友被拒，暴雨中裸身奔走……）\\r\\n@深圳交警微博称：昨日清...</td>\n",
       "      <td>{\"type\":\"新闻\",\"site\":\"网易热门\",\"commentNum\":\"978\",...</td>\n",
       "      <td>44岁女子约网友被拒暴雨中裸奔 交警为其披衣相随</td>\n",
       "      <td>http://news.163.com/17/0618/00/CN617P3Q0001875...</td>\n",
       "    </tr>\n",
       "    <tr>\n",
       "      <th>5</th>\n",
       "      <td>89612</td>\n",
       "      <td>张怡</td>\n",
       "      <td>中国证券报?中证网</td>\n",
       "      <td>受到A股被纳入MSCI指数的利好消息刺激，A股市场从周三开始再度上演龙马行情，周四上午金...</td>\n",
       "      <td>{\"type\":\"市场\",\"site\":\"中证网\",\"commentNum\":\"0\",\"jo...</td>\n",
       "      <td>金融股一枝独秀 配置价值犹存</td>\n",
       "      <td>http://www.cs.com.cn/gppd/201706/t20170623_533...</td>\n",
       "    </tr>\n",
       "    <tr>\n",
       "      <th>6</th>\n",
       "      <td>89611</td>\n",
       "      <td>NaN</td>\n",
       "      <td>威锋网@http://www.feng.com/</td>\n",
       "      <td>虽然至今夏普智能手机在市场上无法排得上号，已经完全没落，并于 2013 年退出中国市场，但是...</td>\n",
       "      <td>{\"type\":\"科技\",\"site\":\"cnbeta\",\"commentNum\":\"21\"...</td>\n",
       "      <td>配骁龙660 全面屏鼻祖夏普新机酝酿中</td>\n",
       "      <td>http://www.cnbeta.com/articles/tech/623603.htm</td>\n",
       "    </tr>\n",
       "    <tr>\n",
       "      <th>7</th>\n",
       "      <td>89610</td>\n",
       "      <td>申玉彬 整理</td>\n",
       "      <td>中国证券报?中证网</td>\n",
       "      <td>沙漠雄鹰：震荡有利消化套牢筹码\\r\\n　　周四开盘上证50在银行券商大蓝筹带动下一度涨近...</td>\n",
       "      <td>{\"type\":\"市场\",\"site\":\"中证网\",\"commentNum\":\"0\",\"jo...</td>\n",
       "      <td>博友早评：震荡有利消化套牢筹码</td>\n",
       "      <td>http://www.cs.com.cn/gppd/201706/t20170623_533...</td>\n",
       "    </tr>\n",
       "    <tr>\n",
       "      <th>8</th>\n",
       "      <td>89609</td>\n",
       "      <td>李杭_BJS4645</td>\n",
       "      <td>荆楚网-楚天都市报</td>\n",
       "      <td>（原标题：武汉警方一下子抓了808人，还都是俊男靓女！原来他们每天偷偷摸摸干这事！）\\r\\n...</td>\n",
       "      <td>{\"type\":\"新闻\",\"site\":\"网易热门\",\"commentNum\":\"1600\"...</td>\n",
       "      <td>武汉千余警察出动 抓获808名俊男靓女全是诈骗犯</td>\n",
       "      <td>http://news.163.com/17/0614/14/CMT9N8G80001899...</td>\n",
       "    </tr>\n",
       "    <tr>\n",
       "      <th>9</th>\n",
       "      <td>89608</td>\n",
       "      <td>吴瞬</td>\n",
       "      <td>中国证券报?中证网</td>\n",
       "      <td>6月21日，A股纳入MSCI指数尘埃落定，但当天被寄予厚望的券商股并未扛起反弹大旗。22...</td>\n",
       "      <td>{\"type\":\"市场\",\"site\":\"中证网\",\"commentNum\":\"0\",\"jo...</td>\n",
       "      <td>纳入MSCI指数 A股长期配置价值提升</td>\n",
       "      <td>http://www.cs.com.cn/gppd/201706/t20170623_533...</td>\n",
       "    </tr>\n",
       "  </tbody>\n",
       "</table>\n",
       "</div>"
      ],
      "text/plain": [
       "      id      author                    source  \\\n",
       "0  89617         NaN    快科技@http://www.kkj.cn/   \n",
       "1  89616         NaN    快科技@http://www.kkj.cn/   \n",
       "2  89615         NaN    快科技@http://www.kkj.cn/   \n",
       "3  89614         NaN                       新华社   \n",
       "4  89613  胡淑丽_MN7479                     深圳大件事   \n",
       "5  89612          张怡                 中国证券报?中证网   \n",
       "6  89611         NaN  威锋网@http://www.feng.com/   \n",
       "7  89610      申玉彬 整理                 中国证券报?中证网   \n",
       "8  89609  李杭_BJS4645                 荆楚网-楚天都市报   \n",
       "9  89608          吴瞬                 中国证券报?中证网   \n",
       "\n",
       "                                             content  \\\n",
       "0  此外，自本周（6月12日）起，除小米手机6等15款机型外，其余机型已暂停更新发布（含开发版/...   \n",
       "1  骁龙835作为唯一通过Windows 10桌面平台认证的ARM处理器，高通强调，不会因为只考...   \n",
       "2  此前的一加3T搭载的是3400mAh电池，DashCharge快充规格为5V/4A。\\r\\n...   \n",
       "3    这是6月18日在葡萄牙中部大佩德罗冈地区拍摄的被森林大火烧毁的汽车。新华社记者张立云摄\\r\\n   \n",
       "4  （原标题：44岁女子跑深圳约会网友被拒，暴雨中裸身奔走……）\\r\\n@深圳交警微博称：昨日清...   \n",
       "5  　　受到A股被纳入MSCI指数的利好消息刺激，A股市场从周三开始再度上演龙马行情，周四上午金...   \n",
       "6  虽然至今夏普智能手机在市场上无法排得上号，已经完全没落，并于 2013 年退出中国市场，但是...   \n",
       "7  　　沙漠雄鹰：震荡有利消化套牢筹码\\r\\n　　周四开盘上证50在银行券商大蓝筹带动下一度涨近...   \n",
       "8  （原标题：武汉警方一下子抓了808人，还都是俊男靓女！原来他们每天偷偷摸摸干这事！）\\r\\n...   \n",
       "9  　　6月21日，A股纳入MSCI指数尘埃落定，但当天被寄予厚望的券商股并未扛起反弹大旗。22...   \n",
       "\n",
       "                                             feature  \\\n",
       "0  {\"type\":\"科技\",\"site\":\"cnbeta\",\"commentNum\":\"37\"...   \n",
       "1  {\"type\":\"科技\",\"site\":\"cnbeta\",\"commentNum\":\"15\"...   \n",
       "2  {\"type\":\"科技\",\"site\":\"cnbeta\",\"commentNum\":\"18\"...   \n",
       "3  {\"type\":\"国际新闻\",\"site\":\"环球\",\"commentNum\":\"0\",\"j...   \n",
       "4  {\"type\":\"新闻\",\"site\":\"网易热门\",\"commentNum\":\"978\",...   \n",
       "5  {\"type\":\"市场\",\"site\":\"中证网\",\"commentNum\":\"0\",\"jo...   \n",
       "6  {\"type\":\"科技\",\"site\":\"cnbeta\",\"commentNum\":\"21\"...   \n",
       "7  {\"type\":\"市场\",\"site\":\"中证网\",\"commentNum\":\"0\",\"jo...   \n",
       "8  {\"type\":\"新闻\",\"site\":\"网易热门\",\"commentNum\":\"1600\"...   \n",
       "9  {\"type\":\"市场\",\"site\":\"中证网\",\"commentNum\":\"0\",\"jo...   \n",
       "\n",
       "                           title  \\\n",
       "0           小米MIUI 9首批机型曝光：共计15款   \n",
       "1     骁龙835在Windows 10上的性能表现有望改善   \n",
       "2      一加手机5细节曝光：3300mAh、充半小时用1天   \n",
       "3  葡森林火灾造成至少62人死亡 政府宣布进入紧急状态（组图）   \n",
       "4       44岁女子约网友被拒暴雨中裸奔 交警为其披衣相随   \n",
       "5                 金融股一枝独秀 配置价值犹存   \n",
       "6            配骁龙660 全面屏鼻祖夏普新机酝酿中   \n",
       "7                博友早评：震荡有利消化套牢筹码   \n",
       "8       武汉千余警察出动 抓获808名俊男靓女全是诈骗犯   \n",
       "9            纳入MSCI指数 A股长期配置价值提升   \n",
       "\n",
       "                                                 url  \n",
       "0     http://www.cnbeta.com/articles/tech/623597.htm  \n",
       "1     http://www.cnbeta.com/articles/tech/623599.htm  \n",
       "2     http://www.cnbeta.com/articles/tech/623601.htm  \n",
       "3  http://world.huanqiu.com/hot/2017-06/10866126....  \n",
       "4  http://news.163.com/17/0618/00/CN617P3Q0001875...  \n",
       "5  http://www.cs.com.cn/gppd/201706/t20170623_533...  \n",
       "6     http://www.cnbeta.com/articles/tech/623603.htm  \n",
       "7  http://www.cs.com.cn/gppd/201706/t20170623_533...  \n",
       "8  http://news.163.com/17/0614/14/CMT9N8G80001899...  \n",
       "9  http://www.cs.com.cn/gppd/201706/t20170623_533...  "
      ]
     },
     "execution_count": 3,
     "metadata": {},
     "output_type": "execute_result"
    }
   ],
   "source": [
    "data.head(10)"
   ]
  },
  {
   "cell_type": "code",
   "execution_count": 4,
   "metadata": {},
   "outputs": [
    {
     "data": {
      "text/plain": [
       "feature    {\"type\":\"科技\",\"site\":\"cnbeta\",\"commentNum\":\"37\"...\n",
       "Name: 0, dtype: object"
      ]
     },
     "execution_count": 4,
     "metadata": {},
     "output_type": "execute_result"
    }
   ],
   "source": [
    "data.loc[0,['feature']]"
   ]
  },
  {
   "cell_type": "markdown",
   "metadata": {},
   "source": [
    "# INPUT: Which is more useful, more efficient ?"
   ]
  },
  {
   "cell_type": "markdown",
   "metadata": {},
   "source": [
    "# some assistant functions"
   ]
  },
  {
   "cell_type": "code",
   "execution_count": 5,
   "metadata": {
    "collapsed": true
   },
   "outputs": [],
   "source": [
    "def clock(func):\n",
    "    def clocked(*args, **kwargs):\n",
    "        t0 = timeit.default_timer()\n",
    "        result = func(*args, **kwargs)\n",
    "        elapsed = timeit.default_timer() - t0\n",
    "        name = func.__name__\n",
    "        arg_str = ', '.join(repr(arg) for arg in args)\n",
    "        print(elapsed,'s')\n",
    "        #print('[%0.8fs] %s(%s) -> %r' % (elapsed, name, arg_str, result))\n",
    "        return result\n",
    "    return clocked"
   ]
  },
  {
   "cell_type": "code",
   "execution_count": 6,
   "metadata": {
    "collapsed": true
   },
   "outputs": [],
   "source": [
    "def typeof(variate):\n",
    "    type=None\n",
    "    if isinstance(variate,int):\n",
    "        type = \"int\"\n",
    "    elif isinstance(variate,str):\n",
    "        type = \"str\"\n",
    "    elif isinstance(variate,float):\n",
    "        type = \"float\"\n",
    "    elif isinstance(variate,list):\n",
    "        type = \"list\"\n",
    "    elif isinstance(variate,tuple):\n",
    "        type = \"tuple\"\n",
    "    elif isinstance(variate,dict):\n",
    "        type = \"dict\"\n",
    "    elif isinstance(variate,set):\n",
    "        type = \"set\"\n",
    "    print(type)\n",
    "    return type"
   ]
  },
  {
   "cell_type": "markdown",
   "metadata": {},
   "source": [
    "# The feature column may contain more information"
   ]
  },
  {
   "cell_type": "code",
   "execution_count": 37,
   "metadata": {},
   "outputs": [
    {
     "name": "stdout",
     "output_type": "stream",
     "text": [
      "2.152859110999998 s\n",
      "content (38729226, 432.1927665130397)\n",
      "2.1477446549997694 s\n",
      "feature (53450994, 596.4780439901351)\n",
      "2.104501213999356 s\n",
      "title (2123231, 23.69386570845097)\n",
      "1.9040642529998877 s\n",
      "author (505494, 5.6409815759225985)\n",
      "2.1050169979998827 s\n",
      "url (7472901, 83.39267500641662)\n"
     ]
    }
   ],
   "source": [
    "@clock\n",
    "def get_size(data, attributes):\n",
    "    size = 0\n",
    "    data = data[attributes]\n",
    "    for i in range(len(data)):\n",
    "        if isinstance(data[i],str):\n",
    "            size = size + len(data[i])\n",
    "    return size, size/len(data)\n",
    "\n",
    "attributes = ['content','feature', 'title','author','url']\n",
    "#attr_choosen = ['content','feature', 'title','author','url']\n",
    "attr_choosen = ['content','feature']\n",
    "show = [print( i, get_size(data,i)) for i in attributes]"
   ]
  },
  {
   "cell_type": "markdown",
   "metadata": {},
   "source": [
    "# INPUT: How do we handle the imbalance?"
   ]
  },
  {
   "cell_type": "code",
   "execution_count": 38,
   "metadata": {},
   "outputs": [
    {
     "name": "stdout",
     "output_type": "stream",
     "text": [
      "2625\n",
      "0.875\n"
     ]
    }
   ],
   "source": [
    "data_sampled = data.sample(n=3000)\n",
    "data_pos = data_sampled[data_sampled['source'].str.contains('新华')]\n",
    "print(len(data_pos))\n",
    "print(len(data_pos)/len(data_sampled))\n",
    "#2600~400\n",
    "#400*0.3 = 120"
   ]
  },
  {
   "cell_type": "markdown",
   "metadata": {},
   "source": [
    "# 样本均衡\n",
    "## 直接的选择数据，使其满足需求\n",
    "## 分类器的weight设置\n",
    "## produce the examples u need.  Just try this."
   ]
  },
  {
   "cell_type": "code",
   "execution_count": 39,
   "metadata": {},
   "outputs": [
    {
     "name": "stdout",
     "output_type": "stream",
     "text": [
      "2000\n"
     ]
    }
   ],
   "source": [
    "data['source'] = data['source'].fillna('')\n",
    "data_pos = data[data['source'].str.contains('新华')]\n",
    "data_neg = data[data['source'].str.contains('新华') == 0]\n",
    "\n",
    "#n = 5000\n",
    "N_sample = 2000\n",
    "data_neg = data_neg.sample(n = (int)(N_sample/2))\n",
    "data_pos = data_pos.sample(n = (int)(N_sample/2))\n",
    "\n",
    "data_sampled = data_pos.append(data_neg)\n",
    "print(len(data_sampled))\n",
    "\n",
    "\n",
    "# N, 3:1, 5:2, \n",
    "#5000,1:1\n",
    "#20000 1:1\n",
    "#30000 2:1\n",
    "#30000\n",
    "#print(len(data_pos))\n",
    "#print(len(data) - len(data_pos))"
   ]
  },
  {
   "cell_type": "code",
   "execution_count": 40,
   "metadata": {
    "collapsed": true
   },
   "outputs": [],
   "source": [
    "#data_processed = data[1:2001]\n",
    "\n",
    "#print(data_processed)\n",
    "#print(len(data_processed))\n",
    "def cut(string):\n",
    "    return ' '.join(jieba.cut(string.strip()))\n",
    "def preprocess(data):\n",
    "    for attr in attributes:\n",
    "        data[attr] = data[attr].fillna('').apply(cut)\n",
    "    data['is_xinhua'] = np.where(data['source'].str.contains('新华'),1,0)\n",
    "    #print(data)\n",
    "    x_inputs = data.loc[:,attr_choosen]\n",
    "    #print(x_inputs)\n",
    "    y_inputs = data['is_xinhua'].values\n",
    "    #print(y_inputs)\n",
    "    return x_inputs,y_inputs\n",
    "x_inputs, y_inputs = preprocess(data_sampled)       \n",
    "#print(data_processed)"
   ]
  },
  {
   "cell_type": "code",
   "execution_count": 41,
   "metadata": {},
   "outputs": [
    {
     "name": "stdout",
     "output_type": "stream",
     "text": [
      "(2000, 47971)\n"
     ]
    }
   ],
   "source": [
    "from sklearn.feature_extraction.text import TfidfVectorizer\n",
    "\n",
    "#x_inputs = data_processed.loc[:,attr_choosen]\n",
    "#print(inputs)\n",
    "#y_inputs = data_processed['is_xinhua'].values\n",
    "#print(labels)\n",
    "\n",
    "def vectorize(x_inputs, attr_choosen):\n",
    "    vectorizer = TfidfVectorizer(max_features=30000)\n",
    "    vec = None\n",
    "    for attr in attr_choosen:\n",
    "        vec_fea = vectorizer.fit_transform(x_inputs[attr].values)\n",
    "        #typeof(vec_fea)\n",
    "        #np_vec = np.array(vec_fea)\n",
    "        np_vec = vec_fea.toarray()\n",
    "        #print(np_vec)\n",
    "        if vec is None:\n",
    "            vec = np_vec\n",
    "        else:\n",
    "            vec = np.hstack((vec,np_vec))\n",
    "        #print(attr, vec_fea.shape, np_vec.shape)\n",
    "    return vec\n",
    "\n",
    "x_inputs = vectorize(x_inputs, attr_choosen)\n",
    "print(x_inputs.shape)"
   ]
  },
  {
   "cell_type": "code",
   "execution_count": 42,
   "metadata": {
    "collapsed": true
   },
   "outputs": [],
   "source": [
    "indices = np.arange(len(y_inputs))\n",
    "#print(indices)\n",
    "np.random.shuffle(indices)\n",
    "#print(indices)\n",
    "split_test = 0.2\n",
    "train_indices = indices[int(len(indices)*split_test):]\n",
    "test_indices = indices[:int(len(indices)*split_test)]\n",
    "#print('train',train_indices)\n",
    "#print('test',test_indices)\n",
    "x_train,x_test, y_train, y_test = x_inputs[train_indices],x_inputs[test_indices],y_inputs[train_indices],y_inputs[test_indices]\n"
   ]
  },
  {
   "cell_type": "markdown",
   "metadata": {},
   "source": [
    "# MODEL: What model to use?"
   ]
  },
  {
   "cell_type": "markdown",
   "metadata": {},
   "source": [
    "# F1_score = 2 * (precision * recall) / (precision + recall) "
   ]
  },
  {
   "cell_type": "code",
   "execution_count": 43,
   "metadata": {
    "collapsed": true
   },
   "outputs": [],
   "source": [
    "from sklearn.metrics import f1_score\n",
    "from sklearn.metrics import accuracy_score\n",
    "from sklearn.metrics import precision_score\n",
    "from sklearn.metrics import recall_score\n",
    "from sklearn.metrics import roc_auc_score\n",
    "from sklearn.metrics import confusion_matrix\n",
    "@clock\n",
    "def get_performance(clf, x_, y_):\n",
    "    y_hat = clf.predict(x_)\n",
    "    print('f1_score is: {}'.format(f1_score(y_, y_hat)))\n",
    "    print('accuracy is: {}'.format(accuracy_score(y_, y_hat)))\n",
    "    print('percision is: {}'.format(precision_score(y_, y_hat)))\n",
    "    print('recall is: {}'.format(recall_score(y_, y_hat)))\n",
    "    #print('roc_auc is: {}'.format(roc_auc_score(y_, y_hat)))\n",
    "    #print('confusion matrix: \\n{}'.format(confusion_matrix(y_, y_hat, labels=[0, 1])))\n",
    "#get_performance(NB(x_train,y_train),x_test,y_test)\n",
    "#get_performance(SVM(x_train,y_train),x_test,y_test)\n",
    "#get_performance(XGB(x_train,y_train),x_test,y_test)\n",
    "\n",
    " "
   ]
  },
  {
   "cell_type": "code",
   "execution_count": 44,
   "metadata": {},
   "outputs": [
    {
     "name": "stdout",
     "output_type": "stream",
     "text": [
      "2.0413364579999325 s\n",
      "f1_score is: 0.9437652811735942\n",
      "accuracy is: 0.9425\n",
      "percision is: 0.9278846153846154\n",
      "recall is: 0.9601990049751243\n",
      "0.4906265009994968 s\n"
     ]
    }
   ],
   "source": [
    "from sklearn.naive_bayes import GaussianNB\n",
    "@clock\n",
    "def NB(x_train, y_train):\n",
    "    clf = GaussianNB(alpha)\n",
    "    clf.fit(x_train, y_train)\n",
    "    return clf\n",
    "#clf.fit(X_test,y_test)\n",
    "get_performance(NB(x_train,y_train),x_test,y_test)"
   ]
  },
  {
   "cell_type": "code",
   "execution_count": 45,
   "metadata": {},
   "outputs": [
    {
     "name": "stdout",
     "output_type": "stream",
     "text": [
      "[1.e-05 1.e-04 1.e-03 1.e-02 1.e-01 1.e+00 1.e+01 1.e+02 1.e+03]\n"
     ]
    }
   ],
   "source": [
    "c_range = np.logspace(-5, 3, 9, base=10)\n",
    "print(c_range)"
   ]
  },
  {
   "cell_type": "markdown",
   "metadata": {},
   "source": [
    "# MODEL: How to implement parameters tuning?"
   ]
  },
  {
   "cell_type": "markdown",
   "metadata": {},
   "source": [
    "# search!\n",
    "## no范式, general\n",
    "## 最优化问题\n",
    "## score = accuracy, f1, precision, recall, other metric\n",
    "## parametres = { c: [options]}\n",
    "## arg max socre\n",
    "## GridSearchCV, randomsearchCV"
   ]
  },
  {
   "cell_type": "code",
   "execution_count": 47,
   "metadata": {},
   "outputs": [
    {
     "name": "stderr",
     "output_type": "stream",
     "text": [
      "/usr/local/lib/python3.5/dist-packages/sklearn/svm/base.py:241: ConvergenceWarning: Solver terminated early (max_iter=1).  Consider pre-processing your data with StandardScaler or MinMaxScaler.\n",
      "  % self.max_iter, ConvergenceWarning)\n"
     ]
    },
    {
     "name": "stdout",
     "output_type": "stream",
     "text": [
      "{'C': 10.0, 'gamma': 100.0, 'kernel': 'rbf'}\n",
      "431.09732118400007 s\n"
     ]
    },
    {
     "data": {
      "text/plain": [
       "['clf_SVM.model']"
      ]
     },
     "execution_count": 47,
     "metadata": {},
     "output_type": "execute_result"
    }
   ],
   "source": [
    "from sklearn.svm import SVC\n",
    "from sklearn.model_selection import GridSearchCV\n",
    "from sklearn.externals import joblib\n",
    "@clock\n",
    "def SVM(x_train, y_train):\n",
    "    svc = SVC(kernel='rbf', class_weight='balanced',max_iter = 1)\n",
    "    c_range = np.logspace(-5, 3, 9, base=10)\n",
    "    gamma_range = np.logspace(-5, 3, 9, base=10)\n",
    "    scores = ['precision', 'recall']\n",
    "    param_grid = [{'kernel': ['rbf','linear'], 'C': c_range, 'gamma': gamma_range}]\n",
    "    grid = GridSearchCV(svc, param_grid, cv=3, n_jobs=-1, scoring='accuracy')\n",
    "    clf = grid.fit(x_train, y_train)\n",
    "    print(clf.best_params_)\n",
    "    return clf\n",
    "\n",
    "clf_SVM = SVM(x_train,y_train)\n",
    "joblib.dump(clf_SVM,'clf_SVM_.model')\n",
    "#get_performance(SVM(x_train,y_train),x_test,y_test)"
   ]
  },
  {
   "cell_type": "code",
   "execution_count": 48,
   "metadata": {},
   "outputs": [
    {
     "name": "stdout",
     "output_type": "stream",
     "text": [
      "f1_score is: 0.9375\n",
      "accuracy is: 0.94\n",
      "percision is: 0.9836065573770492\n",
      "recall is: 0.8955223880597015\n",
      "0.507851128000766 s\n"
     ]
    }
   ],
   "source": [
    "load_model=joblib.load('clf_SVM.model')\n",
    "get_performance(load_model,x_test,y_test)"
   ]
  },
  {
   "cell_type": "code",
   "execution_count": 18,
   "metadata": {},
   "outputs": [
    {
     "name": "stdout",
     "output_type": "stream",
     "text": [
      "2.9972085150002385 s\n",
      "3.0292888760004644 s\n",
      "f1_score is: 0.8648648648648648\n",
      "accuracy is: 0.9\n",
      "percision is: 0.9696969696969697\n",
      "recall is: 0.7804878048780488\n",
      "0.007098347000464855 s\n"
     ]
    }
   ],
   "source": [
    "import xgboost as xgb\n",
    "from sklearn.externals import joblib\n",
    "@clock\n",
    "def XGB(x_train,y_train):\n",
    "    clf = xgb.XGBClassifier()               \n",
    "    clf.fit(x_train,y_train)\n",
    "    return clf\n",
    "clf_XGB = XGB(x_train,y_train)\n",
    "joblib.dump(clf_XGB,'clf_XGB.model')\n",
    "get_performance(XGB(x_train,y_train),x_test,y_test)"
   ]
  },
  {
   "cell_type": "markdown",
   "metadata": {},
   "source": [
    "# 希望大家看到这里回去能实验一下对其它model的调参，自己设定好score,然后选择一个模型比方说xgboost, 看一下怎么写对应的grid或者randomsearch。 有兴趣的可以在前面样本均衡的地方再玩玩花样。"
   ]
  }
 ],
 "metadata": {
  "kernelspec": {
   "display_name": "Python 3",
   "language": "python",
   "name": "python3"
  },
  "language_info": {
   "codemirror_mode": {
    "name": "ipython",
    "version": 3
   },
   "file_extension": ".py",
   "mimetype": "text/x-python",
   "name": "python",
   "nbconvert_exporter": "python",
   "pygments_lexer": "ipython3",
   "version": "3.7.1"
  }
 },
 "nbformat": 4,
 "nbformat_minor": 2
}
