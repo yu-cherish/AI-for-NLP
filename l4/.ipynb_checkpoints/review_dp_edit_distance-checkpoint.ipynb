{
 "cells": [
  {
   "cell_type": "markdown",
   "metadata": {},
   "source": [
    "# about decorator"
   ]
  },
  {
   "cell_type": "code",
   "execution_count": 1,
   "metadata": {},
   "outputs": [],
   "source": [
    "from collections import defaultdict\n",
    "import time\n",
    "from functools import wraps"
   ]
  },
  {
   "cell_type": "code",
   "execution_count": 2,
   "metadata": {},
   "outputs": [],
   "source": [
    "\"\"\"1. decorator是应用包装函数的快捷方式。这有助于反复使用相同代码“包装”功能。减少重复！！！\n",
    "   2. 但是装饰器会重写使用装饰器的函数的名字和注释文档，所以我们需要使用functools.wraps\n",
    "   3. 装饰器并不是核心功能，\"\"\"\n",
    "def func_1(n):\n",
    "    for i in range(n):\n",
    "        print(n)\n",
    "\n",
    "        \n",
    "\"\"\"python面向函数--->面向：如果一个东西面向某物，指的是：\n",
    "   1.面向的这个东西可以作为参数（arg）传入；2. 这个东西可以作为变量赋值 3.可以作为一个return\"\"\"\n",
    "def call_time(func_1, arg):\n",
    "    start = time.time()\n",
    "    func_1(arg)\n",
    "    print('used time: {}'.format(time.time() - start))\n",
    "    \n",
    "    \n",
    "function_called_time = defaultdict(int)\n",
    "\n",
    "\"\"\"wraps 接受一个函数来进行装饰，并加入了复制函数名称、注释文档、参数列表等功能。\n",
    "   这可以让我们在装饰器里面访问在装饰器之前的函数的属性\n",
    "\"\"\"\n",
    "def get_call_time(func):\n",
    "    @wraps(func)\n",
    "    def _inner(arg):   # 真正写参数的时候 *args, **kwargs ==> 表示可支持多个参数\n",
    "        \"\"\"it's inner function\"\"\"\n",
    "        global function_called_time\n",
    "        function_called_time[func.__name__] += 1  # 看一个函数调用多少次\n",
    "        result = func(arg)\n",
    "        print('function called time is：{}'.format(function_called_time[func.__name__]))\n",
    "        return result\n",
    "    return _inner  # 返回一个包装函数，这个包装函数的参数传给func作为参数\n",
    "\n",
    "@get_call_time\n",
    "def func_slow(n):\n",
    "    for i in range(n):\n",
    "        time.sleep(0.2)\n",
    "        print(n)"
   ]
  },
  {
   "cell_type": "markdown",
   "metadata": {},
   "source": [
    "# Dynamic Programming For Cutting Problems"
   ]
  },
  {
   "cell_type": "code",
   "execution_count": 3,
   "metadata": {},
   "outputs": [],
   "source": [
    "from collections import defaultdict\n",
    "import time\n",
    "from functools import wraps"
   ]
  },
  {
   "cell_type": "code",
   "execution_count": 4,
   "metadata": {},
   "outputs": [],
   "source": [
    "original_price = [1,5,8,9,10,17,17,20,24,30]\n",
    "price = defaultdict(int)\n",
    "\n",
    "for i, p in enumerate(original_price):\n",
    "    price[i+1] = p\n",
    "assert price[1] == 1"
   ]
  },
  {
   "cell_type": "code",
   "execution_count": 5,
   "metadata": {},
   "outputs": [],
   "source": [
    "solution = {}\n",
    "## for a given length N, we set the corresponding split parts\n",
    "## solution = {\n",
    "#     4: (2, 2)\n",
    "# }"
   ]
  },
  {
   "cell_type": "code",
   "execution_count": 6,
   "metadata": {},
   "outputs": [],
   "source": [
    "\n",
    "\"\"\"写一个装饰器，避免重复计算，也就是把已经计算过的东西存起来\"\"\"\n",
    "def memo(func):\n",
    "    cache = {}\n",
    "    @wraps(func)\n",
    "    def _wrap(n):\n",
    "        if n in cache: result = cache[n]\n",
    "        else:\n",
    "            result = func(n)\n",
    "            cache[n] = result\n",
    "        return result\n",
    "    return  _wrap\n",
    "\n",
    "\n",
    "\"\"\"要注意递归的出口在哪里，不然就出不来了\"\"\"\n",
    "\"\"\"注意如何把问题抽象，抽象出来之后其实就会变得比较简单\"\"\"\n",
    "@memo\n",
    "def r(n):\n",
    "    max_price, split_point = max(\n",
    "       #  [p[n], r(1) + r(n-1), r(2)+ r(n-2), ...r(n-1) + r(1)]\n",
    "        [(price[n], 0)] + [(r(i) + r(n-i), i) for i in range(1, n)], key=lambda x: x[0]   \n",
    "    )\n",
    "    solution[n] = (split_point, n - split_point)\n",
    "    return max_price\n",
    "\n",
    "\n",
    "def not_cut(split): return split == 0  # 这是一个布尔值\n",
    "\n",
    "# 构建solution，把要切割的目标值和上面得到的solution传入。然后得到一个将目标值分为几段的列表\n",
    "def parse_solution(target_length, revenue_solution):\n",
    "    left, right = revenue_solution[target_length]\n",
    "    if not_cut(left):  # 如果切割后左边仍等于0，相当于没有切割，所以就不用在切割了，直接返回结果就可以了\n",
    "        return [right]\n",
    "    return parse_solution(left, revenue_solution) + parse_solution(right, revenue_solution)\n"
   ]
  },
  {
   "cell_type": "code",
   "execution_count": 8,
   "metadata": {},
   "outputs": [
    {
     "data": {
      "text/plain": [
       "691"
      ]
     },
     "execution_count": 8,
     "metadata": {},
     "output_type": "execute_result"
    }
   ],
   "source": [
    "r(231)"
   ]
  },
  {
   "cell_type": "code",
   "execution_count": 12,
   "metadata": {},
   "outputs": [
    {
     "data": {
      "text/plain": [
       "[3, 6, 10]"
      ]
     },
     "execution_count": 12,
     "metadata": {},
     "output_type": "execute_result"
    }
   ],
   "source": [
    "parse_solution(19,solution)"
   ]
  },
  {
   "cell_type": "markdown",
   "metadata": {},
   "source": [
    "# Edit Distance"
   ]
  },
  {
   "cell_type": "code",
   "execution_count": 13,
   "metadata": {},
   "outputs": [],
   "source": [
    "from functools import lru_cache"
   ]
  },
  {
   "cell_type": "code",
   "execution_count": 50,
   "metadata": {},
   "outputs": [],
   "source": [
    "solution = {}"
   ]
  },
  {
   "cell_type": "code",
   "execution_count": 64,
   "metadata": {},
   "outputs": [],
   "source": [
    "@lru_cache(maxsize=2**10)\n",
    "def edit_distance(string1, string2):\n",
    "\n",
    "    if len(string1) == 0: return len(string1)\n",
    "    if len(string2) == 0: return len(string2)\n",
    "\n",
    "    tail_s1 = string1[-1]\n",
    "    tail_s2 = string2[-1]\n",
    "\n",
    "    return min([\n",
    "            edit_distance(string1[:-1], string2) + 1,\n",
    "            edit_distance(string1, string2[:-1]) + 1,\n",
    "            edit_distance(string1[:-1], string2[:-1]) + (0 if tail_s1 == tail_s2 else 2),\n",
    "        ])\n",
    "\n",
    "\n",
    "@lru_cache(maxsize=2**10)\n",
    "def edit_distance_modify(string1, string2):\n",
    "    \n",
    "    if len(string1) == 0: return len(string2)\n",
    "    if len(string2) == 0: return len(string1)\n",
    "    \n",
    "    tail_s1 = string1[-1]\n",
    "    tail_s2 = string2[-1]\n",
    "    \n",
    "    candidates = [\n",
    "        (edit_distance_modify(string1[:-1], string2) + 1, 'DEL {}'.format(tail_s1)),  # string 1 delete tail\n",
    "        (edit_distance_modify(string1, string2[:-1]) + 1, 'ADD {}'.format(tail_s2)),  # string 1 add tail of string2\n",
    "    ]\n",
    "    \n",
    "    if tail_s1 == tail_s2:\n",
    "        both_forward = (edit_distance_modify(string1[:-1], string2[:-1]) + 0, '')\n",
    "    else:\n",
    "        both_forward = (edit_distance_modify(string1[:-1], string2[:-1]) + 1, 'SUB {} => {}'.format(tail_s1, tail_s2))\n",
    "\n",
    "    candidates.append(both_forward)\n",
    "    \n",
    "    min_distance, operation = min(candidates, key=lambda x: x[0])\n",
    "    \n",
    "    solution[(string1, string2)] = operation \n",
    "    \n",
    "    return min_distance"
   ]
  },
  {
   "cell_type": "code",
   "execution_count": 65,
   "metadata": {},
   "outputs": [
    {
     "data": {
      "text/plain": [
       "2"
      ]
     },
     "execution_count": 65,
     "metadata": {},
     "output_type": "execute_result"
    }
   ],
   "source": [
    "edit_distance_modify('ABCDE','ABCCEF')"
   ]
  },
  {
   "cell_type": "code",
   "execution_count": 68,
   "metadata": {},
   "outputs": [
    {
     "data": {
      "text/plain": [
       "'DEL B'"
      ]
     },
     "execution_count": 68,
     "metadata": {},
     "output_type": "execute_result"
    }
   ],
   "source": [
    "solution[('AB','A')]"
   ]
  },
  {
   "cell_type": "code",
   "execution_count": 77,
   "metadata": {},
   "outputs": [],
   "source": [
    "# 没有写完，不知什么条件应该是递归的出口\n",
    "def solution_parse(string1, string2, revenue_solution):\n",
    "    result = []\n",
    "    action = revenue_solution[(string1, string2)]\n",
    "    if len(string1) == len(string2) or abs(len(string1)-len(string2)) == 1:\n",
    "        return result.append(action)\n",
    "    \n",
    "    if action.startswith('ADD'): \n",
    "        string2 = string2[:-1]\n",
    "        \n",
    "    elif action.startswith('DEL'):\n",
    "        string1 = string1[:-1]\n",
    "#         result.append(action)\n",
    "    else:\n",
    "        string1 = string1[:-1]\n",
    "        string2 = string2[:-1]\n",
    "#         result.append(action)\n",
    "\n",
    "    return solution_parse(string1, string2, revenue_solution)\n",
    "  "
   ]
  },
  {
   "cell_type": "code",
   "execution_count": 78,
   "metadata": {},
   "outputs": [],
   "source": [
    "solution_parse('ABCDE', 'ABCCEF', solution)"
   ]
  },
  {
   "cell_type": "code",
   "execution_count": null,
   "metadata": {},
   "outputs": [],
   "source": []
  }
 ],
 "metadata": {
  "kernelspec": {
   "display_name": "Python 3",
   "language": "python",
   "name": "python3"
  },
  "language_info": {
   "codemirror_mode": {
    "name": "ipython",
    "version": 3
   },
   "file_extension": ".py",
   "mimetype": "text/x-python",
   "name": "python",
   "nbconvert_exporter": "python",
   "pygments_lexer": "ipython3",
   "version": "3.7.1"
  }
 },
 "nbformat": 4,
 "nbformat_minor": 2
}
