{
 "cells": [
  {
   "cell_type": "markdown",
   "metadata": {},
   "source": [
    "## 1 Rule Based"
   ]
  },
  {
   "cell_type": "markdown",
   "metadata": {},
   "source": [
    "### 1.1 A Simple Solution"
   ]
  },
  {
   "cell_type": "code",
   "execution_count": 1,
   "metadata": {},
   "outputs": [],
   "source": [
    "import random"
   ]
  },
  {
   "cell_type": "code",
   "execution_count": 2,
   "metadata": {},
   "outputs": [],
   "source": [
    "def adj():return random.choice([w.strip() for w in '漂亮  | 蓝色 | 好看'.split('|')])"
   ]
  },
  {
   "cell_type": "code",
   "execution_count": 3,
   "metadata": {},
   "outputs": [],
   "source": [
    "def noun1():return random.choice([w.strip() for w in '猫 | 女人 | 男人'.split('|')])"
   ]
  },
  {
   "cell_type": "code",
   "execution_count": 4,
   "metadata": {},
   "outputs": [],
   "source": [
    "def noun2():return random.choice([w.strip() for w in '桌子 | 皮球'.split('|')])"
   ]
  },
  {
   "cell_type": "code",
   "execution_count": 5,
   "metadata": {},
   "outputs": [],
   "source": [
    "def verb():return random.choice([w.strip() for w in '看着 | 坐着'.split('|')])"
   ]
  },
  {
   "cell_type": "code",
   "execution_count": 6,
   "metadata": {},
   "outputs": [],
   "source": [
    "def sentence():return ''.join([adj(),noun1(),verb(),adj(),noun2()])"
   ]
  },
  {
   "cell_type": "code",
   "execution_count": 7,
   "metadata": {},
   "outputs": [
    {
     "data": {
      "text/plain": [
       "'漂亮猫看着漂亮桌子'"
      ]
     },
     "execution_count": 7,
     "metadata": {},
     "output_type": "execute_result"
    }
   ],
   "source": [
    "sentence()"
   ]
  },
  {
   "cell_type": "markdown",
   "metadata": {},
   "source": [
    "### 1.2 Syntax Tree Solution"
   ]
  },
  {
   "cell_type": "markdown",
   "metadata": {},
   "source": [
    "1.2.1.Sentence Candidates Parser  \n",
    "Input : 如何办理贵宾卡/金卡/特惠卡？  \n",
    "Output : 如何办理贵宾卡？  如何办理金卡？  如何办理特惠卡？  \n",
    "Input : 网银/信用卡如何/怎样注销/开户？  \n",
    "Output : 网银如何注销？ 信用卡如何注销？ 网银怎样注销？  信用卡怎样注销？... "
   ]
  },
  {
   "cell_type": "code",
   "execution_count": 8,
   "metadata": {},
   "outputs": [
    {
     "name": "stderr",
     "output_type": "stream",
     "text": [
      "Building prefix dict from the default dictionary ...\n",
      "Loading model from cache C:\\Users\\Anan\\AppData\\Local\\Temp\\jieba.cache\n",
      "Loading model cost 0.688 seconds.\n",
      "Prefix dict has been built succesfully.\n"
     ]
    }
   ],
   "source": [
    "import jieba\n",
    "jieba.add_word('特惠卡')\n",
    "from itertools import product"
   ]
  },
  {
   "cell_type": "code",
   "execution_count": 9,
   "metadata": {},
   "outputs": [],
   "source": [
    "def group(tokens,split = '/'):\n",
    "    with_parenthesis, tmp = [], []\n",
    "    for i, t in enumerate(tokens):\n",
    "        if t == split: continue\n",
    "        tmp.append(t)\n",
    "        if i == len(tokens)-1 or tokens[i+1] != split:\n",
    "            with_parenthesis.append(tmp)\n",
    "            tmp = []\n",
    "    return with_parenthesis"
   ]
  },
  {
   "cell_type": "code",
   "execution_count": 10,
   "metadata": {},
   "outputs": [
    {
     "name": "stdout",
     "output_type": "stream",
     "text": [
      "********如何办理贵宾卡/金卡/特惠卡?\n",
      "combination result is : [['如何'], ['办理'], ['贵宾卡', '金卡', '特惠卡'], ['?']]\n",
      "如何办理贵宾卡?\n",
      "如何办理金卡?\n",
      "如何办理特惠卡?\n",
      "********如何办理贵宾卡/金卡/特惠卡\n",
      "combination result is : [['如何'], ['办理'], ['贵宾卡', '金卡', '特惠卡']]\n",
      "如何办理贵宾卡\n",
      "如何办理金卡\n",
      "如何办理特惠卡\n",
      "********网银/信用卡如何/怎样注销/开户啊/呀!\n",
      "combination result is : [['网银', '信用卡'], ['如何', '怎样'], ['注销', '开户'], ['啊', '呀'], ['!']]\n",
      "网银如何注销啊!\n",
      "网银如何注销呀!\n",
      "网银如何开户啊!\n",
      "网银如何开户呀!\n",
      "网银怎样注销啊!\n",
      "网银怎样注销呀!\n",
      "网银怎样开户啊!\n",
      "网银怎样开户呀!\n",
      "信用卡如何注销啊!\n",
      "信用卡如何注销呀!\n",
      "信用卡如何开户啊!\n",
      "信用卡如何开户呀!\n",
      "信用卡怎样注销啊!\n",
      "信用卡怎样注销呀!\n",
      "信用卡怎样开户啊!\n",
      "信用卡怎样开户呀!\n",
      "********网银/信用卡如何/怎样注销/开户\n",
      "combination result is : [['网银', '信用卡'], ['如何', '怎样'], ['注销', '开户']]\n",
      "网银如何注销\n",
      "网银如何开户\n",
      "网银怎样注销\n",
      "网银怎样开户\n",
      "信用卡如何注销\n",
      "信用卡如何开户\n",
      "信用卡怎样注销\n",
      "信用卡怎样开户\n"
     ]
    }
   ],
   "source": [
    "    sentences = \"\"\"\n",
    "    如何办理贵宾卡/金卡/特惠卡?\n",
    "    如何办理贵宾卡/金卡/特惠卡\n",
    "    网银/信用卡如何/怎样注销/开户啊/呀!\n",
    "    网银/信用卡如何/怎样注销/开户\n",
    "    \"\"\".split('\\n')\n",
    "    \n",
    "    \n",
    "    for s in sentences:\n",
    "        s = s.strip()\n",
    "        if not s: continue\n",
    "        print('*'*8 + s)\n",
    "        combinations = list(group(list(jieba.cut(s))))\n",
    "        print('combination result is : {}'.format(combinations))\n",
    "\n",
    "        for words in product(*combinations):\n",
    "            print(''.join(words))"
   ]
  },
  {
   "cell_type": "markdown",
   "metadata": {},
   "source": [
    "1.2.2.Random Chinese Sentence Generator  \n",
    "Write a programming which could generate random Chinese sentence based on grammar.And we dont need to change source code when grammar is changed."
   ]
  },
  {
   "cell_type": "code",
   "execution_count": 11,
   "metadata": {},
   "outputs": [],
   "source": [
    "import random\n",
    "\n",
    "\n",
    "human = \"\"\"\n",
    "human = 自己 寻找 活动\n",
    "自己 = 我 | 俺 | 我们 \n",
    "寻找 = 看看 | 找找 | 想找点\n",
    "活动 = 乐子 | 玩的\n",
    "\"\"\"\n",
    "\n",
    "\n",
    "host = \"\"\"\n",
    "host = 寒暄 报数 询问 业务相关 结尾 \n",
    "报数 = 我是 数字 号 ,\n",
    "数字 = 单个数字 | 数字 单个数字 \n",
    "单个数字 = 1 | 2 | 3 | 4 | 5 | 6 | 7 | 8 | 9 \n",
    "寒暄 = 称谓 打招呼 | 打招呼\n",
    "称谓 = 人称 ,\n",
    "人称 = 先生 | 女士 | 小朋友\n",
    "打招呼 = 你好 | 您好 \n",
    "询问 = 请问你要 | 您需要\n",
    "业务相关 = 玩玩 具体业务\n",
    "玩玩 = 耍一耍 | 玩一玩\n",
    "具体业务 = 喝酒 | 打牌 | 打猎 | 赌博\n",
    "结尾 = 吗？\"\"\""
   ]
  },
  {
   "cell_type": "code",
   "execution_count": 12,
   "metadata": {},
   "outputs": [],
   "source": [
    "def generate_grammar(grammar_define, split = '='):\n",
    "    grammar_pattern = {}\n",
    "    for line in grammar_define.split('\\n'):\n",
    "        if not line: continue\n",
    "        key,rule = line.strip().split(split)\n",
    "        grammar_pattern[key.strip()] = [r.split() for r in rule.split('|')]\n",
    "    return grammar_pattern   "
   ]
  },
  {
   "cell_type": "code",
   "execution_count": 13,
   "metadata": {},
   "outputs": [],
   "source": [
    "def generate(grammer,target):\n",
    "    if target not in grammer: return target\n",
    "    sub_target = random.choice(grammer[target])\n",
    "    return ''.join(generate(grammer,t) for t in sub_target)"
   ]
  },
  {
   "cell_type": "code",
   "execution_count": 14,
   "metadata": {},
   "outputs": [
    {
     "data": {
      "text/plain": [
       "'我想找点玩的'"
      ]
     },
     "execution_count": 14,
     "metadata": {},
     "output_type": "execute_result"
    }
   ],
   "source": [
    "generate(generate_grammar(human),'human')"
   ]
  },
  {
   "cell_type": "code",
   "execution_count": 15,
   "metadata": {},
   "outputs": [
    {
     "data": {
      "text/plain": [
       "'您好我是58号,您需要玩一玩打猎吗？'"
      ]
     },
     "execution_count": 15,
     "metadata": {},
     "output_type": "execute_result"
    }
   ],
   "source": [
    "generate(generate_grammar(host),'host')"
   ]
  },
  {
   "cell_type": "markdown",
   "metadata": {},
   "source": [
    "## 2  Search Based"
   ]
  },
  {
   "cell_type": "code",
   "execution_count": 16,
   "metadata": {},
   "outputs": [],
   "source": [
    "graph = {\n",
    "    '1': '2 7',\n",
    "    '2': '3', \n",
    "    '3': '4', \n",
    "    '4': '5', \n",
    "    '5': '6 10', \n",
    "    '7': '8',\n",
    "    '6': '5',\n",
    "    '8': '9',\n",
    "    '9': '10', \n",
    "    '10': '5 11', \n",
    "    '11': '12',\n",
    "    '12': '11',\n",
    "}"
   ]
  },
  {
   "cell_type": "code",
   "execution_count": 17,
   "metadata": {},
   "outputs": [],
   "source": [
    "for key in graph:graph[key] = graph[key].split()"
   ]
  },
  {
   "cell_type": "code",
   "execution_count": 18,
   "metadata": {},
   "outputs": [
    {
     "data": {
      "text/plain": [
       "{'1': ['2', '7'],\n",
       " '10': ['5', '11'],\n",
       " '11': ['12'],\n",
       " '12': ['11'],\n",
       " '2': ['3'],\n",
       " '3': ['4'],\n",
       " '4': ['5'],\n",
       " '5': ['6', '10'],\n",
       " '6': ['5'],\n",
       " '7': ['8'],\n",
       " '8': ['9'],\n",
       " '9': ['10']}"
      ]
     },
     "execution_count": 18,
     "metadata": {},
     "output_type": "execute_result"
    }
   ],
   "source": [
    "graph"
   ]
  },
  {
   "cell_type": "code",
   "execution_count": 19,
   "metadata": {},
   "outputs": [],
   "source": [
    "import networkx\n",
    "Graph = networkx.Graph(graph)\n",
    "networkx.draw(Graph,with_labels=True)"
   ]
  },
  {
   "cell_type": "markdown",
   "metadata": {},
   "source": [
    "### 2.1 BFS Breadth First Search "
   ]
  },
  {
   "cell_type": "code",
   "execution_count": 20,
   "metadata": {},
   "outputs": [
    {
     "name": "stdout",
     "output_type": "stream",
     "text": [
      "1 is find\n",
      "2 is find\n",
      "7 is find\n",
      "3 is find\n",
      "8 is find\n",
      "4 is find\n",
      "9 is find\n",
      "5 is find\n",
      "10 is find\n",
      "6 is find\n",
      "    10 has been visited\n",
      "    5 has been visited\n",
      "11 is find\n",
      "    5 has been visited\n",
      "12 is find\n",
      "    11 has been visited\n"
     ]
    }
   ],
   "source": [
    "have_visited = set()\n",
    "need_visited = ['1']\n",
    "while need_visited:\n",
    "    node = need_visited.pop(0)\n",
    "    if node in have_visited:\n",
    "        print('    {} has been visited'.format(node))\n",
    "        continue\n",
    "    print('{} is find'.format(node))\n",
    "    have_visited.add(node)\n",
    "    need_visited = need_visited + list(graph[node])\n"
   ]
  },
  {
   "cell_type": "markdown",
   "metadata": {},
   "source": [
    "### 2.2 Depth First Search"
   ]
  },
  {
   "cell_type": "code",
   "execution_count": 21,
   "metadata": {},
   "outputs": [
    {
     "name": "stdout",
     "output_type": "stream",
     "text": [
      "1 is find\n",
      "2 is find\n",
      "3 is find\n",
      "4 is find\n",
      "5 is find\n",
      "6 is find\n",
      "    5 has been visited\n",
      "10 is find\n",
      "    5 has been visited\n",
      "11 is find\n",
      "12 is find\n",
      "    11 has been visited\n",
      "7 is find\n",
      "8 is find\n",
      "9 is find\n",
      "    10 has been visited\n"
     ]
    }
   ],
   "source": [
    "have_visited = set()\n",
    "need_visited = ['1']\n",
    "while need_visited:\n",
    "    node = need_visited.pop(0)\n",
    "    if node in have_visited:\n",
    "        print('    {} has been visited'.format(node))\n",
    "        continue\n",
    "    print('{} is find'.format(node))\n",
    "    have_visited.add(node)\n",
    "    need_visited = list(graph[node]) + need_visited"
   ]
  },
  {
   "cell_type": "markdown",
   "metadata": {},
   "source": [
    "### 2.3  Merge BFS and DFS (Repetition is the mother of evil.)"
   ]
  },
  {
   "cell_type": "code",
   "execution_count": 22,
   "metadata": {},
   "outputs": [],
   "source": [
    "def search(start,method):\n",
    "    path = []\n",
    "    have_visited = set()\n",
    "    need_visited = [start]\n",
    "    while need_visited:\n",
    "        node = need_visited.pop(0)\n",
    "        if node in have_visited:continue\n",
    "        path.append(node)\n",
    "        have_visited.add(node)\n",
    "        if method == 'bfs':\n",
    "            need_visited = need_visited + list(graph[node])  \n",
    "        if method == 'dfs':\n",
    "            need_visited = list(graph[node]) + need_visited  \n",
    "    return path"
   ]
  },
  {
   "cell_type": "code",
   "execution_count": 23,
   "metadata": {},
   "outputs": [
    {
     "data": {
      "text/plain": [
       "['1', '2', '3', '4', '5', '6', '10', '11', '12', '7', '8', '9']"
      ]
     },
     "execution_count": 23,
     "metadata": {},
     "output_type": "execute_result"
    }
   ],
   "source": [
    "search('1','dfs')"
   ]
  },
  {
   "cell_type": "code",
   "execution_count": 24,
   "metadata": {},
   "outputs": [
    {
     "data": {
      "text/plain": [
       "['1', '2', '7', '3', '8', '4', '9', '5', '10', '6', '11', '12']"
      ]
     },
     "execution_count": 24,
     "metadata": {},
     "output_type": "execute_result"
    }
   ],
   "source": [
    "search('1','bfs')"
   ]
  },
  {
   "cell_type": "markdown",
   "metadata": {},
   "source": [
    "## 3 Mapping"
   ]
  },
  {
   "cell_type": "code",
   "execution_count": 25,
   "metadata": {},
   "outputs": [],
   "source": [
    "BJ = 'Beijing'\n",
    "SZ = 'Shenzhen'\n",
    "GZ = 'Guangzhou'\n",
    "WH = 'Wuhan'\n",
    "HLG = 'Heilongjiang'\n",
    "NY = 'New York City'\n",
    "CM = 'Chiangmai'\n",
    "SG = 'Singapore'"
   ]
  },
  {
   "cell_type": "code",
   "execution_count": 26,
   "metadata": {},
   "outputs": [],
   "source": [
    "air_route = {\n",
    "    BJ : {SZ, GZ, WH, HLG, NY}, \n",
    "    GZ : {WH, BJ, CM, SG},\n",
    "    SZ : {BJ, SG},\n",
    "    WH : {BJ, GZ},\n",
    "    HLG : {BJ},\n",
    "    CM : {GZ},\n",
    "    NY : {BJ},\n",
    "    SG : {SZ,GZ}\n",
    "}"
   ]
  },
  {
   "cell_type": "code",
   "execution_count": 27,
   "metadata": {},
   "outputs": [
    {
     "data": {
      "image/png": "[encoded data removed]",
      "text/plain": [
       "<matplotlib.figure.Figure at 0x24cf3378550>"
      ]
     },
     "metadata": {},
     "output_type": "display_data"
    }
   ],
   "source": [
    "import networkx\n",
    "Air_Route = networkx.Graph(air_route)\n",
    "networkx.draw(Air_Route,with_labels=True)"
   ]
  },
  {
   "cell_type": "code",
   "execution_count": 28,
   "metadata": {},
   "outputs": [],
   "source": [
    "def search_route(air_route,start,destination):\n",
    "    #have_arrived = set()\n",
    "    paths = [[start]]\n",
    "    while paths:\n",
    "        path = paths.pop(0)\n",
    "        frontier = path[-1]\n",
    "        #if frontier in have_arrived: continue\n",
    "        #have_arrived.add(frontier)\n",
    "        for city in air_route[frontier]:\n",
    "            if city in path:continue\n",
    "            new_path = path + [city]\n",
    "            paths.append(new_path)\n",
    "            if city == destination: return new_path\n",
    "    return 'Not Found'\n",
    "            "
   ]
  },
  {
   "cell_type": "code",
   "execution_count": 29,
   "metadata": {},
   "outputs": [],
   "source": [
    "def search_all_route(air_route,start,destination):\n",
    "    paths = [[start]]\n",
    "    chosen_path = []\n",
    "    while paths:\n",
    "        path = paths.pop(0)\n",
    "        frontier = path[-1]\n",
    "        for city in air_route[frontier]:\n",
    "            if city in path:continue\n",
    "            new_path = path + [city]\n",
    "            paths.append(new_path)\n",
    "            if city == destination: chosen_path.append(new_path)\n",
    "    return chosen_path"
   ]
  },
  {
   "cell_type": "code",
   "execution_count": 30,
   "metadata": {},
   "outputs": [
    {
     "data": {
      "text/plain": [
       "['Shenzhen', 'Singapore', 'Guangzhou', 'Chiangmai']"
      ]
     },
     "execution_count": 30,
     "metadata": {},
     "output_type": "execute_result"
    }
   ],
   "source": [
    "search_route(air_route, SZ, CM)"
   ]
  },
  {
   "cell_type": "code",
   "execution_count": 31,
   "metadata": {
    "scrolled": false
   },
   "outputs": [
    {
     "data": {
      "text/plain": [
       "[['Shenzhen', 'Singapore', 'Guangzhou', 'Chiangmai'],\n",
       " ['Shenzhen', 'Beijing', 'Guangzhou', 'Chiangmai'],\n",
       " ['Shenzhen', 'Beijing', 'Wuhan', 'Guangzhou', 'Chiangmai']]"
      ]
     },
     "execution_count": 31,
     "metadata": {},
     "output_type": "execute_result"
    }
   ],
   "source": [
    "search_all_route(air_route, SZ, CM)"
   ]
  },
  {
   "cell_type": "code",
   "execution_count": 32,
   "metadata": {},
   "outputs": [
    {
     "data": {
      "text/plain": [
       "['Beijing', 'Guangzhou', 'Singapore']"
      ]
     },
     "execution_count": 32,
     "metadata": {},
     "output_type": "execute_result"
    }
   ],
   "source": [
    "search_route(air_route, BJ, SG)"
   ]
  },
  {
   "cell_type": "code",
   "execution_count": 33,
   "metadata": {},
   "outputs": [
    {
     "data": {
      "text/plain": [
       "[['Beijing', 'Guangzhou', 'Singapore'],\n",
       " ['Beijing', 'Shenzhen', 'Singapore'],\n",
       " ['Beijing', 'Wuhan', 'Guangzhou', 'Singapore']]"
      ]
     },
     "execution_count": 33,
     "metadata": {},
     "output_type": "execute_result"
    }
   ],
   "source": [
    "search_all_route(air_route, BJ, SG)"
   ]
  },
  {
   "cell_type": "code",
   "execution_count": null,
   "metadata": {},
   "outputs": [],
   "source": []
  }
 ],
 "metadata": {
  "kernelspec": {
   "display_name": "Python 3",
   "language": "python",
   "name": "python3"
  },
  "language_info": {
   "codemirror_mode": {
    "name": "ipython",
    "version": 3
   },
   "file_extension": ".py",
   "mimetype": "text/x-python",
   "name": "python",
   "nbconvert_exporter": "python",
   "pygments_lexer": "ipython3",
   "version": "3.6.4"
  }
 },
 "nbformat": 4,
 "nbformat_minor": 2
}
