{
 "cells": [
  {
   "cell_type": "markdown",
   "metadata": {},
   "source": [
    "# Language Model"
   ]
  },
  {
   "cell_type": "code",
   "execution_count": 1,
   "metadata": {},
   "outputs": [],
   "source": [
    "database = 'E:\\datasets_nlp_lesson\\export_sql_1558435\\sqlResult_1558435.csv'"
   ]
  },
  {
   "cell_type": "code",
   "execution_count": 2,
   "metadata": {},
   "outputs": [],
   "source": [
    "import os"
   ]
  },
  {
   "cell_type": "code",
   "execution_count": 3,
   "metadata": {},
   "outputs": [
    {
     "data": {
      "text/plain": [
       "True"
      ]
     },
     "execution_count": 3,
     "metadata": {},
     "output_type": "execute_result"
    }
   ],
   "source": [
    "os.path.exists(database)"
   ]
  },
  {
   "cell_type": "code",
   "execution_count": 4,
   "metadata": {},
   "outputs": [],
   "source": [
    "import pandas as pd"
   ]
  },
  {
   "cell_type": "code",
   "execution_count": 5,
   "metadata": {},
   "outputs": [],
   "source": [
    "dataframe = pd.read_csv(database, encoding='gb18030')"
   ]
  },
  {
   "cell_type": "code",
   "execution_count": 6,
   "metadata": {},
   "outputs": [
    {
     "data": {
      "text/html": [
       "<div>\n",
       "<style scoped>\n",
       "    .dataframe tbody tr th:only-of-type {\n",
       "        vertical-align: middle;\n",
       "    }\n",
       "\n",
       "    .dataframe tbody tr th {\n",
       "        vertical-align: top;\n",
       "    }\n",
       "\n",
       "    .dataframe thead th {\n",
       "        text-align: right;\n",
       "    }\n",
       "</style>\n",
       "<table border=\"1\" class=\"dataframe\">\n",
       "  <thead>\n",
       "    <tr style=\"text-align: right;\">\n",
       "      <th></th>\n",
       "      <th>id</th>\n",
       "      <th>author</th>\n",
       "      <th>source</th>\n",
       "      <th>content</th>\n",
       "      <th>feature</th>\n",
       "      <th>title</th>\n",
       "      <th>url</th>\n",
       "    </tr>\n",
       "  </thead>\n",
       "  <tbody>\n",
       "    <tr>\n",
       "      <th>0</th>\n",
       "      <td>89617</td>\n",
       "      <td>NaN</td>\n",
       "      <td>快科技@http://www.kkj.cn/</td>\n",
       "      <td>此外，自本周（6月12日）起，除小米手机6等15款机型外，其余机型已暂停更新发布（含开发版/...</td>\n",
       "      <td>{\"type\":\"科技\",\"site\":\"cnbeta\",\"commentNum\":\"37\"...</td>\n",
       "      <td>小米MIUI 9首批机型曝光：共计15款</td>\n",
       "      <td>http://www.cnbeta.com/articles/tech/623597.htm</td>\n",
       "    </tr>\n",
       "    <tr>\n",
       "      <th>1</th>\n",
       "      <td>89616</td>\n",
       "      <td>NaN</td>\n",
       "      <td>快科技@http://www.kkj.cn/</td>\n",
       "      <td>骁龙835作为唯一通过Windows 10桌面平台认证的ARM处理器，高通强调，不会因为只考...</td>\n",
       "      <td>{\"type\":\"科技\",\"site\":\"cnbeta\",\"commentNum\":\"15\"...</td>\n",
       "      <td>骁龙835在Windows 10上的性能表现有望改善</td>\n",
       "      <td>http://www.cnbeta.com/articles/tech/623599.htm</td>\n",
       "    </tr>\n",
       "    <tr>\n",
       "      <th>2</th>\n",
       "      <td>89615</td>\n",
       "      <td>NaN</td>\n",
       "      <td>快科技@http://www.kkj.cn/</td>\n",
       "      <td>此前的一加3T搭载的是3400mAh电池，DashCharge快充规格为5V/4A。\\r\\n...</td>\n",
       "      <td>{\"type\":\"科技\",\"site\":\"cnbeta\",\"commentNum\":\"18\"...</td>\n",
       "      <td>一加手机5细节曝光：3300mAh、充半小时用1天</td>\n",
       "      <td>http://www.cnbeta.com/articles/tech/623601.htm</td>\n",
       "    </tr>\n",
       "    <tr>\n",
       "      <th>3</th>\n",
       "      <td>89614</td>\n",
       "      <td>NaN</td>\n",
       "      <td>新华社</td>\n",
       "      <td>这是6月18日在葡萄牙中部大佩德罗冈地区拍摄的被森林大火烧毁的汽车。新华社记者张立云摄\\r\\n</td>\n",
       "      <td>{\"type\":\"国际新闻\",\"site\":\"环球\",\"commentNum\":\"0\",\"j...</td>\n",
       "      <td>葡森林火灾造成至少62人死亡 政府宣布进入紧急状态（组图）</td>\n",
       "      <td>http://world.huanqiu.com/hot/2017-06/10866126....</td>\n",
       "    </tr>\n",
       "    <tr>\n",
       "      <th>4</th>\n",
       "      <td>89613</td>\n",
       "      <td>胡淑丽_MN7479</td>\n",
       "      <td>深圳大件事</td>\n",
       "      <td>（原标题：44岁女子跑深圳约会网友被拒，暴雨中裸身奔走……）\\r\\n@深圳交警微博称：昨日清...</td>\n",
       "      <td>{\"type\":\"新闻\",\"site\":\"网易热门\",\"commentNum\":\"978\",...</td>\n",
       "      <td>44岁女子约网友被拒暴雨中裸奔 交警为其披衣相随</td>\n",
       "      <td>http://news.163.com/17/0618/00/CN617P3Q0001875...</td>\n",
       "    </tr>\n",
       "    <tr>\n",
       "      <th>5</th>\n",
       "      <td>89612</td>\n",
       "      <td>张怡</td>\n",
       "      <td>中国证券报?中证网</td>\n",
       "      <td>受到A股被纳入MSCI指数的利好消息刺激，A股市场从周三开始再度上演龙马行情，周四上午金...</td>\n",
       "      <td>{\"type\":\"市场\",\"site\":\"中证网\",\"commentNum\":\"0\",\"jo...</td>\n",
       "      <td>金融股一枝独秀 配置价值犹存</td>\n",
       "      <td>http://www.cs.com.cn/gppd/201706/t20170623_533...</td>\n",
       "    </tr>\n",
       "    <tr>\n",
       "      <th>6</th>\n",
       "      <td>89611</td>\n",
       "      <td>NaN</td>\n",
       "      <td>威锋网@http://www.feng.com/</td>\n",
       "      <td>虽然至今夏普智能手机在市场上无法排得上号，已经完全没落，并于 2013 年退出中国市场，但是...</td>\n",
       "      <td>{\"type\":\"科技\",\"site\":\"cnbeta\",\"commentNum\":\"21\"...</td>\n",
       "      <td>配骁龙660 全面屏鼻祖夏普新机酝酿中</td>\n",
       "      <td>http://www.cnbeta.com/articles/tech/623603.htm</td>\n",
       "    </tr>\n",
       "    <tr>\n",
       "      <th>7</th>\n",
       "      <td>89610</td>\n",
       "      <td>申玉彬 整理</td>\n",
       "      <td>中国证券报?中证网</td>\n",
       "      <td>沙漠雄鹰：震荡有利消化套牢筹码\\r\\n　　周四开盘上证50在银行券商大蓝筹带动下一度涨近...</td>\n",
       "      <td>{\"type\":\"市场\",\"site\":\"中证网\",\"commentNum\":\"0\",\"jo...</td>\n",
       "      <td>博友早评：震荡有利消化套牢筹码</td>\n",
       "      <td>http://www.cs.com.cn/gppd/201706/t20170623_533...</td>\n",
       "    </tr>\n",
       "    <tr>\n",
       "      <th>8</th>\n",
       "      <td>89609</td>\n",
       "      <td>李杭_BJS4645</td>\n",
       "      <td>荆楚网-楚天都市报</td>\n",
       "      <td>（原标题：武汉警方一下子抓了808人，还都是俊男靓女！原来他们每天偷偷摸摸干这事！）\\r\\n...</td>\n",
       "      <td>{\"type\":\"新闻\",\"site\":\"网易热门\",\"commentNum\":\"1600\"...</td>\n",
       "      <td>武汉千余警察出动 抓获808名俊男靓女全是诈骗犯</td>\n",
       "      <td>http://news.163.com/17/0614/14/CMT9N8G80001899...</td>\n",
       "    </tr>\n",
       "    <tr>\n",
       "      <th>9</th>\n",
       "      <td>89608</td>\n",
       "      <td>吴瞬</td>\n",
       "      <td>中国证券报?中证网</td>\n",
       "      <td>6月21日，A股纳入MSCI指数尘埃落定，但当天被寄予厚望的券商股并未扛起反弹大旗。22...</td>\n",
       "      <td>{\"type\":\"市场\",\"site\":\"中证网\",\"commentNum\":\"0\",\"jo...</td>\n",
       "      <td>纳入MSCI指数 A股长期配置价值提升</td>\n",
       "      <td>http://www.cs.com.cn/gppd/201706/t20170623_533...</td>\n",
       "    </tr>\n",
       "    <tr>\n",
       "      <th>10</th>\n",
       "      <td>89607</td>\n",
       "      <td>NaN</td>\n",
       "      <td>证券时报网</td>\n",
       "      <td>证券时报网（www.stcn.com）06月23日讯\\r\\n　　据上证报道，6月初以来，...</td>\n",
       "      <td>{\"type\":\"市场\",\"site\":\"中证网\",\"commentNum\":\"0\",\"jo...</td>\n",
       "      <td>私募：蓝筹风格难切换 业绩估值相配是王道</td>\n",
       "      <td>http://www.cs.com.cn/gppd/201706/t20170623_533...</td>\n",
       "    </tr>\n",
       "    <tr>\n",
       "      <th>11</th>\n",
       "      <td>89606</td>\n",
       "      <td>NaN</td>\n",
       "      <td>证券时报网</td>\n",
       "      <td>?\\r\\n　　巨丰早评：市场将再次探底\\r\\n　　【巨丰观点】\\r\\n　　周四大盘冲高回落，...</td>\n",
       "      <td>{\"type\":\"市场\",\"site\":\"中证网\",\"commentNum\":\"0\",\"jo...</td>\n",
       "      <td>早间机构看市：市场将再次探底 两类股逢低布局</td>\n",
       "      <td>http://www.cs.com.cn/gppd/201706/t20170623_533...</td>\n",
       "    </tr>\n",
       "    <tr>\n",
       "      <th>12</th>\n",
       "      <td>89605</td>\n",
       "      <td>NaN</td>\n",
       "      <td>中国新闻网</td>\n",
       "      <td>中新网6月19日电 据外媒报道，美国底特律一名男子1976年因为一根头发被定谋杀罪，监禁41...</td>\n",
       "      <td>{\"type\":\"国际新闻\",\"site\":\"环球\",\"commentNum\":\"0\",\"j...</td>\n",
       "      <td>因为犯罪现场的一根头发，他坐冤狱41年后终获释</td>\n",
       "      <td>http://world.huanqiu.com/hot/2017-06/10866136....</td>\n",
       "    </tr>\n",
       "    <tr>\n",
       "      <th>13</th>\n",
       "      <td>89604</td>\n",
       "      <td>申玉彬 整理</td>\n",
       "      <td>中国证券报?中证网</td>\n",
       "      <td>曹先生：风格转换前的阵痛\\r\\n　　今日早盘两地低开，之后一度震荡走高，领涨的仍然是上证...</td>\n",
       "      <td>{\"type\":\"市场\",\"site\":\"中证网\",\"commentNum\":\"0\",\"jo...</td>\n",
       "      <td>博友午评：风格转换前的阵痛</td>\n",
       "      <td>http://www.cs.com.cn/gppd/201706/t20170623_533...</td>\n",
       "    </tr>\n",
       "    <tr>\n",
       "      <th>14</th>\n",
       "      <td>89603</td>\n",
       "      <td>NaN</td>\n",
       "      <td>国际在线</td>\n",
       "      <td>6月21日，MSCI在官网发布公告称，从明年6月起将中国A股纳入MSCI新兴市场指数和MSC...</td>\n",
       "      <td>{\"type\":\"观点滚动\",\"site\":\"参考消息\",\"commentNum\":\"0\",...</td>\n",
       "      <td>MSCI闯关成功会是A股的一针强心剂吗？</td>\n",
       "      <td>http://column.cankaoxiaoxi.com/plgd/2017/0623/...</td>\n",
       "    </tr>\n",
       "    <tr>\n",
       "      <th>15</th>\n",
       "      <td>89602</td>\n",
       "      <td>费天元</td>\n",
       "      <td>中国证券网</td>\n",
       "      <td>中国证券网讯（记者 费天元）沪深两市周五临近午盘出现快速跳水，沪指连续跌穿5日、10日及...</td>\n",
       "      <td>{\"type\":\"市场\",\"site\":\"中证网\",\"commentNum\":\"0\",\"jo...</td>\n",
       "      <td>地产股拉升难阻市场颓势 三大指数早盘集体跳水</td>\n",
       "      <td>http://www.cs.com.cn/gppd/201706/t20170623_533...</td>\n",
       "    </tr>\n",
       "    <tr>\n",
       "      <th>16</th>\n",
       "      <td>89601</td>\n",
       "      <td>NaN</td>\n",
       "      <td>solidot@</td>\n",
       "      <td>九成以上的源包用逐位对应的方式构建，未来版本的 Debian 还将提供验证包的工具和元数据；...</td>\n",
       "      <td>{\"type\":\"软件\",\"site\":\"cnbeta\",\"commentNum\":\"12\"...</td>\n",
       "      <td>Debian 9 Stretch 发布</td>\n",
       "      <td>http://www.cnbeta.com/articles/soft/623605.htm</td>\n",
       "    </tr>\n",
       "    <tr>\n",
       "      <th>17</th>\n",
       "      <td>89600</td>\n",
       "      <td>NaN</td>\n",
       "      <td>新华网</td>\n",
       "      <td>国歌法草案首次提请最高立法机关审议\\r\\n点击图片进入下一页\\r\\n新闻：十二届全国人大常委...</td>\n",
       "      <td>{\"type\":\"观点滚动\",\"site\":\"参考消息\",\"commentNum\":\"0\",...</td>\n",
       "      <td>[及时点]我们不需要“百变老太太”</td>\n",
       "      <td>http://column.cankaoxiaoxi.com/plgd/2017/0623/...</td>\n",
       "    </tr>\n",
       "    <tr>\n",
       "      <th>18</th>\n",
       "      <td>89599</td>\n",
       "      <td>张怡</td>\n",
       "      <td>中国证券报?中证网</td>\n",
       "      <td>中证网讯 （本报记者 张怡）今日，三板做市指数继续低开下行，盘中最低触及1057.91点...</td>\n",
       "      <td>{\"type\":\"市场\",\"site\":\"中证网\",\"commentNum\":\"0\",\"jo...</td>\n",
       "      <td>新三板午评：三板做市指数刷新阶段低点</td>\n",
       "      <td>http://www.cs.com.cn/gppd/201706/t20170623_533...</td>\n",
       "    </tr>\n",
       "    <tr>\n",
       "      <th>19</th>\n",
       "      <td>89598</td>\n",
       "      <td>周佳 整理</td>\n",
       "      <td>中国证券报?中证网</td>\n",
       "      <td>提示声明：\\r\\n　　本文涉及的行业及个股分析来源于券商研究报告，仅为分析人士对该行业及...</td>\n",
       "      <td>{\"type\":\"市场\",\"site\":\"中证网\",\"commentNum\":\"0\",\"jo...</td>\n",
       "      <td>机构解析：下周热点板块及个股探秘（附股）</td>\n",
       "      <td>http://www.cs.com.cn/gppd/hyyj/201706/t2017062...</td>\n",
       "    </tr>\n",
       "    <tr>\n",
       "      <th>20</th>\n",
       "      <td>89597</td>\n",
       "      <td>NaN</td>\n",
       "      <td>泡泡网</td>\n",
       "      <td>原标题：叙利亚被“袭机”事件惹怒俄罗斯 警告将瞄准美战机\\r\\n　　海外网6月19日电 ...</td>\n",
       "      <td>{\"type\":\"军事\",\"site\":\"新浪\",\"commentNum\":\" 95\",\"j...</td>\n",
       "      <td>美军击落叙战机激怒俄罗斯 俄警告将瞄准美军战机</td>\n",
       "      <td>http://mil.news.sina.com.cn/world/2017-06-20/d...</td>\n",
       "    </tr>\n",
       "    <tr>\n",
       "      <th>21</th>\n",
       "      <td>89596</td>\n",
       "      <td>周佳 整理</td>\n",
       "      <td>中国证券报?中证网</td>\n",
       "      <td>提示声明：\\r\\n　　本文涉及的行业及个股分析来源于券商研究报告，仅为分析人士对该行业及...</td>\n",
       "      <td>{\"type\":\"市场\",\"site\":\"中证网\",\"commentNum\":\"0\",\"jo...</td>\n",
       "      <td>机构推荐：下周具备布局潜力金股</td>\n",
       "      <td>http://www.cs.com.cn/gppd/tzpj/201706/t2017062...</td>\n",
       "    </tr>\n",
       "    <tr>\n",
       "      <th>22</th>\n",
       "      <td>89595</td>\n",
       "      <td>NaN</td>\n",
       "      <td>威锋网@http://www.feng.com/</td>\n",
       "      <td>就在这几天，一位微博名为“摩卡 RQ ”的手机、芯片、移动互联网三界知名独立评论人爆料称，O...</td>\n",
       "      <td>{\"type\":\"科技\",\"site\":\"cnbeta\",\"commentNum\":\"56\"...</td>\n",
       "      <td>业内人士解释为什么OPPO供货能力强无敌</td>\n",
       "      <td>http://www.cnbeta.com/articles/tech/623607.htm</td>\n",
       "    </tr>\n",
       "    <tr>\n",
       "      <th>23</th>\n",
       "      <td>89594</td>\n",
       "      <td>张怡</td>\n",
       "      <td>中国证券报?中证网</td>\n",
       "      <td>中证网讯 （本报记者 张怡）与此前两日蓝筹股强势格局不同，周五，A股市场主要指数低开之后...</td>\n",
       "      <td>{\"type\":\"市场\",\"site\":\"中证网\",\"commentNum\":\"0\",\"jo...</td>\n",
       "      <td>中证午评：A股跳水 蓝筹暂歇热点熄火</td>\n",
       "      <td>http://www.cs.com.cn/gppd/201706/t20170623_533...</td>\n",
       "    </tr>\n",
       "    <tr>\n",
       "      <th>24</th>\n",
       "      <td>89593</td>\n",
       "      <td>屠震林 PS040</td>\n",
       "      <td>凤凰体育</td>\n",
       "      <td>北京时间6月20日，江苏苏宁足球俱乐部发布了足协杯第四轮江苏苏宁易购队主场对阵河南建业队的官...</td>\n",
       "      <td>{\"type\":\"体育\",\"site\":\"凤凰\",\"commentNum\":\"1\",\"joi...</td>\n",
       "      <td>“齐心协力”--江苏苏宁发布足协杯对阵河南建业海报</td>\n",
       "      <td>http://sports.ifeng.com/a/20170620/51284188_0....</td>\n",
       "    </tr>\n",
       "    <tr>\n",
       "      <th>25</th>\n",
       "      <td>89592</td>\n",
       "      <td>NaN</td>\n",
       "      <td>新华网</td>\n",
       "      <td>当地时间2017年6月17日，土耳其马尼萨省，在土耳其第1步兵训练大队司令部军营，590名土...</td>\n",
       "      <td>{\"type\":\"国际新闻\",\"site\":\"环球\",\"commentNum\":\"0\",\"j...</td>\n",
       "      <td>土耳其近590名士兵疑食物中毒 被送往医院救治（组图）</td>\n",
       "      <td>http://world.huanqiu.com/hot/2017-06/10866176....</td>\n",
       "    </tr>\n",
       "    <tr>\n",
       "      <th>26</th>\n",
       "      <td>89591</td>\n",
       "      <td>NaN</td>\n",
       "      <td>雷锋网@</td>\n",
       "      <td>今年3月份，王劲从百度自动驾驶事业部任上离职，随后创办景驰科技。在随后的日子里，景驰很快组建...</td>\n",
       "      <td>{\"type\":\"科技\",\"site\":\"cnbeta\",\"commentNum\":\"4\",...</td>\n",
       "      <td>又一自动驾驶公司拿加州路测牌照 这回是王劲的景驰</td>\n",
       "      <td>http://www.cnbeta.com/articles/tech/623609.htm</td>\n",
       "    </tr>\n",
       "    <tr>\n",
       "      <th>27</th>\n",
       "      <td>89590</td>\n",
       "      <td>NaN</td>\n",
       "      <td>新华网</td>\n",
       "      <td>英国与欧盟的“脱欧”谈判于19日正式开始。然而此时，英国首相特雷莎·梅正面临着空前的政治压力...</td>\n",
       "      <td>{\"type\":\"国际新闻\",\"site\":\"环球\",\"commentNum\":\"0\",\"j...</td>\n",
       "      <td>火灾与脱欧炙烤英国首相 特雷莎·梅面临空前政治压力</td>\n",
       "      <td>http://world.huanqiu.com/hot/2017-06/10866198....</td>\n",
       "    </tr>\n",
       "    <tr>\n",
       "      <th>28</th>\n",
       "      <td>89589</td>\n",
       "      <td>NaN</td>\n",
       "      <td>中超球评</td>\n",
       "      <td>中超联赛第13轮比赛已经全部结束，这轮比赛中最让人觉得结果有些出乎意料的，莫过于卡佩罗执教江...</td>\n",
       "      <td>{\"type\":\"体育\",\"site\":\"凤凰\",\"commentNum\":\"0\",\"joi...</td>\n",
       "      <td>江苏保级真悬了 近3年1铁律证明其几乎保级无望</td>\n",
       "      <td>http://sports.ifeng.com/a/20170620/51284719_0....</td>\n",
       "    </tr>\n",
       "    <tr>\n",
       "      <th>29</th>\n",
       "      <td>89588</td>\n",
       "      <td>NaN</td>\n",
       "      <td>中国经济周刊</td>\n",
       "      <td>文章导读： 供应商围堵追债、20多位高管离职、上千人被裁员、孤注一掷史上最大规模的降价…...</td>\n",
       "      <td>{\"type\":\"科技\",\"site\":\"新浪\",\"commentNum\":\" 6\",\"jo...</td>\n",
       "      <td>乐视危局：靠卖资产续命 员工被猎头大规模拉黑</td>\n",
       "      <td>http://tech.sina.com.cn/i/2017-06-20/doc-ifyhf...</td>\n",
       "    </tr>\n",
       "    <tr>\n",
       "      <th>...</th>\n",
       "      <td>...</td>\n",
       "      <td>...</td>\n",
       "      <td>...</td>\n",
       "      <td>...</td>\n",
       "      <td>...</td>\n",
       "      <td>...</td>\n",
       "      <td>...</td>\n",
       "    </tr>\n",
       "    <tr>\n",
       "      <th>89581</th>\n",
       "      <td>30</td>\n",
       "      <td>INACIO ROSA</td>\n",
       "      <td>新华社</td>\n",
       "      <td>新华社照片，外代，2017年6月7日\\n（外代二线）足球——世预赛：葡萄牙备战\\n6月6日，...</td>\n",
       "      <td>{\"type\":\"足球\",\"site\":\"新华社\",\"url\":\"http://home.x...</td>\n",
       "      <td>[2]（外代二线）足球——世预赛：葡萄牙备战</td>\n",
       "      <td>http://home.xinhua-news.com/gdsdetailxhsnew/22...</td>\n",
       "    </tr>\n",
       "    <tr>\n",
       "      <th>89582</th>\n",
       "      <td>29</td>\n",
       "      <td>INACIO ROSA</td>\n",
       "      <td>新华社</td>\n",
       "      <td>新华社照片，外代，2017年6月7日\\n（外代二线）足球——世预赛：葡萄牙备战\\n6月6日，...</td>\n",
       "      <td>{\"type\":\"足球\",\"site\":\"新华社\",\"url\":\"http://home.x...</td>\n",
       "      <td>[3]（外代二线）足球——世预赛：葡萄牙备战</td>\n",
       "      <td>http://home.xinhua-news.com/gdsdetailxhsnew/22...</td>\n",
       "    </tr>\n",
       "    <tr>\n",
       "      <th>89583</th>\n",
       "      <td>28</td>\n",
       "      <td>INACIO ROSA</td>\n",
       "      <td>新华社</td>\n",
       "      <td>新华社照片，外代，2017年6月7日\\n（外代二线）足球——世预赛：葡萄牙备战\\n6月6日，...</td>\n",
       "      <td>{\"type\":\"足球\",\"site\":\"新华社\",\"url\":\"http://home.x...</td>\n",
       "      <td>[4]（外代二线）足球——世预赛：葡萄牙备战</td>\n",
       "      <td>http://home.xinhua-news.com/gdsdetailxhsnew/22...</td>\n",
       "    </tr>\n",
       "    <tr>\n",
       "      <th>89584</th>\n",
       "      <td>27</td>\n",
       "      <td>INACIO ROSA</td>\n",
       "      <td>新华社</td>\n",
       "      <td>新华社照片，外代，2017年6月7日\\n（外代二线）足球——世预赛：葡萄牙备战\\n6月6日，...</td>\n",
       "      <td>{\"type\":\"足球\",\"site\":\"新华社\",\"url\":\"http://home.x...</td>\n",
       "      <td>[5]（外代二线）足球——世预赛：葡萄牙备战</td>\n",
       "      <td>http://home.xinhua-news.com/gdsdetailxhsnew/22...</td>\n",
       "    </tr>\n",
       "    <tr>\n",
       "      <th>89585</th>\n",
       "      <td>26</td>\n",
       "      <td>INACIO ROSA</td>\n",
       "      <td>新华社</td>\n",
       "      <td>新华社照片，外代，2017年6月7日\\n（外代二线）足球——世预赛：葡萄牙备战\\n6月6日，...</td>\n",
       "      <td>{\"type\":\"足球\",\"site\":\"新华社\",\"url\":\"http://home.x...</td>\n",
       "      <td>[6]（外代二线）足球——世预赛：葡萄牙备战</td>\n",
       "      <td>http://home.xinhua-news.com/gdsdetailxhsnew/22...</td>\n",
       "    </tr>\n",
       "    <tr>\n",
       "      <th>89586</th>\n",
       "      <td>25</td>\n",
       "      <td>INACIO ROSA</td>\n",
       "      <td>新华社</td>\n",
       "      <td>新华社照片，外代，2017年6月7日\\n（外代二线）足球——世预赛：葡萄牙备战\\n6月6日，...</td>\n",
       "      <td>{\"type\":\"足球\",\"site\":\"新华社\",\"url\":\"http://home.x...</td>\n",
       "      <td>[7]（外代二线）足球——世预赛：葡萄牙备战</td>\n",
       "      <td>http://home.xinhua-news.com/gdsdetailxhsnew/22...</td>\n",
       "    </tr>\n",
       "    <tr>\n",
       "      <th>89587</th>\n",
       "      <td>24</td>\n",
       "      <td>LOVELY GHOSH</td>\n",
       "      <td>新华社</td>\n",
       "      <td>新华社照片，外代，2017年6月7日\\n（外代二线）蚕丝生产\\n6月6日，在印度特里普拉邦特...</td>\n",
       "      <td>{\"type\":\"其它\",\"site\":\"新华社\",\"url\":\"http://home.x...</td>\n",
       "      <td>[1]（外代二线）蚕丝生产</td>\n",
       "      <td>http://home.xinhua-news.com/gdsdetailxhsnew/22...</td>\n",
       "    </tr>\n",
       "    <tr>\n",
       "      <th>89588</th>\n",
       "      <td>23</td>\n",
       "      <td>LOVELY GHOSH</td>\n",
       "      <td>新华社</td>\n",
       "      <td>新华社照片，外代，2017年6月7日\\n（外代二线）蚕丝生产\\n6月6日，在印度特里普拉邦特...</td>\n",
       "      <td>{\"type\":\"其它\",\"site\":\"新华社\",\"url\":\"http://home.x...</td>\n",
       "      <td>[2]（外代二线）蚕丝生产</td>\n",
       "      <td>http://home.xinhua-news.com/gdsdetailxhsnew/22...</td>\n",
       "    </tr>\n",
       "    <tr>\n",
       "      <th>89589</th>\n",
       "      <td>22</td>\n",
       "      <td>LOVELY GHOSH</td>\n",
       "      <td>新华社</td>\n",
       "      <td>新华社照片，外代，2017年6月7日\\n（外代二线）蚕丝生产\\n5月30日，在印度特里普拉邦...</td>\n",
       "      <td>{\"type\":\"其它\",\"site\":\"新华社\",\"url\":\"http://home.x...</td>\n",
       "      <td>[3]（外代二线）蚕丝生产</td>\n",
       "      <td>http://home.xinhua-news.com/gdsdetailxhsnew/22...</td>\n",
       "    </tr>\n",
       "    <tr>\n",
       "      <th>89590</th>\n",
       "      <td>21</td>\n",
       "      <td>LOVELY GHOSH</td>\n",
       "      <td>新华社</td>\n",
       "      <td>新华社照片，外代，2017年6月7日\\n（外代二线）蚕丝生产\\n6月6日，在印度特里普拉邦特...</td>\n",
       "      <td>{\"type\":\"其它\",\"site\":\"新华社\",\"url\":\"http://home.x...</td>\n",
       "      <td>[4]（外代二线）蚕丝生产</td>\n",
       "      <td>http://home.xinhua-news.com/gdsdetailxhsnew/22...</td>\n",
       "    </tr>\n",
       "    <tr>\n",
       "      <th>89591</th>\n",
       "      <td>20</td>\n",
       "      <td>LOVELY GHOSH</td>\n",
       "      <td>新华社</td>\n",
       "      <td>新华社照片，外代，2017年6月7日\\n（外代二线）蚕丝生产\\n5月30日，在印度特里普拉邦...</td>\n",
       "      <td>{\"type\":\"其它\",\"site\":\"新华社\",\"url\":\"http://home.x...</td>\n",
       "      <td>[5]（外代二线）蚕丝生产</td>\n",
       "      <td>http://home.xinhua-news.com/gdsdetailxhsnew/22...</td>\n",
       "    </tr>\n",
       "    <tr>\n",
       "      <th>89592</th>\n",
       "      <td>19</td>\n",
       "      <td>张旌</td>\n",
       "      <td>新华社</td>\n",
       "      <td>\\n\\n2017年4月27日，在首尔光化门广场，民众在集会上手举反“萨德”标语。（新华社记者...</td>\n",
       "      <td>{\"type\":\"其它\",\"site\":\"新华社\",\"url\":\"http://home.x...</td>\n",
       "      <td>“萨德”环评将重启　在韩部署或推迟一年</td>\n",
       "      <td>http://home.xinhua-news.com/gdsdetailxhsnew/22...</td>\n",
       "    </tr>\n",
       "    <tr>\n",
       "      <th>89593</th>\n",
       "      <td>18</td>\n",
       "      <td>NaN</td>\n",
       "      <td>新华社</td>\n",
       "      <td>\\n新华社巴格达6月6日电（记者魏玉栋　程帅朋）伊拉克西部安巴尔省一处市场6日晚发生自杀式爆...</td>\n",
       "      <td>{\"type\":\"其它\",\"site\":\"新华社\",\"url\":\"http://home.x...</td>\n",
       "      <td>伊拉克安巴尔省发生自杀式袭击７人死亡</td>\n",
       "      <td>http://home.xinhua-news.com/gdsdetailxhsnew/22...</td>\n",
       "    </tr>\n",
       "    <tr>\n",
       "      <th>89594</th>\n",
       "      <td>17</td>\n",
       "      <td>LISELOTTE SABROE</td>\n",
       "      <td>新华社</td>\n",
       "      <td>新华社照片，外代，2017年6月7日\\n（外代二线）足球——国际友谊赛：德国平丹麦\\n6月6...</td>\n",
       "      <td>{\"type\":\"足球\",\"site\":\"新华社\",\"url\":\"http://home.x...</td>\n",
       "      <td>[1]（外代二线）足球——国际友谊赛：德国平丹麦</td>\n",
       "      <td>http://home.xinhua-news.com/gdsdetailxhsnew/22...</td>\n",
       "    </tr>\n",
       "    <tr>\n",
       "      <th>89595</th>\n",
       "      <td>16</td>\n",
       "      <td>LISELOTTE SABROE</td>\n",
       "      <td>新华社</td>\n",
       "      <td>新华社照片，外代，2017年6月7日\\n（外代二线）足球——国际友谊赛：德国平丹麦\\n6月6...</td>\n",
       "      <td>{\"type\":\"足球\",\"site\":\"新华社\",\"url\":\"http://home.x...</td>\n",
       "      <td>[3]（外代二线）足球——国际友谊赛：德国平丹麦</td>\n",
       "      <td>http://home.xinhua-news.com/gdsdetailxhsnew/22...</td>\n",
       "    </tr>\n",
       "    <tr>\n",
       "      <th>89596</th>\n",
       "      <td>15</td>\n",
       "      <td>LISELOTTE SABROE</td>\n",
       "      <td>新华社</td>\n",
       "      <td>新华社照片，外代，2017年6月7日\\n（外代二线）足球——国际友谊赛：德国平丹麦\\n6月6...</td>\n",
       "      <td>{\"type\":\"足球\",\"site\":\"新华社\",\"url\":\"http://home.x...</td>\n",
       "      <td>[2]（外代二线）足球——国际友谊赛：德国平丹麦</td>\n",
       "      <td>http://home.xinhua-news.com/gdsdetailxhsnew/22...</td>\n",
       "    </tr>\n",
       "    <tr>\n",
       "      <th>89597</th>\n",
       "      <td>14</td>\n",
       "      <td>LISELOTTE SABROE</td>\n",
       "      <td>新华社</td>\n",
       "      <td>新华社照片，外代，2017年6月7日\\n（外代二线）足球——国际友谊赛：德国平丹麦\\n6月6...</td>\n",
       "      <td>{\"type\":\"足球\",\"site\":\"新华社\",\"url\":\"http://home.x...</td>\n",
       "      <td>[4]（外代二线）足球——国际友谊赛：德国平丹麦</td>\n",
       "      <td>http://home.xinhua-news.com/gdsdetailxhsnew/22...</td>\n",
       "    </tr>\n",
       "    <tr>\n",
       "      <th>89598</th>\n",
       "      <td>13</td>\n",
       "      <td>LISELOTTE SABROE</td>\n",
       "      <td>新华社</td>\n",
       "      <td>新华社照片，外代，2017年6月7日\\n（外代二线）足球——国际友谊赛：德国平丹麦\\n6月6...</td>\n",
       "      <td>{\"type\":\"足球\",\"site\":\"新华社\",\"url\":\"http://home.x...</td>\n",
       "      <td>[6]（外代二线）足球——国际友谊赛：德国平丹麦</td>\n",
       "      <td>http://home.xinhua-news.com/gdsdetailxhsnew/22...</td>\n",
       "    </tr>\n",
       "    <tr>\n",
       "      <th>89599</th>\n",
       "      <td>12</td>\n",
       "      <td>LISELOTTE SABROE</td>\n",
       "      <td>新华社</td>\n",
       "      <td>新华社照片，外代，2017年6月7日\\n（外代二线）足球——国际友谊赛：德国平丹麦\\n6月6...</td>\n",
       "      <td>{\"type\":\"足球\",\"site\":\"新华社\",\"url\":\"http://home.x...</td>\n",
       "      <td>[5]（外代二线）足球——国际友谊赛：德国平丹麦</td>\n",
       "      <td>http://home.xinhua-news.com/gdsdetailxhsnew/22...</td>\n",
       "    </tr>\n",
       "    <tr>\n",
       "      <th>89600</th>\n",
       "      <td>11</td>\n",
       "      <td>LISELOTTE SABROE</td>\n",
       "      <td>新华社</td>\n",
       "      <td>新华社照片，外代，2017年6月7日\\n（外代二线）足球——国际友谊赛：德国平丹麦\\n6月6...</td>\n",
       "      <td>{\"type\":\"足球\",\"site\":\"新华社\",\"url\":\"http://home.x...</td>\n",
       "      <td>[8]（外代二线）足球——国际友谊赛：德国平丹麦</td>\n",
       "      <td>http://home.xinhua-news.com/gdsdetailxhsnew/22...</td>\n",
       "    </tr>\n",
       "    <tr>\n",
       "      <th>89601</th>\n",
       "      <td>10</td>\n",
       "      <td>LISELOTTE SABROE</td>\n",
       "      <td>新华社</td>\n",
       "      <td>新华社照片，外代，2017年6月7日\\n（外代二线）足球——国际友谊赛：德国平丹麦\\n6月6...</td>\n",
       "      <td>{\"type\":\"足球\",\"site\":\"新华社\",\"url\":\"http://home.x...</td>\n",
       "      <td>[7]（外代二线）足球——国际友谊赛：德国平丹麦</td>\n",
       "      <td>http://home.xinhua-news.com/gdsdetailxhsnew/22...</td>\n",
       "    </tr>\n",
       "    <tr>\n",
       "      <th>89602</th>\n",
       "      <td>9</td>\n",
       "      <td>LISELOTTE SABROE</td>\n",
       "      <td>新华社</td>\n",
       "      <td>新华社照片，外代，2017年6月7日\\n（外代二线）足球——国际友谊赛：德国平丹麦\\n6月6...</td>\n",
       "      <td>{\"type\":\"足球\",\"site\":\"新华社\",\"url\":\"http://home.x...</td>\n",
       "      <td>[9]（外代二线）足球——国际友谊赛：德国平丹麦</td>\n",
       "      <td>http://home.xinhua-news.com/gdsdetailxhsnew/22...</td>\n",
       "    </tr>\n",
       "    <tr>\n",
       "      <th>89603</th>\n",
       "      <td>8</td>\n",
       "      <td>郑焕松</td>\n",
       "      <td>新华社</td>\n",
       "      <td>新华社照片，北京，2017年6月7日\\n电影《血战湘江》举行清华大学巡映活动\\n6月6日，电...</td>\n",
       "      <td>{\"type\":\"社会\",\"site\":\"新华社\",\"url\":\"http://home.x...</td>\n",
       "      <td>（文化）（1）电影《血战湘江》举行清华大学巡映活动</td>\n",
       "      <td>http://home.xinhua-news.com/gdsdetailxhsnew/22...</td>\n",
       "    </tr>\n",
       "    <tr>\n",
       "      <th>89604</th>\n",
       "      <td>7</td>\n",
       "      <td>郑焕松</td>\n",
       "      <td>新华社</td>\n",
       "      <td>新华社照片，北京，2017年6月7日\\n电影《血战湘江》举行清华大学巡映活动\\n6月6日，清...</td>\n",
       "      <td>{\"type\":\"社会\",\"site\":\"新华社\",\"url\":\"http://home.x...</td>\n",
       "      <td>（文化）（2）电影《血战湘江》举行清华大学巡映活动</td>\n",
       "      <td>http://home.xinhua-news.com/gdsdetailxhsnew/22...</td>\n",
       "    </tr>\n",
       "    <tr>\n",
       "      <th>89605</th>\n",
       "      <td>6</td>\n",
       "      <td>郑焕松</td>\n",
       "      <td>新华社</td>\n",
       "      <td>新华社照片，北京，2017年6月7日\\n电影《血战湘江》举行清华大学巡映活动\\n6月6日，电...</td>\n",
       "      <td>{\"type\":\"社会\",\"site\":\"新华社\",\"url\":\"http://home.x...</td>\n",
       "      <td>（文化）（3）电影《血战湘江》举行清华大学巡映活动</td>\n",
       "      <td>http://home.xinhua-news.com/gdsdetailxhsnew/22...</td>\n",
       "    </tr>\n",
       "    <tr>\n",
       "      <th>89606</th>\n",
       "      <td>5</td>\n",
       "      <td>邹峥</td>\n",
       "      <td>新华社</td>\n",
       "      <td>新华社照片，多伦多，2017年6月7日\\n（体育）（2）冰球——国家女子冰球队海外选秀在多伦...</td>\n",
       "      <td>{\"type\":\"冰球\",\"site\":\"新华社\",\"url\":\"http://home.x...</td>\n",
       "      <td>（体育）（2）冰球——国家女子冰球队海外选秀在多伦多展开</td>\n",
       "      <td>http://home.xinhua-news.com/gdsdetailxhsnew/22...</td>\n",
       "    </tr>\n",
       "    <tr>\n",
       "      <th>89607</th>\n",
       "      <td>4</td>\n",
       "      <td>王衡</td>\n",
       "      <td>新华社</td>\n",
       "      <td>新华社兰州6月3日电（王衡、徐丹）记者从甘肃省交通运输厅获悉，甘肃近日集中开建高速公路、普通...</td>\n",
       "      <td>{\"type\":\"宏观经济\",\"site\":\"新华社\",\"url\":\"http://home...</td>\n",
       "      <td>（经济）甘肃集中开工35个重点交通建设项目</td>\n",
       "      <td>http://home.xinhua-news.com/gdsdetailxhsnew/22...</td>\n",
       "    </tr>\n",
       "    <tr>\n",
       "      <th>89608</th>\n",
       "      <td>3</td>\n",
       "      <td>张旌</td>\n",
       "      <td>新华社</td>\n",
       "      <td>\\n\\n2017年5月29日，在法国巴黎郊外的凡尔赛宫，法国总统马克龙出席新闻发布会。（新华...</td>\n",
       "      <td>{\"type\":\"其它\",\"site\":\"新华社\",\"url\":\"http://home.x...</td>\n",
       "      <td>法国议会选举　马克龙有望获“压倒性胜利”</td>\n",
       "      <td>http://home.xinhua-news.com/gdsdetailxhsnew/22...</td>\n",
       "    </tr>\n",
       "    <tr>\n",
       "      <th>89609</th>\n",
       "      <td>2</td>\n",
       "      <td>夏文辉</td>\n",
       "      <td>新华社</td>\n",
       "      <td>\\n\\n2017年5月25日，在美国马萨诸塞州剑桥市，哈佛大学毕业生在毕业典礼上欢呼。（新华...</td>\n",
       "      <td>{\"type\":\"其它\",\"site\":\"新华社\",\"url\":\"http://home.x...</td>\n",
       "      <td>哈佛大学为何取消这些新生入选资格？</td>\n",
       "      <td>http://home.xinhua-news.com/gdsdetailxhsnew/22...</td>\n",
       "    </tr>\n",
       "    <tr>\n",
       "      <th>89610</th>\n",
       "      <td>1</td>\n",
       "      <td>王子江 张寒</td>\n",
       "      <td>新华社</td>\n",
       "      <td>新华社德国杜塞尔多夫６月６日电题：乒乓女球迷　\\n　　新华社记者王子江、张寒\\n　　熊老...</td>\n",
       "      <td>{\"type\":\"体育\",\"site\":\"新华社\",\"url\":\"http://home.x...</td>\n",
       "      <td>（体育）题：乒乓女球迷</td>\n",
       "      <td>http://home.xinhua-news.com/gdsdetailxhsnew/22...</td>\n",
       "    </tr>\n",
       "  </tbody>\n",
       "</table>\n",
       "<p>89611 rows × 7 columns</p>\n",
       "</div>"
      ],
      "text/plain": [
       "          id            author                    source  \\\n",
       "0      89617               NaN    快科技@http://www.kkj.cn/   \n",
       "1      89616               NaN    快科技@http://www.kkj.cn/   \n",
       "2      89615               NaN    快科技@http://www.kkj.cn/   \n",
       "3      89614               NaN                       新华社   \n",
       "4      89613        胡淑丽_MN7479                     深圳大件事   \n",
       "5      89612                张怡                 中国证券报?中证网   \n",
       "6      89611               NaN  威锋网@http://www.feng.com/   \n",
       "7      89610            申玉彬 整理                 中国证券报?中证网   \n",
       "8      89609        李杭_BJS4645                 荆楚网-楚天都市报   \n",
       "9      89608                吴瞬                 中国证券报?中证网   \n",
       "10     89607               NaN                     证券时报网   \n",
       "11     89606               NaN                     证券时报网   \n",
       "12     89605               NaN                     中国新闻网   \n",
       "13     89604            申玉彬 整理                 中国证券报?中证网   \n",
       "14     89603               NaN                      国际在线   \n",
       "15     89602               费天元                     中国证券网   \n",
       "16     89601               NaN                  solidot@   \n",
       "17     89600               NaN                       新华网   \n",
       "18     89599                张怡                 中国证券报?中证网   \n",
       "19     89598             周佳 整理                 中国证券报?中证网   \n",
       "20     89597               NaN                       泡泡网   \n",
       "21     89596             周佳 整理                 中国证券报?中证网   \n",
       "22     89595               NaN  威锋网@http://www.feng.com/   \n",
       "23     89594                张怡                 中国证券报?中证网   \n",
       "24     89593         屠震林 PS040                      凤凰体育   \n",
       "25     89592               NaN                       新华网   \n",
       "26     89591               NaN                      雷锋网@   \n",
       "27     89590               NaN                       新华网   \n",
       "28     89589               NaN                      中超球评   \n",
       "29     89588               NaN                    中国经济周刊   \n",
       "...      ...               ...                       ...   \n",
       "89581     30       INACIO ROSA                       新华社   \n",
       "89582     29       INACIO ROSA                       新华社   \n",
       "89583     28       INACIO ROSA                       新华社   \n",
       "89584     27       INACIO ROSA                       新华社   \n",
       "89585     26       INACIO ROSA                       新华社   \n",
       "89586     25       INACIO ROSA                       新华社   \n",
       "89587     24      LOVELY GHOSH                       新华社   \n",
       "89588     23      LOVELY GHOSH                       新华社   \n",
       "89589     22      LOVELY GHOSH                       新华社   \n",
       "89590     21      LOVELY GHOSH                       新华社   \n",
       "89591     20      LOVELY GHOSH                       新华社   \n",
       "89592     19                张旌                       新华社   \n",
       "89593     18               NaN                       新华社   \n",
       "89594     17  LISELOTTE SABROE                       新华社   \n",
       "89595     16  LISELOTTE SABROE                       新华社   \n",
       "89596     15  LISELOTTE SABROE                       新华社   \n",
       "89597     14  LISELOTTE SABROE                       新华社   \n",
       "89598     13  LISELOTTE SABROE                       新华社   \n",
       "89599     12  LISELOTTE SABROE                       新华社   \n",
       "89600     11  LISELOTTE SABROE                       新华社   \n",
       "89601     10  LISELOTTE SABROE                       新华社   \n",
       "89602      9  LISELOTTE SABROE                       新华社   \n",
       "89603      8               郑焕松                       新华社   \n",
       "89604      7               郑焕松                       新华社   \n",
       "89605      6               郑焕松                       新华社   \n",
       "89606      5                邹峥                       新华社   \n",
       "89607      4                王衡                       新华社   \n",
       "89608      3                张旌                       新华社   \n",
       "89609      2               夏文辉                       新华社   \n",
       "89610      1            王子江 张寒                       新华社   \n",
       "\n",
       "                                                 content  \\\n",
       "0      此外，自本周（6月12日）起，除小米手机6等15款机型外，其余机型已暂停更新发布（含开发版/...   \n",
       "1      骁龙835作为唯一通过Windows 10桌面平台认证的ARM处理器，高通强调，不会因为只考...   \n",
       "2      此前的一加3T搭载的是3400mAh电池，DashCharge快充规格为5V/4A。\\r\\n...   \n",
       "3        这是6月18日在葡萄牙中部大佩德罗冈地区拍摄的被森林大火烧毁的汽车。新华社记者张立云摄\\r\\n   \n",
       "4      （原标题：44岁女子跑深圳约会网友被拒，暴雨中裸身奔走……）\\r\\n@深圳交警微博称：昨日清...   \n",
       "5      　　受到A股被纳入MSCI指数的利好消息刺激，A股市场从周三开始再度上演龙马行情，周四上午金...   \n",
       "6      虽然至今夏普智能手机在市场上无法排得上号，已经完全没落，并于 2013 年退出中国市场，但是...   \n",
       "7      　　沙漠雄鹰：震荡有利消化套牢筹码\\r\\n　　周四开盘上证50在银行券商大蓝筹带动下一度涨近...   \n",
       "8      （原标题：武汉警方一下子抓了808人，还都是俊男靓女！原来他们每天偷偷摸摸干这事！）\\r\\n...   \n",
       "9      　　6月21日，A股纳入MSCI指数尘埃落定，但当天被寄予厚望的券商股并未扛起反弹大旗。22...   \n",
       "10     　　证券时报网（www.stcn.com）06月23日讯\\r\\n　　据上证报道，6月初以来，...   \n",
       "11     ?\\r\\n　　巨丰早评：市场将再次探底\\r\\n　　【巨丰观点】\\r\\n　　周四大盘冲高回落，...   \n",
       "12     中新网6月19日电 据外媒报道，美国底特律一名男子1976年因为一根头发被定谋杀罪，监禁41...   \n",
       "13     　　曹先生：风格转换前的阵痛\\r\\n　　今日早盘两地低开，之后一度震荡走高，领涨的仍然是上证...   \n",
       "14     6月21日，MSCI在官网发布公告称，从明年6月起将中国A股纳入MSCI新兴市场指数和MSC...   \n",
       "15     　　中国证券网讯（记者 费天元）沪深两市周五临近午盘出现快速跳水，沪指连续跌穿5日、10日及...   \n",
       "16     九成以上的源包用逐位对应的方式构建，未来版本的 Debian 还将提供验证包的工具和元数据；...   \n",
       "17     国歌法草案首次提请最高立法机关审议\\r\\n点击图片进入下一页\\r\\n新闻：十二届全国人大常委...   \n",
       "18     　　中证网讯 （本报记者 张怡）今日，三板做市指数继续低开下行，盘中最低触及1057.91点...   \n",
       "19     　　提示声明：\\r\\n　　本文涉及的行业及个股分析来源于券商研究报告，仅为分析人士对该行业及...   \n",
       "20     　　原标题：叙利亚被“袭机”事件惹怒俄罗斯 警告将瞄准美战机\\r\\n　　海外网6月19日电 ...   \n",
       "21     　　提示声明：\\r\\n　　本文涉及的行业及个股分析来源于券商研究报告，仅为分析人士对该行业及...   \n",
       "22     就在这几天，一位微博名为“摩卡 RQ ”的手机、芯片、移动互联网三界知名独立评论人爆料称，O...   \n",
       "23     　　中证网讯 （本报记者 张怡）与此前两日蓝筹股强势格局不同，周五，A股市场主要指数低开之后...   \n",
       "24     北京时间6月20日，江苏苏宁足球俱乐部发布了足协杯第四轮江苏苏宁易购队主场对阵河南建业队的官...   \n",
       "25     当地时间2017年6月17日，土耳其马尼萨省，在土耳其第1步兵训练大队司令部军营，590名土...   \n",
       "26     今年3月份，王劲从百度自动驾驶事业部任上离职，随后创办景驰科技。在随后的日子里，景驰很快组建...   \n",
       "27     英国与欧盟的“脱欧”谈判于19日正式开始。然而此时，英国首相特雷莎·梅正面临着空前的政治压力...   \n",
       "28     中超联赛第13轮比赛已经全部结束，这轮比赛中最让人觉得结果有些出乎意料的，莫过于卡佩罗执教江...   \n",
       "29     　　文章导读： 供应商围堵追债、20多位高管离职、上千人被裁员、孤注一掷史上最大规模的降价…...   \n",
       "...                                                  ...   \n",
       "89581  新华社照片，外代，2017年6月7日\\n（外代二线）足球——世预赛：葡萄牙备战\\n6月6日，...   \n",
       "89582  新华社照片，外代，2017年6月7日\\n（外代二线）足球——世预赛：葡萄牙备战\\n6月6日，...   \n",
       "89583  新华社照片，外代，2017年6月7日\\n（外代二线）足球——世预赛：葡萄牙备战\\n6月6日，...   \n",
       "89584  新华社照片，外代，2017年6月7日\\n（外代二线）足球——世预赛：葡萄牙备战\\n6月6日，...   \n",
       "89585  新华社照片，外代，2017年6月7日\\n（外代二线）足球——世预赛：葡萄牙备战\\n6月6日，...   \n",
       "89586  新华社照片，外代，2017年6月7日\\n（外代二线）足球——世预赛：葡萄牙备战\\n6月6日，...   \n",
       "89587  新华社照片，外代，2017年6月7日\\n（外代二线）蚕丝生产\\n6月6日，在印度特里普拉邦特...   \n",
       "89588  新华社照片，外代，2017年6月7日\\n（外代二线）蚕丝生产\\n6月6日，在印度特里普拉邦特...   \n",
       "89589  新华社照片，外代，2017年6月7日\\n（外代二线）蚕丝生产\\n5月30日，在印度特里普拉邦...   \n",
       "89590  新华社照片，外代，2017年6月7日\\n（外代二线）蚕丝生产\\n6月6日，在印度特里普拉邦特...   \n",
       "89591  新华社照片，外代，2017年6月7日\\n（外代二线）蚕丝生产\\n5月30日，在印度特里普拉邦...   \n",
       "89592  \\n\\n2017年4月27日，在首尔光化门广场，民众在集会上手举反“萨德”标语。（新华社记者...   \n",
       "89593  \\n新华社巴格达6月6日电（记者魏玉栋　程帅朋）伊拉克西部安巴尔省一处市场6日晚发生自杀式爆...   \n",
       "89594  新华社照片，外代，2017年6月7日\\n（外代二线）足球——国际友谊赛：德国平丹麦\\n6月6...   \n",
       "89595  新华社照片，外代，2017年6月7日\\n（外代二线）足球——国际友谊赛：德国平丹麦\\n6月6...   \n",
       "89596  新华社照片，外代，2017年6月7日\\n（外代二线）足球——国际友谊赛：德国平丹麦\\n6月6...   \n",
       "89597  新华社照片，外代，2017年6月7日\\n（外代二线）足球——国际友谊赛：德国平丹麦\\n6月6...   \n",
       "89598  新华社照片，外代，2017年6月7日\\n（外代二线）足球——国际友谊赛：德国平丹麦\\n6月6...   \n",
       "89599  新华社照片，外代，2017年6月7日\\n（外代二线）足球——国际友谊赛：德国平丹麦\\n6月6...   \n",
       "89600  新华社照片，外代，2017年6月7日\\n（外代二线）足球——国际友谊赛：德国平丹麦\\n6月6...   \n",
       "89601  新华社照片，外代，2017年6月7日\\n（外代二线）足球——国际友谊赛：德国平丹麦\\n6月6...   \n",
       "89602  新华社照片，外代，2017年6月7日\\n（外代二线）足球——国际友谊赛：德国平丹麦\\n6月6...   \n",
       "89603  新华社照片，北京，2017年6月7日\\n电影《血战湘江》举行清华大学巡映活动\\n6月6日，电...   \n",
       "89604  新华社照片，北京，2017年6月7日\\n电影《血战湘江》举行清华大学巡映活动\\n6月6日，清...   \n",
       "89605  新华社照片，北京，2017年6月7日\\n电影《血战湘江》举行清华大学巡映活动\\n6月6日，电...   \n",
       "89606  新华社照片，多伦多，2017年6月7日\\n（体育）（2）冰球——国家女子冰球队海外选秀在多伦...   \n",
       "89607  新华社兰州6月3日电（王衡、徐丹）记者从甘肃省交通运输厅获悉，甘肃近日集中开建高速公路、普通...   \n",
       "89608  \\n\\n2017年5月29日，在法国巴黎郊外的凡尔赛宫，法国总统马克龙出席新闻发布会。（新华...   \n",
       "89609  \\n\\n2017年5月25日，在美国马萨诸塞州剑桥市，哈佛大学毕业生在毕业典礼上欢呼。（新华...   \n",
       "89610  　　新华社德国杜塞尔多夫６月６日电题：乒乓女球迷　\\n　　新华社记者王子江、张寒\\n　　熊老...   \n",
       "\n",
       "                                                 feature  \\\n",
       "0      {\"type\":\"科技\",\"site\":\"cnbeta\",\"commentNum\":\"37\"...   \n",
       "1      {\"type\":\"科技\",\"site\":\"cnbeta\",\"commentNum\":\"15\"...   \n",
       "2      {\"type\":\"科技\",\"site\":\"cnbeta\",\"commentNum\":\"18\"...   \n",
       "3      {\"type\":\"国际新闻\",\"site\":\"环球\",\"commentNum\":\"0\",\"j...   \n",
       "4      {\"type\":\"新闻\",\"site\":\"网易热门\",\"commentNum\":\"978\",...   \n",
       "5      {\"type\":\"市场\",\"site\":\"中证网\",\"commentNum\":\"0\",\"jo...   \n",
       "6      {\"type\":\"科技\",\"site\":\"cnbeta\",\"commentNum\":\"21\"...   \n",
       "7      {\"type\":\"市场\",\"site\":\"中证网\",\"commentNum\":\"0\",\"jo...   \n",
       "8      {\"type\":\"新闻\",\"site\":\"网易热门\",\"commentNum\":\"1600\"...   \n",
       "9      {\"type\":\"市场\",\"site\":\"中证网\",\"commentNum\":\"0\",\"jo...   \n",
       "10     {\"type\":\"市场\",\"site\":\"中证网\",\"commentNum\":\"0\",\"jo...   \n",
       "11     {\"type\":\"市场\",\"site\":\"中证网\",\"commentNum\":\"0\",\"jo...   \n",
       "12     {\"type\":\"国际新闻\",\"site\":\"环球\",\"commentNum\":\"0\",\"j...   \n",
       "13     {\"type\":\"市场\",\"site\":\"中证网\",\"commentNum\":\"0\",\"jo...   \n",
       "14     {\"type\":\"观点滚动\",\"site\":\"参考消息\",\"commentNum\":\"0\",...   \n",
       "15     {\"type\":\"市场\",\"site\":\"中证网\",\"commentNum\":\"0\",\"jo...   \n",
       "16     {\"type\":\"软件\",\"site\":\"cnbeta\",\"commentNum\":\"12\"...   \n",
       "17     {\"type\":\"观点滚动\",\"site\":\"参考消息\",\"commentNum\":\"0\",...   \n",
       "18     {\"type\":\"市场\",\"site\":\"中证网\",\"commentNum\":\"0\",\"jo...   \n",
       "19     {\"type\":\"市场\",\"site\":\"中证网\",\"commentNum\":\"0\",\"jo...   \n",
       "20     {\"type\":\"军事\",\"site\":\"新浪\",\"commentNum\":\" 95\",\"j...   \n",
       "21     {\"type\":\"市场\",\"site\":\"中证网\",\"commentNum\":\"0\",\"jo...   \n",
       "22     {\"type\":\"科技\",\"site\":\"cnbeta\",\"commentNum\":\"56\"...   \n",
       "23     {\"type\":\"市场\",\"site\":\"中证网\",\"commentNum\":\"0\",\"jo...   \n",
       "24     {\"type\":\"体育\",\"site\":\"凤凰\",\"commentNum\":\"1\",\"joi...   \n",
       "25     {\"type\":\"国际新闻\",\"site\":\"环球\",\"commentNum\":\"0\",\"j...   \n",
       "26     {\"type\":\"科技\",\"site\":\"cnbeta\",\"commentNum\":\"4\",...   \n",
       "27     {\"type\":\"国际新闻\",\"site\":\"环球\",\"commentNum\":\"0\",\"j...   \n",
       "28     {\"type\":\"体育\",\"site\":\"凤凰\",\"commentNum\":\"0\",\"joi...   \n",
       "29     {\"type\":\"科技\",\"site\":\"新浪\",\"commentNum\":\" 6\",\"jo...   \n",
       "...                                                  ...   \n",
       "89581  {\"type\":\"足球\",\"site\":\"新华社\",\"url\":\"http://home.x...   \n",
       "89582  {\"type\":\"足球\",\"site\":\"新华社\",\"url\":\"http://home.x...   \n",
       "89583  {\"type\":\"足球\",\"site\":\"新华社\",\"url\":\"http://home.x...   \n",
       "89584  {\"type\":\"足球\",\"site\":\"新华社\",\"url\":\"http://home.x...   \n",
       "89585  {\"type\":\"足球\",\"site\":\"新华社\",\"url\":\"http://home.x...   \n",
       "89586  {\"type\":\"足球\",\"site\":\"新华社\",\"url\":\"http://home.x...   \n",
       "89587  {\"type\":\"其它\",\"site\":\"新华社\",\"url\":\"http://home.x...   \n",
       "89588  {\"type\":\"其它\",\"site\":\"新华社\",\"url\":\"http://home.x...   \n",
       "89589  {\"type\":\"其它\",\"site\":\"新华社\",\"url\":\"http://home.x...   \n",
       "89590  {\"type\":\"其它\",\"site\":\"新华社\",\"url\":\"http://home.x...   \n",
       "89591  {\"type\":\"其它\",\"site\":\"新华社\",\"url\":\"http://home.x...   \n",
       "89592  {\"type\":\"其它\",\"site\":\"新华社\",\"url\":\"http://home.x...   \n",
       "89593  {\"type\":\"其它\",\"site\":\"新华社\",\"url\":\"http://home.x...   \n",
       "89594  {\"type\":\"足球\",\"site\":\"新华社\",\"url\":\"http://home.x...   \n",
       "89595  {\"type\":\"足球\",\"site\":\"新华社\",\"url\":\"http://home.x...   \n",
       "89596  {\"type\":\"足球\",\"site\":\"新华社\",\"url\":\"http://home.x...   \n",
       "89597  {\"type\":\"足球\",\"site\":\"新华社\",\"url\":\"http://home.x...   \n",
       "89598  {\"type\":\"足球\",\"site\":\"新华社\",\"url\":\"http://home.x...   \n",
       "89599  {\"type\":\"足球\",\"site\":\"新华社\",\"url\":\"http://home.x...   \n",
       "89600  {\"type\":\"足球\",\"site\":\"新华社\",\"url\":\"http://home.x...   \n",
       "89601  {\"type\":\"足球\",\"site\":\"新华社\",\"url\":\"http://home.x...   \n",
       "89602  {\"type\":\"足球\",\"site\":\"新华社\",\"url\":\"http://home.x...   \n",
       "89603  {\"type\":\"社会\",\"site\":\"新华社\",\"url\":\"http://home.x...   \n",
       "89604  {\"type\":\"社会\",\"site\":\"新华社\",\"url\":\"http://home.x...   \n",
       "89605  {\"type\":\"社会\",\"site\":\"新华社\",\"url\":\"http://home.x...   \n",
       "89606  {\"type\":\"冰球\",\"site\":\"新华社\",\"url\":\"http://home.x...   \n",
       "89607  {\"type\":\"宏观经济\",\"site\":\"新华社\",\"url\":\"http://home...   \n",
       "89608  {\"type\":\"其它\",\"site\":\"新华社\",\"url\":\"http://home.x...   \n",
       "89609  {\"type\":\"其它\",\"site\":\"新华社\",\"url\":\"http://home.x...   \n",
       "89610  {\"type\":\"体育\",\"site\":\"新华社\",\"url\":\"http://home.x...   \n",
       "\n",
       "                               title  \\\n",
       "0               小米MIUI 9首批机型曝光：共计15款   \n",
       "1         骁龙835在Windows 10上的性能表现有望改善   \n",
       "2          一加手机5细节曝光：3300mAh、充半小时用1天   \n",
       "3      葡森林火灾造成至少62人死亡 政府宣布进入紧急状态（组图）   \n",
       "4           44岁女子约网友被拒暴雨中裸奔 交警为其披衣相随   \n",
       "5                     金融股一枝独秀 配置价值犹存   \n",
       "6                配骁龙660 全面屏鼻祖夏普新机酝酿中   \n",
       "7                    博友早评：震荡有利消化套牢筹码   \n",
       "8           武汉千余警察出动 抓获808名俊男靓女全是诈骗犯   \n",
       "9                纳入MSCI指数 A股长期配置价值提升   \n",
       "10              私募：蓝筹风格难切换 业绩估值相配是王道   \n",
       "11            早间机构看市：市场将再次探底 两类股逢低布局   \n",
       "12           因为犯罪现场的一根头发，他坐冤狱41年后终获释   \n",
       "13                     博友午评：风格转换前的阵痛   \n",
       "14              MSCI闯关成功会是A股的一针强心剂吗？   \n",
       "15            地产股拉升难阻市场颓势 三大指数早盘集体跳水   \n",
       "16               Debian 9 Stretch 发布   \n",
       "17                 [及时点]我们不需要“百变老太太”   \n",
       "18                新三板午评：三板做市指数刷新阶段低点   \n",
       "19              机构解析：下周热点板块及个股探秘（附股）   \n",
       "20           美军击落叙战机激怒俄罗斯 俄警告将瞄准美军战机   \n",
       "21                   机构推荐：下周具备布局潜力金股   \n",
       "22              业内人士解释为什么OPPO供货能力强无敌   \n",
       "23                中证午评：A股跳水 蓝筹暂歇热点熄火   \n",
       "24         “齐心协力”--江苏苏宁发布足协杯对阵河南建业海报   \n",
       "25       土耳其近590名士兵疑食物中毒 被送往医院救治（组图）   \n",
       "26          又一自动驾驶公司拿加州路测牌照 这回是王劲的景驰   \n",
       "27         火灾与脱欧炙烤英国首相 特雷莎·梅面临空前政治压力   \n",
       "28           江苏保级真悬了 近3年1铁律证明其几乎保级无望   \n",
       "29            乐视危局：靠卖资产续命 员工被猎头大规模拉黑   \n",
       "...                              ...   \n",
       "89581         [2]（外代二线）足球——世预赛：葡萄牙备战   \n",
       "89582         [3]（外代二线）足球——世预赛：葡萄牙备战   \n",
       "89583         [4]（外代二线）足球——世预赛：葡萄牙备战   \n",
       "89584         [5]（外代二线）足球——世预赛：葡萄牙备战   \n",
       "89585         [6]（外代二线）足球——世预赛：葡萄牙备战   \n",
       "89586         [7]（外代二线）足球——世预赛：葡萄牙备战   \n",
       "89587                  [1]（外代二线）蚕丝生产   \n",
       "89588                  [2]（外代二线）蚕丝生产   \n",
       "89589                  [3]（外代二线）蚕丝生产   \n",
       "89590                  [4]（外代二线）蚕丝生产   \n",
       "89591                  [5]（外代二线）蚕丝生产   \n",
       "89592            “萨德”环评将重启　在韩部署或推迟一年   \n",
       "89593             伊拉克安巴尔省发生自杀式袭击７人死亡   \n",
       "89594       [1]（外代二线）足球——国际友谊赛：德国平丹麦   \n",
       "89595       [3]（外代二线）足球——国际友谊赛：德国平丹麦   \n",
       "89596       [2]（外代二线）足球——国际友谊赛：德国平丹麦   \n",
       "89597       [4]（外代二线）足球——国际友谊赛：德国平丹麦   \n",
       "89598       [6]（外代二线）足球——国际友谊赛：德国平丹麦   \n",
       "89599       [5]（外代二线）足球——国际友谊赛：德国平丹麦   \n",
       "89600       [8]（外代二线）足球——国际友谊赛：德国平丹麦   \n",
       "89601       [7]（外代二线）足球——国际友谊赛：德国平丹麦   \n",
       "89602       [9]（外代二线）足球——国际友谊赛：德国平丹麦   \n",
       "89603      （文化）（1）电影《血战湘江》举行清华大学巡映活动   \n",
       "89604      （文化）（2）电影《血战湘江》举行清华大学巡映活动   \n",
       "89605      （文化）（3）电影《血战湘江》举行清华大学巡映活动   \n",
       "89606   （体育）（2）冰球——国家女子冰球队海外选秀在多伦多展开   \n",
       "89607          （经济）甘肃集中开工35个重点交通建设项目   \n",
       "89608           法国议会选举　马克龙有望获“压倒性胜利”   \n",
       "89609              哈佛大学为何取消这些新生入选资格？   \n",
       "89610                   （体育）题：乒乓女球迷　   \n",
       "\n",
       "                                                     url  \n",
       "0         http://www.cnbeta.com/articles/tech/623597.htm  \n",
       "1         http://www.cnbeta.com/articles/tech/623599.htm  \n",
       "2         http://www.cnbeta.com/articles/tech/623601.htm  \n",
       "3      http://world.huanqiu.com/hot/2017-06/10866126....  \n",
       "4      http://news.163.com/17/0618/00/CN617P3Q0001875...  \n",
       "5      http://www.cs.com.cn/gppd/201706/t20170623_533...  \n",
       "6         http://www.cnbeta.com/articles/tech/623603.htm  \n",
       "7      http://www.cs.com.cn/gppd/201706/t20170623_533...  \n",
       "8      http://news.163.com/17/0614/14/CMT9N8G80001899...  \n",
       "9      http://www.cs.com.cn/gppd/201706/t20170623_533...  \n",
       "10     http://www.cs.com.cn/gppd/201706/t20170623_533...  \n",
       "11     http://www.cs.com.cn/gppd/201706/t20170623_533...  \n",
       "12     http://world.huanqiu.com/hot/2017-06/10866136....  \n",
       "13     http://www.cs.com.cn/gppd/201706/t20170623_533...  \n",
       "14     http://column.cankaoxiaoxi.com/plgd/2017/0623/...  \n",
       "15     http://www.cs.com.cn/gppd/201706/t20170623_533...  \n",
       "16        http://www.cnbeta.com/articles/soft/623605.htm  \n",
       "17     http://column.cankaoxiaoxi.com/plgd/2017/0623/...  \n",
       "18     http://www.cs.com.cn/gppd/201706/t20170623_533...  \n",
       "19     http://www.cs.com.cn/gppd/hyyj/201706/t2017062...  \n",
       "20     http://mil.news.sina.com.cn/world/2017-06-20/d...  \n",
       "21     http://www.cs.com.cn/gppd/tzpj/201706/t2017062...  \n",
       "22        http://www.cnbeta.com/articles/tech/623607.htm  \n",
       "23     http://www.cs.com.cn/gppd/201706/t20170623_533...  \n",
       "24     http://sports.ifeng.com/a/20170620/51284188_0....  \n",
       "25     http://world.huanqiu.com/hot/2017-06/10866176....  \n",
       "26        http://www.cnbeta.com/articles/tech/623609.htm  \n",
       "27     http://world.huanqiu.com/hot/2017-06/10866198....  \n",
       "28     http://sports.ifeng.com/a/20170620/51284719_0....  \n",
       "29     http://tech.sina.com.cn/i/2017-06-20/doc-ifyhf...  \n",
       "...                                                  ...  \n",
       "89581  http://home.xinhua-news.com/gdsdetailxhsnew/22...  \n",
       "89582  http://home.xinhua-news.com/gdsdetailxhsnew/22...  \n",
       "89583  http://home.xinhua-news.com/gdsdetailxhsnew/22...  \n",
       "89584  http://home.xinhua-news.com/gdsdetailxhsnew/22...  \n",
       "89585  http://home.xinhua-news.com/gdsdetailxhsnew/22...  \n",
       "89586  http://home.xinhua-news.com/gdsdetailxhsnew/22...  \n",
       "89587  http://home.xinhua-news.com/gdsdetailxhsnew/22...  \n",
       "89588  http://home.xinhua-news.com/gdsdetailxhsnew/22...  \n",
       "89589  http://home.xinhua-news.com/gdsdetailxhsnew/22...  \n",
       "89590  http://home.xinhua-news.com/gdsdetailxhsnew/22...  \n",
       "89591  http://home.xinhua-news.com/gdsdetailxhsnew/22...  \n",
       "89592  http://home.xinhua-news.com/gdsdetailxhsnew/22...  \n",
       "89593  http://home.xinhua-news.com/gdsdetailxhsnew/22...  \n",
       "89594  http://home.xinhua-news.com/gdsdetailxhsnew/22...  \n",
       "89595  http://home.xinhua-news.com/gdsdetailxhsnew/22...  \n",
       "89596  http://home.xinhua-news.com/gdsdetailxhsnew/22...  \n",
       "89597  http://home.xinhua-news.com/gdsdetailxhsnew/22...  \n",
       "89598  http://home.xinhua-news.com/gdsdetailxhsnew/22...  \n",
       "89599  http://home.xinhua-news.com/gdsdetailxhsnew/22...  \n",
       "89600  http://home.xinhua-news.com/gdsdetailxhsnew/22...  \n",
       "89601  http://home.xinhua-news.com/gdsdetailxhsnew/22...  \n",
       "89602  http://home.xinhua-news.com/gdsdetailxhsnew/22...  \n",
       "89603  http://home.xinhua-news.com/gdsdetailxhsnew/22...  \n",
       "89604  http://home.xinhua-news.com/gdsdetailxhsnew/22...  \n",
       "89605  http://home.xinhua-news.com/gdsdetailxhsnew/22...  \n",
       "89606  http://home.xinhua-news.com/gdsdetailxhsnew/22...  \n",
       "89607  http://home.xinhua-news.com/gdsdetailxhsnew/22...  \n",
       "89608  http://home.xinhua-news.com/gdsdetailxhsnew/22...  \n",
       "89609  http://home.xinhua-news.com/gdsdetailxhsnew/22...  \n",
       "89610  http://home.xinhua-news.com/gdsdetailxhsnew/22...  \n",
       "\n",
       "[89611 rows x 7 columns]"
      ]
     },
     "execution_count": 6,
     "metadata": {},
     "output_type": "execute_result"
    }
   ],
   "source": [
    "dataframe"
   ]
  },
  {
   "cell_type": "code",
   "execution_count": 7,
   "metadata": {},
   "outputs": [],
   "source": [
    "all_articles = dataframe['content'].tolist()"
   ]
  },
  {
   "cell_type": "code",
   "execution_count": 8,
   "metadata": {},
   "outputs": [
    {
     "data": {
      "text/plain": [
       "['此外，自本周（6月12日）起，除小米手机6等15款机型外，其余机型已暂停更新发布（含开发版/体验版内测，稳定版暂不受影响），以确保工程师可以集中全部精力进行系统优化工作。有人猜测这也是将精力主要用到MIUI 9的研发之中。\\r\\nMIUI 8去年5月发布，距今已有一年有余，也是时候更新换代了。\\r\\n当然，关于MIUI 9的确切信息，我们还是等待官方消息。\\r\\n',\n",
       " '骁龙835作为唯一通过Windows 10桌面平台认证的ARM处理器，高通强调，不会因为只考虑性能而去屏蔽掉小核心。相反，他们正联手微软，找到一种适合桌面平台的、兼顾性能和功耗的完美方案。\\r\\n报道称，微软已经拿到了一些新的源码，以便Windows 10更好地理解big.little架构。\\r\\n资料显示，骁龙835作为一款集成了CPU、GPU、基带、蓝牙/Wi-Fi的SoC，比传统的Wintel方案可以节省至少30%的PCB空间。\\r\\n按计划，今年Q4，华硕、惠普、联想将首发骁龙835 Win10电脑，预计均是二合一形态的产品。\\r\\n当然，高通骁龙只是个开始，未来也许还能见到三星Exynos、联发科、华为麒麟、小米澎湃等进入Windows 10桌面平台。\\r\\n',\n",
       " '此前的一加3T搭载的是3400mAh电池，DashCharge快充规格为5V/4A。\\r\\n至于电池缩水，可能与刘作虎所说，一加手机5要做市面最轻薄大屏旗舰的设定有关。\\r\\n按照目前掌握的资料，一加手机5拥有5.5寸1080P三星AMOLED显示屏、6G/8GB RAM，64GB/128GB ROM，双1600万摄像头，备货量“惊喜”。\\r\\n根据京东泄露的信息，一加5起售价是xx99元，应该是在2799/2899/2999中的某个。\\r\\n',\n",
       " '这是6月18日在葡萄牙中部大佩德罗冈地区拍摄的被森林大火烧毁的汽车。新华社记者张立云摄\\r\\n',\n",
       " '（原标题：44岁女子跑深圳约会网友被拒，暴雨中裸身奔走……）\\r\\n@深圳交警微博称：昨日清晨交警发现有一女子赤裸上身，行走在南坪快速上，期间还起了轻生年头，一辅警发现后赶紧为其披上黄衣，并一路劝说她。\\r\\n那么事发时\\r\\n到底都发生了些什么呢？\\r\\n南都记者带您一起还原现场\\r\\n南都记者在龙岗大队坂田中队见到了辅警刘青（发现女生的辅警），一位外表高大帅气，说话略带些腼腆的90后青年。\\r\\n刘青介绍，6月16日早上7时36分，他正在环城南路附近值勤，接到中队关于一位女子裸身进入机动车可能有危险的警情，随后骑着小铁骑开始沿路寻找，大概花了十多分钟在南坪大道坂田出口往龙岗方向的逆行辅道上发现该女子。\\r\\n女子身上一丝不挂地逆车流而行，时走时停，时坐时躺，险象环生。刘青停好小铁骑，和另外一名巡防员追了上去，发现女子的情绪很低落，话不多，刘青尝试和女子交流，劝说女子离开，可女子并不愿意接受，继续缓慢地往南坪快速路的主干道上走去。\\r\\n此时路边上已经聚集了很市民围观，为了不刺激女子的情绪，刘青和巡防员一边盯着女子一边驱赶着围观的群众。\\r\\n现场还原\\r\\n从警方提供的一份视频了解到，16日早上7时25分，女子出现在坂雪岗大道与环城南路的监控视频中，此时女子还穿着白色的内裤，正沿着坂雪岗大道往南坪快速的方向缓慢地走着。\\r\\n当时正值上班高峰期，十字路口的车流已经排起了长队。当女子出现时，路上的市民纷纷驻足观望，不少车辆也放慢了速度，但女子并不为市民观望停下脚步，依然缓慢走着。当女子行进到十字路口中间时，一辆大货车挡住了镜头，但是当女子再次出现镜头时，可以发现女子已经没穿内裤了，全身裸露继续朝着南坪快速方向走去。记者发现，视频中女子周围并没有人尾随或者上前劝止的市民。\\r\\n一大清早路上看到这样的情况\\r\\n恐怕大家都没办法淡定\\r\\n面对这一情况\\r\\n刘青表示，“一开始根本不敢看她，心里挺别扭，感觉很尴尬”，但当刘青跟随女子上了南坪快速路主干道时，女子作出了让人意想不到的举动，她突然靠近护栏要从上面跳下去，刘青赶忙冲上去拉住了女子的手，将其控制住并远离护栏。碍于女子没有穿衣服，刘青递上衣服，女子没接受还把衣服扔到排水沟里，继续往前走，没办法刘青只能紧紧拉着她的一只手跟在后面。\\r\\n刘青一路上耐心地开导安慰她，但只听到她不断地重复着一句话“要是你也遭遇我的事，你也会这样的”，期间她还不时试图挣脱刘青的手要冲向护栏往下跳。\\r\\n就这样，我被牵着走了大概十多分钟，天突然下起了大暴雨，雨大的连眼睛都睁不开”刘青继续说着，瞬间他们就被雨透了，但女子依然不愿意接受刘青的帮助，就继续冒着大雨往前走。\\r\\n大概走了有四十分钟吧，女子突然停下来说“我想回家了”，然后女子也接受了刘青递过来的小黄衣，就出现了深圳微博上的照片，女子披着小黄衣，刘青小心翼翼地在旁边走着的场景。从南平快速下来后，刘青和巡防员将女子带到了附近的坂田派出所。\\r\\n那姑娘到底是遭遇了什么样的事情\\r\\n才会说\\r\\n“要是你也遭遇我的事，你也会这样”\\r\\n据警方透露，该女子姓陈，系湖北人，今年44岁，据家属反映其有精神病史。三天前，陈某从老家来深圳约会网友，但约会受挫导致情绪异常，女子遂产生轻生念头。\\r\\n目前\\r\\n陈某已经被送往深圳某精神病医院进行治疗\\r\\n大大君只希望姑娘能早点康复\\r\\n其实真爱的到来并不存在年龄的限制\\r\\n你们说呢？\\r\\n因善良的原因\\r\\n一众网友纷纷为\\r\\n交警暖男点ZAN\\r\\n@弓常yan桦：就想问这个小哥哥有女票吗\\r\\n@原谅我这一辈子浪荡不羁爱萨摩耶：有什么过不去的要轻生嘛？ 想想自己的家人。同时也感谢交警蜀黍\\r\\n@火心聆听心灵：点赞交警\\r\\n@中華云盾：警察……警察就是群众最需时申出援手\\r\\n@Tomchlee：蜀黍帅！\\r\\n@SJ-李赫海i：这个交警很暖有木有！\\r\\n男子迷奸网友拍418个视频 女方从20岁到50岁不等\\r\\n去年6月7号上午，淮安市涟水县公安局刑警大队突然接到了一个奇怪的报警电话，一名女子言语不清，声称自己遭到了侵害。女子、被侵害、言语不清，几个关键词令接到电话的民警瞬间紧张起来。\\r\\n']"
      ]
     },
     "execution_count": 8,
     "metadata": {},
     "output_type": "execute_result"
    }
   ],
   "source": [
    "all_articles[:5]"
   ]
  },
  {
   "cell_type": "code",
   "execution_count": 9,
   "metadata": {},
   "outputs": [],
   "source": [
    "import re"
   ]
  },
  {
   "cell_type": "code",
   "execution_count": 10,
   "metadata": {},
   "outputs": [],
   "source": [
    "def token(string):\n",
    "    return ' '.join(re.findall('[\\w|\\d]+', string))"
   ]
  },
  {
   "cell_type": "code",
   "execution_count": 11,
   "metadata": {},
   "outputs": [],
   "source": [
    "string = '***&& %%## this is a BIGGGGGGGGG thing BI and BIGGGGGGGGGGGGGGGGGGGGGGGGGGGGGGGGGGGGGGGGgg'"
   ]
  },
  {
   "cell_type": "code",
   "execution_count": 12,
   "metadata": {},
   "outputs": [
    {
     "data": {
      "text/plain": [
       "'6月21日 A股纳入MSCI指数尘埃落定 但当天被寄予厚望的券商股并未扛起反弹大旗 22日 在222只纳入MSCI指数的A股股票中 银行股全线飘红 其中招商银行领涨 涨幅达6 66'"
      ]
     },
     "execution_count": 12,
     "metadata": {},
     "output_type": "execute_result"
    }
   ],
   "source": [
    "token('\\u3000\\u30006月21日，A股纳入MSCI指数尘埃落定，但当天被寄予厚望的券商股并未扛起反弹大旗。22日，在222只纳入MSCI指数的A股股票中，银行股全线飘红，其中招商银行领涨，涨幅达6.66%')"
   ]
  },
  {
   "cell_type": "code",
   "execution_count": 13,
   "metadata": {},
   "outputs": [],
   "source": [
    "all_articles = [token(str(a)) for a in all_articles]"
   ]
  },
  {
   "cell_type": "code",
   "execution_count": 14,
   "metadata": {},
   "outputs": [
    {
     "data": {
      "text/plain": [
       "['此外 自本周 6月12日 起 除小米手机6等15款机型外 其余机型已暂停更新发布 含开发版 体验版内测 稳定版暂不受影响 以确保工程师可以集中全部精力进行系统优化工作 有人猜测这也是将精力主要用到MIUI 9的研发之中 MIUI 8去年5月发布 距今已有一年有余 也是时候更新换代了 当然 关于MIUI 9的确切信息 我们还是等待官方消息',\n",
       " '骁龙835作为唯一通过Windows 10桌面平台认证的ARM处理器 高通强调 不会因为只考虑性能而去屏蔽掉小核心 相反 他们正联手微软 找到一种适合桌面平台的 兼顾性能和功耗的完美方案 报道称 微软已经拿到了一些新的源码 以便Windows 10更好地理解big little架构 资料显示 骁龙835作为一款集成了CPU GPU 基带 蓝牙 Wi Fi的SoC 比传统的Wintel方案可以节省至少30 的PCB空间 按计划 今年Q4 华硕 惠普 联想将首发骁龙835 Win10电脑 预计均是二合一形态的产品 当然 高通骁龙只是个开始 未来也许还能见到三星Exynos 联发科 华为麒麟 小米澎湃等进入Windows 10桌面平台']"
      ]
     },
     "execution_count": 14,
     "metadata": {},
     "output_type": "execute_result"
    }
   ],
   "source": [
    "all_articles[:2]"
   ]
  },
  {
   "cell_type": "code",
   "execution_count": 15,
   "metadata": {},
   "outputs": [
    {
     "name": "stdout",
     "output_type": "stream",
     "text": [
      "length of text: 37412506\n"
     ]
    }
   ],
   "source": [
    "text = ''\n",
    "\n",
    "for a in all_articles:\n",
    "    text += a\n",
    "print('length of text: {}'.format(len(text)))"
   ]
  },
  {
   "cell_type": "code",
   "execution_count": 16,
   "metadata": {},
   "outputs": [],
   "source": [
    "TEXT = text"
   ]
  },
  {
   "cell_type": "code",
   "execution_count": 17,
   "metadata": {},
   "outputs": [],
   "source": [
    "from functools import reduce\n"
   ]
  },
  {
   "cell_type": "code",
   "execution_count": 18,
   "metadata": {},
   "outputs": [],
   "source": [
    "txt_from_reduce = reduce(lambda a1, a2: a1 + a2, all_articles[:10])\n"
   ]
  },
  {
   "cell_type": "markdown",
   "metadata": {},
   "source": [
    "# 正则表达式"
   ]
  },
  {
   "cell_type": "markdown",
   "metadata": {},
   "source": [
    "### 正则表达式在线联系网址： https://regexone.com/"
   ]
  },
  {
   "cell_type": "code",
   "execution_count": 19,
   "metadata": {},
   "outputs": [],
   "source": [
    "pattern = '\\w+'"
   ]
  },
  {
   "cell_type": "code",
   "execution_count": 20,
   "metadata": {},
   "outputs": [
    {
     "data": {
      "text/plain": [
       "['this',\n",
       " 'is',\n",
       " 'a',\n",
       " 'BIGGGGGGGGG',\n",
       " 'thing',\n",
       " 'BI',\n",
       " 'and',\n",
       " 'BIGGGGGGGGGGGGGGGGGGGGGGGGGGGGGGGGGGGGGGGGgg']"
      ]
     },
     "execution_count": 20,
     "metadata": {},
     "output_type": "execute_result"
    }
   ],
   "source": [
    "re.findall(pattern, string)"
   ]
  },
  {
   "cell_type": "code",
   "execution_count": 21,
   "metadata": {},
   "outputs": [],
   "source": [
    "import requests"
   ]
  },
  {
   "cell_type": "code",
   "execution_count": 22,
   "metadata": {},
   "outputs": [],
   "source": [
    "url = 'https://movie.douban.com/'"
   ]
  },
  {
   "cell_type": "code",
   "execution_count": 23,
   "metadata": {},
   "outputs": [],
   "source": [
    "response = requests.get(url)"
   ]
  },
  {
   "cell_type": "code",
   "execution_count": 24,
   "metadata": {},
   "outputs": [],
   "source": [
    "url_pattern = re.compile('https://movie.douban.com/subject/\\d+/\\?from=showing')"
   ]
  },
  {
   "cell_type": "code",
   "execution_count": 25,
   "metadata": {},
   "outputs": [],
   "source": [
    "image_pattern = re.compile('https://img3.doubanio.com/view/photo/s_ratio_poster/public/\\w\\d+.\\w+')"
   ]
  },
  {
   "cell_type": "code",
   "execution_count": 26,
   "metadata": {},
   "outputs": [],
   "source": [
    "html_content = response.text"
   ]
  },
  {
   "cell_type": "code",
   "execution_count": 27,
   "metadata": {},
   "outputs": [
    {
     "data": {
      "text/plain": [
       "'<!DOCTYPE html>\\n<html lang=\"zh-cmn-Hans\" class=\"\">\\n<head>\\n    <meta http-equiv=\"Content-Type\" content=\"text/html; charset=utf-8\">\\n    <meta name=\"renderer\" content=\"webkit\">\\n    <meta name=\"referrer\" content=\"always\">\\n    <meta name=\"google-site-verification\" content=\"ok0wCgT20tBBgo9_zat2iAcimtN4Ftf5ccsh092Xeyw\" />\\n    <title>\\n        豆瓣电影\\n</title>\\n    \\n    <meta name=\"baidu-site-verification\" content=\"cZdR4xxR7RxmM4zE\" />\\n    <meta http-equiv=\"Pragma\" content=\"no-cache\">\\n    <meta http-equiv=\"Expires\" content=\"Sun, 6 Mar 2005 01:00:00 GMT\">\\n    \\n    <meta http-equiv=\"mobile-agent\" content=\"format=xhtml; url=http://m.douban.com/movie/\">\\n    <meta property=\"qc:admins\" content=\"13753521351564752166375\" />\\n    \\n    \\n    <meta name=\"keywords\" content=\"电影、经典电影、热映、电视剧、美剧、影评、电影院、电影票、排行、推荐\"/>\\n    <meta name=\"description\" content=\"豆瓣电影提供最新的电影介绍及评论包括上映影片的影讯查询及购票服务。你可以记录想看、在看和看过的电影电视剧，顺便打分、写影评。根据你的口味，豆瓣电影会推荐好电影给你。\" />\\n\\n    <link rel=\"apple-touch-icon\" href=\"https://img3.doubanio.com/f/movie/d59b2715fdea4968a450ee5f6c95c7d7a2030065/pics/movie/apple-touch-icon.png\">\\n    <link href=\"https://img3.doubanio.com/f/shire/bf61b1fa02f564a4a8f809da7c7179b883a56146/css/douban.css\" rel=\"stylesheet\" type=\"text/css\">\\n    <link href=\"https://img3.doubanio.com/f/shire/ae3f5a3e3085968370b1fc63afcecb22d3284848/css/separation/_all.css\" rel=\"stylesheet\" type=\"text/css\">\\n    <link href=\"https://img3.doubanio.com/f/movie/8864d3756094f5272d3c93e30ee2e324665855b0/css/movie/base/init.css\" rel=\"stylesheet\">\\n    <script type=\"text/javascript\">var _head_start = new Date();</script>\\n    <script type=\"text/javascript\" src=\"https://img3.doubanio.com/f/movie/0495cb173e298c28593766009c7b0a953246c5b5/js/movie/lib/jquery.js\"></script>\\n    <script type=\"text/javascript\" src=\"https://img3.doubanio.com/f/shire/c7db1e57a6f6aebaa1d8ca83a62a94904c19df95/js/douban.js\"></script>\\n    <script type=\"text/javascript\" src=\"https://img3.doubanio.com/f/shire/0efdc63b77f895eaf85281fb0e44d435c6239a3f/js/separation/_all.js\"></script>\\n    \\n    <link rel=\"stylesheet\" href=\"https://img3.doubanio.com/f/movie/587856b78f46ea9f546a570724e03591afb37cfa/css/movie/home.css\" />\\n    <script type=\"text/javascript\" src=\"https://img3.doubanio.com/f/shire/77323ae72a612bba8b65f845491513ff3329b1bb/js/do.js\" data-cfg-autoload=\"false\"    ></script>\\n    <script>\\n        Do.global(\\'https://img3.doubanio.com/f/shire/0e82fba9c90a7daffc62dd2f80b23ff31c5e4739/js/separation/prettyfield.js\\');\\n        Do.global(\\'https://img3.doubanio.com/f/shire/aef14a3cb852be78af0d48b0534beeea33035c0f/js/core/moreurl.js\\');\\n    </script>\\n    \\n  <script type=\\'text/javascript\\'>\\n  var _vwo_code = (function() {\\n    var account_id = 249272,\\n      settings_tolerance = 0,\\n      library_tolerance = 2500,\\n      use_existing_jquery = false,\\n      // DO NOT EDIT BELOW THIS LINE\\n      f=false,d=document;return{use_existing_jquery:function(){return use_existing_jquery;},library_tolerance:function(){return library_tolerance;},finish:function(){if(!f){f=true;var a=d.getElementById(\\'_vis_opt_path_hides\\');if(a)a.parentNode.removeChild(a);}},finished:function(){return f;},load:function(a){var b=d.createElement(\\'script\\');b.src=a;b.type=\\'text/javascript\\';b.innerText;b.onerror=function(){_vwo_code.finish();};d.getElementsByTagName(\\'head\\')[0].appendChild(b);},init:function(){settings_timer=setTimeout(\\'_vwo_code.finish()\\',settings_tolerance);var a=d.createElement(\\'style\\'),b=\\'body{opacity:0 !important;filter:alpha(opacity=0) !important;background:none !important;}\\',h=d.getElementsByTagName(\\'head\\')[0];a.setAttribute(\\'id\\',\\'_vis_opt_path_hides\\');a.setAttribute(\\'type\\',\\'text/css\\');if(a.styleSheet)a.styleSheet.cssText=b;else a.appendChild(d.createTextNode(b));h.appendChild(a);this.load(\\'//dev.visualwebsiteoptimizer.com/j.php?a=\\'+account_id+\\'&u=\\'+encodeURIComponent(d.URL)+\\'&r=\\'+Math.random());return settings_timer;}};}());\\n\\n  +function () {\\n    var bindEvent = function (el, type, handler) {\\n        var $ = window.jQuery || window.Zepto || window.$\\n       if ($ && $.fn && $.fn.on) {\\n           $(el).on(type, handler)\\n       } else if($ && $.fn && $.fn.bind) {\\n           $(el).bind(type, handler)\\n       } else if (el.addEventListener){\\n         el.addEventListener(type, handler, false);\\n       } else if (el.attachEvent){\\n         el.attachEvent(\"on\" + type, handler);\\n       } else {\\n         el[\"on\" + type] = handler;\\n       }\\n     }\\n\\n    var _origin_load = _vwo_code.load\\n    _vwo_code.load = function () {\\n      var args = [].slice.call(arguments)\\n      bindEvent(window, \\'load\\', function () {\\n        _origin_load.apply(_vwo_code, args)\\n      })\\n    }\\n  }()\\n\\n  _vwo_settings_timer = _vwo_code.init();\\n  </script>\\n\\n\\n    <style type=\"text/css\"></style>\\n    <style type=\"text/css\">img { max-width: 100%; }</style>\\n    <script type=\"text/javascript\"></script>\\n    <link rel=\"stylesheet\" href=\"https://img3.doubanio.com/misc/mixed_static/11d137da675bd116.css\">\\n\\n    <link rel=\"shortcut icon\" href=\"https://img3.doubanio.com/favicon.ico\" type=\"image/x-icon\">\\n</head>\\n\\n<body>\\n  \\n    <script type=\"text/javascript\">var _body_start = new Date();</script>\\n\\n    \\n    \\n\\n\\n\\n    <link href=\"//img3.doubanio.com/dae/accounts/resources/0246c88/shire/bundle.css\" rel=\"stylesheet\" type=\"text/css\">\\n\\n\\n\\n<div id=\"db-global-nav\" class=\"global-nav\">\\n  <div class=\"bd\">\\n    \\n<div class=\"top-nav-info\">\\n  <a href=\"https://accounts.douban.com/passport/login?source=movie\" class=\"nav-login\" rel=\"nofollow\">登录/注册</a>\\n</div>\\n\\n\\n    <div class=\"top-nav-doubanapp\">\\n  <a href=\"https://www.douban.com/doubanapp/app?channel=top-nav\" class=\"lnk-doubanapp\">下载豆瓣客户端</a>\\n  <div id=\"doubanapp-tip\">\\n    <a href=\"https://www.douban.com/doubanapp/app?channel=qipao\" class=\"tip-link\">豆瓣 <span class=\"version\">6.0</span> 全新发布</a>\\n    <a href=\"javascript: void 0;\" class=\"tip-close\">×</a>\\n  </div>\\n  <div id=\"top-nav-appintro\" class=\"more-items\">\\n    <p class=\"appintro-title\">豆瓣</p>\\n    <p class=\"qrcode\">扫码直接下载</p>\\n    <div class=\"download\">\\n      <a href=\"https://www.douban.com/doubanapp/redirect?channel=top-nav&direct_dl=1&download=iOS\">iPhone</a>\\n      <span>·</span>\\n      <a href=\"https://www.douban.com/doubanapp/redirect?channel=top-nav&direct_dl=1&download=Android\" class=\"download-android\">Android</a>\\n    </div>\\n  </div>\\n</div>\\n\\n    \\n\\n\\n<div class=\"global-nav-items\">\\n  <ul>\\n    <li class=\"\">\\n      <a href=\"https://www.douban.com\" target=\"_blank\" data-moreurl-dict=\"{&quot;from&quot;:&quot;top-nav-click-main&quot;,&quot;uid&quot;:&quot;0&quot;}\">豆瓣</a>\\n    </li>\\n    <li class=\"\">\\n      <a href=\"https://book.douban.com\" target=\"_blank\" data-moreurl-dict=\"{&quot;from&quot;:&quot;top-nav-click-book&quot;,&quot;uid&quot;:&quot;0&quot;}\">读书</a>\\n    </li>\\n    <li class=\"on\">\\n      <a href=\"https://movie.douban.com\"  data-moreurl-dict=\"{&quot;from&quot;:&quot;top-nav-click-movie&quot;,&quot;uid&quot;:&quot;0&quot;}\">电影</a>\\n    </li>\\n    <li class=\"\">\\n      <a href=\"https://music.douban.com\" target=\"_blank\" data-moreurl-dict=\"{&quot;from&quot;:&quot;top-nav-click-music&quot;,&quot;uid&quot;:&quot;0&quot;}\">音乐</a>\\n    </li>\\n    <li class=\"\">\\n      <a href=\"https://www.douban.com/location\" target=\"_blank\" data-moreurl-dict=\"{&quot;from&quot;:&quot;top-nav-click-location&quot;,&quot;uid&quot;:&quot;0&quot;}\">同城</a>\\n    </li>\\n    <li class=\"\">\\n      <a href=\"https://www.douban.com/group\" target=\"_blank\" data-moreurl-dict=\"{&quot;from&quot;:&quot;top-nav-click-group&quot;,&quot;uid&quot;:&quot;0&quot;}\">小组</a>\\n    </li>\\n    <li class=\"\">\\n      <a href=\"https://read.douban.com&#47;?dcs=top-nav&amp;dcm=douban\" target=\"_blank\" data-moreurl-dict=\"{&quot;from&quot;:&quot;top-nav-click-read&quot;,&quot;uid&quot;:&quot;0&quot;}\">阅读</a>\\n    </li>\\n    <li class=\"\">\\n      <a href=\"https://douban.fm&#47;?from_=shire_top_nav\" target=\"_blank\" data-moreurl-dict=\"{&quot;from&quot;:&quot;top-nav-click-fm&quot;,&quot;uid&quot;:&quot;0&quot;}\">FM</a>\\n    </li>\\n    <li class=\"\">\\n      <a href=\"https://time.douban.com&#47;?dt_time_source=douban-web_top_nav\" target=\"_blank\" data-moreurl-dict=\"{&quot;from&quot;:&quot;top-nav-click-time&quot;,&quot;uid&quot;:&quot;0&quot;}\">时间</a>\\n    </li>\\n    <li class=\"\">\\n      <a href=\"https://market.douban.com&#47;?utm_campaign=douban_top_nav&amp;utm_source=douban&amp;utm_medium=pc_web\" target=\"_blank\" data-moreurl-dict=\"{&quot;from&quot;:&quot;top-nav-click-market&quot;,&quot;uid&quot;:&quot;0&quot;}\">豆品</a>\\n    </li>\\n    <li>\\n      <a href=\"#more\" class=\"bn-more\"><span>更多</span></a>\\n      <div class=\"more-items\">\\n        <table cellpadding=\"0\" cellspacing=\"0\">\\n          <tbody>\\n            <tr>\\n              <td>\\n                <a href=\"https://ypy.douban.com\" target=\"_blank\" data-moreurl-dict=\"{&quot;from&quot;:&quot;top-nav-click-ypy&quot;,&quot;uid&quot;:&quot;0&quot;}\">豆瓣摄影</a>\\n              </td>\\n            </tr>\\n          </tbody>\\n        </table>\\n      </div>\\n    </li>\\n  </ul>\\n</div>\\n\\n  </div>\\n</div>\\n<script>\\n  ;window._GLOBAL_NAV = {\\n    DOUBAN_URL: \"https://www.douban.com\",\\n    N_NEW_NOTIS: 0,\\n    N_NEW_DOUMAIL: 0\\n  };\\n</script>\\n\\n\\n\\n    <script src=\"//img3.doubanio.com/dae/accounts/resources/0246c88/shire/bundle.js\" defer=\"defer\"></script>\\n\\n\\n\\n\\n    \\n\\n\\n\\n    <link href=\"//img3.doubanio.com/dae/accounts/resources/0246c88/movie/bundle.css\" rel=\"stylesheet\" type=\"text/css\">\\n\\n\\n\\n\\n<div id=\"db-nav-movie\" class=\"nav\">\\n  <div class=\"nav-wrap\">\\n  <div class=\"nav-primary\">\\n    <div class=\"nav-logo\">\\n      <a href=\"https:&#47;&#47;movie.douban.com\">豆瓣电影</a>\\n    </div>\\n    <div class=\"nav-search\">\\n      <form action=\"https:&#47;&#47;movie.douban.com/subject_search\" method=\"get\">\\n        <fieldset>\\n          <legend>搜索：</legend>\\n          <label for=\"inp-query\">\\n          </label>\\n          <div class=\"inp\"><input id=\"inp-query\" name=\"search_text\" size=\"22\" maxlength=\"60\" placeholder=\"搜索电影、电视剧、综艺、影人\" value=\"\"></div>\\n          <div class=\"inp-btn\"><input type=\"submit\" value=\"搜索\"></div>\\n          <input type=\"hidden\" name=\"cat\" value=\"1002\" />\\n        </fieldset>\\n      </form>\\n    </div>\\n  </div>\\n  </div>\\n  <div class=\"nav-secondary\">\\n    \\n\\n<div class=\"nav-items\">\\n  <ul>\\n    <li    ><a href=\"https://movie.douban.com/cinema/nowplaying/\"\\n     >影讯&购票</a>\\n    </li>\\n    <li    ><a href=\"https://movie.douban.com/explore\"\\n     >选电影</a>\\n    </li>\\n    <li    ><a href=\"https://movie.douban.com/tv/\"\\n     >电视剧</a>\\n    </li>\\n    <li    ><a href=\"https://movie.douban.com/chart\"\\n     >排行榜</a>\\n    </li>\\n    <li    ><a href=\"https://movie.douban.com/tag/\"\\n     >分类</a>\\n    </li>\\n    <li    ><a href=\"https://movie.douban.com/review/best/\"\\n     >影评</a>\\n    </li>\\n    <li    ><a href=\"https://movie.douban.com/annual/2018?source=navigation\"\\n     >2018年度榜单</a>\\n    </li>\\n    <li    ><a href=\"https://www.douban.com/standbyme/2018?source=navigation\"\\n     >2018书影音报告</a>\\n    </li>\\n  </ul>\\n</div>\\n\\n    <a href=\"https://movie.douban.com/annual/2018?source=movie_navigation\" class=\"movieannual2018\"></a>\\n  </div>\\n</div>\\n\\n<script id=\"suggResult\" type=\"text/x-jquery-tmpl\">\\n  <li data-link=\"{{= url}}\">\\n            <a href=\"{{= url}}\" onclick=\"moreurl(this, {from:\\'movie_search_sugg\\', query:\\'{{= keyword }}\\', subject_id:\\'{{= id}}\\', i: \\'{{= index}}\\', type: \\'{{= type}}\\'})\">\\n            <img src=\"{{= img}}\" width=\"40\" />\\n            <p>\\n                <em>{{= title}}</em>\\n                {{if year}}\\n                    <span>{{= year}}</span>\\n                {{/if}}\\n                {{if sub_title}}\\n                    <br /><span>{{= sub_title}}</span>\\n                {{/if}}\\n                {{if address}}\\n                    <br /><span>{{= address}}</span>\\n                {{/if}}\\n                {{if episode}}\\n                    {{if episode==\"unknow\"}}\\n                        <br /><span>集数未知</span>\\n                    {{else}}\\n                        <br /><span>共{{= episode}}集</span>\\n                    {{/if}}\\n                {{/if}}\\n            </p>\\n        </a>\\n        </li>\\n  </script>\\n\\n\\n\\n\\n    <script src=\"//img3.doubanio.com/dae/accounts/resources/0246c88/movie/bundle.js\" defer=\"defer\"></script>\\n\\n\\n\\n\\n\\n    \\n    <div id=\"wrapper\">\\n        \\n\\n        \\n    <div id=\"content\">\\n        \\n\\n        <div class=\"grid-16-8 clearfix\">\\n            \\n    <div id=\"dale_movie_homepage_top_large\"></div>\\n\\n            \\n            <div class=\"article\">\\n                \\n    <div id=\"dale_movie_home_main_top\"></div>\\n\\n    <script id=\"db-tmpl-subject-tip\" type=\"text/x-jquery-tmpl\">\\n        <div id=\"subject-tip\">\\n            <div class=\"subject-tip-hd\">\\n                <h3>{{= title}}<span class=\"release-year\">{{= release}}</span></h3>\\n                <p class=\"star\">\\n                    <span class=\"allstar{{= star}}\"></span>\\n                    {{if star != \\'00\\' }}\\n                        <span class=\"subject-rating\">{{= parseFloat(rate).toFixed(1)}}</span>\\n                    {{/if}}\\n                    {{if enough}}\\n                        <span class=\"rater-num\">({{= rater}}人评价)</span>\\n                    {{/if}}\\n                </p>\\n            </div>\\n            <div class=\"subject-tip-bd\">\\n                <ul>\\n                    <li><span>{{= duration}}</span><span>{{= type}}</span><span>{{= region}}</span></li>\\n                    <li class=\"director\"><span class=\"label\">导演</span><span>{{= director}}</span></li>\\n                    <li class=\"actors\"><span class=\"label\">主演</span><span>{{= actors}}</span></li>\\n                </ul>\\n                {{if intro}}\\n                    <div class=\"subject-intro\">\\n                        {{= intro}}\\n                    </div>\\n                {{/if}}\\n            </div>\\n        </div>\\n    </script>\\n\\n    \\n\\n    \\n    \\n    \\n    <div id=\"screening\" class=\"s\" data-dstat-areaid=\"70\" data-dstat-mode=\"click,expose\">\\n        <div class=\"screening-hd\">\\n                <div class=\"ui-slide-control\">\\n                    <span class=\"prev-btn\"><a class=\"btn-prev\" href=\"javascript:void(0)\"></a></span>\\n                    <span class=\"next-btn\"><a class=\"btn-next\" href=\"javascript:void(0)\"></a></span>\\n                </div>\\n                <div class=\"slide-tip\"><span class=\"ui-slide-index\">1</span> / <span class=\"ui-slide-max\">5</span></div>\\n            <h2>正在热映<span><a onclick=\"moreurl(this, {from:\\'mv_l_a\\'})\" href=\"/cinema/nowplaying/\">全部正在热映&raquo;</a></span><span><a onclick=\"moreurl(this, {from:\\'mv_l_w\\'})\" href=\"./later/\">即将上映&raquo;</a></span></h2>\\n        </div>\\n        <div class=\"screening-bd\">\\n            <ul class=\"ui-slide-content\" data-slide-index=\"1\" data-index-max=\"5\">\\n                        \\n                        \\n                    <li class=\"ui-slide-item s\" data-dstat-areaid=70_1 data-dstat-mode=click,expose data-dstat-watch=.ui-slide-content data-dstat-viewport=.screening-bd data-title=\"反贪风暴4 P風暴\" data-release=\"2019\" data-rate=\"6.3\" data-star=\"35\" data-trailer=\"https://movie.douban.com/subject/27202819/trailer\" data-ticket=\"https://movie.douban.com/ticket/redirect/?url=https%3A%2F%2Fm.maoyan.com%2Fcinema%2Fmovie%2F1211727%3F_v_%3Dyes%26merCode%3D1000011\" data-duration=\"100分钟\" data-region=\"香港\" data-director=\"林德禄\" data-actors=\"古天乐 / 郑嘉颖 / 林峯\" data-intro=\"\" data-enough=\"true\" data-rater=\"24810\">\\n                        <ul class=\"\">\\n                            <li class=\"poster\">\\n                                <a onclick=\"moreurl(this, {from:\\'mv_a_pst\\'})\" href=\"https://movie.douban.com/subject/27202819/?from=showing\">\\n                                    <img src=\"https://img3.doubanio.com/view/photo/s_ratio_poster/public/p2551353482.jpg\" alt=\"反贪风暴4\" rel=\"nofollow\" class=\"\" />\\n                                </a>\\n                            </li>\\n                            <li class=\"title\">\\n                                <a onclick=\"moreurl(this, {from:\\'mv_a_tl\\'})\" href=\"https://movie.douban.com/subject/27202819/?from=showing\" class=\"\">反贪风暴4</a>\\n                            </li>\\n                            <li class=\"rating\">\\n                                        <span class=\"rating-star allstar35\"></span><span class=\"subject-rate\">6.3</span>\\n                            </li>\\n                                <li class=\"ticket_btn\"><span><a onclick=\"moreurl(this, {from:\\'mv_b_tc\\'})\" href=\"https://movie.douban.com/ticket/redirect/?url=https%3A%2F%2Fm.maoyan.com%2Fcinema%2Fmovie%2F1211727%3F_v_%3Dyes%26merCode%3D1000011\" target=\"_blank\">选座购票</a></span></li>\\n                        </ul>\\n                        \\n                        \\n                    <li class=\"ui-slide-item\"  data-title=\"欲念游戏\" data-release=\"2019\" data-rate=\"\" data-star=\"00\" data-trailer=\"https://movie.douban.com/subject/26850330/trailer\" data-ticket=\"https://movie.douban.com/ticket/redirect/?url=https%3A%2F%2Fm.maoyan.com%2Fcinema%2Fmovie%2F1156894%3F_v_%3Dyes%26merCode%3D1000011\" data-duration=\"109分钟\" data-region=\"中国大陆\" data-director=\"郭涛\" data-actors=\"郭涛 / 张子枫 / 姜潮\" data-intro=\"\" data-enough=\"false\" data-rater=\"96\">\\n                        <ul class=\"\">\\n                            <li class=\"poster\">\\n                                <a onclick=\"moreurl(this, {from:\\'mv_a_pst\\'})\" href=\"https://movie.douban.com/subject/26850330/?from=showing\">\\n                                    <img src=\"https://img1.doubanio.com/view/photo/s_ratio_poster/public/p2551984168.jpg\" alt=\"欲念游戏\" rel=\"nofollow\" class=\"\" />\\n                                </a>\\n                            </li>\\n                            <li class=\"title\">\\n                                <a onclick=\"moreurl(this, {from:\\'mv_a_tl\\'})\" href=\"https://movie.douban.com/subject/26850330/?from=showing\" class=\"\">欲念游戏</a>\\n                                    <span class=\"new-show\"></span>\\n                            </li>\\n                            <li class=\"rating\">\\n                                    \\n\\n                                        <span class=\"text-tip\">暂无评分</span>\\n                            </li>\\n                                <li class=\"ticket_btn\"><span><a onclick=\"moreurl(this, {from:\\'mv_b_tc\\'})\" href=\"https://movie.douban.com/ticket/redirect/?url=https%3A%2F%2Fm.maoyan.com%2Fcinema%2Fmovie%2F1156894%3F_v_%3Dyes%26merCode%3D1000011\" target=\"_blank\">选座购票</a></span></li>\\n                        </ul>\\n                        \\n                        \\n                    <li class=\"ui-slide-item\"  data-title=\"调音师 Andhadhun\" data-release=\"2018\" data-rate=\"8.3\" data-star=\"45\" data-trailer=\"https://movie.douban.com/subject/30334073/trailer\" data-ticket=\"https://movie.douban.com/ticket/redirect/?url=https%3A%2F%2Fm.maoyan.com%2Fcinema%2Fmovie%2F1239544%3F_v_%3Dyes%26merCode%3D1000011\" data-duration=\"139分钟\" data-region=\"印度\" data-director=\"斯里兰姆·拉格万\" data-actors=\"阿尤斯曼·库拉纳 / 塔布 / 拉迪卡·艾普特\" data-intro=\"\" data-enough=\"true\" data-rater=\"157797\">\\n                        <ul class=\"\">\\n                            <li class=\"poster\">\\n                                <a onclick=\"moreurl(this, {from:\\'mv_a_pst\\'})\" href=\"https://movie.douban.com/subject/30334073/?from=showing\">\\n                                    <img src=\"https://img1.doubanio.com/view/photo/s_ratio_poster/public/p2551995207.jpg\" alt=\"调音师\" rel=\"nofollow\" class=\"\" />\\n                                </a>\\n                            </li>\\n                            <li class=\"title\">\\n                                <a onclick=\"moreurl(this, {from:\\'mv_a_tl\\'})\" href=\"https://movie.douban.com/subject/30334073/?from=showing\" class=\"\">调音师</a>\\n                            </li>\\n                            <li class=\"rating\">\\n                                        <span class=\"rating-star allstar45\"></span><span class=\"subject-rate\">8.3</span>\\n                            </li>\\n                                <li class=\"ticket_btn\"><span><a onclick=\"moreurl(this, {from:\\'mv_b_tc\\'})\" href=\"https://movie.douban.com/ticket/redirect/?url=https%3A%2F%2Fm.maoyan.com%2Fcinema%2Fmovie%2F1239544%3F_v_%3Dyes%26merCode%3D1000011\" target=\"_blank\">选座购票</a></span></li>\\n                        </ul>\\n                        \\n                        \\n                    <li class=\"ui-slide-item\"  data-title=\"祈祷落幕时 祈りの幕が下りる時\" data-release=\"2018\" data-rate=\"8.0\" data-star=\"40\" data-trailer=\"https://movie.douban.com/subject/27040737/trailer\" data-ticket=\"https://movie.douban.com/ticket/redirect/?url=https%3A%2F%2Fm.maoyan.com%2Fcinema%2Fmovie%2F1205909%3F_v_%3Dyes%26merCode%3D1000011\" data-duration=\"119分钟\" data-region=\"日本\" data-director=\"福泽克雄\" data-actors=\"阿部宽 / 松岛菜菜子 / 沟端淳平\" data-intro=\"\" data-enough=\"true\" data-rater=\"28133\">\\n                        <ul class=\"\">\\n                            <li class=\"poster\">\\n                                <a onclick=\"moreurl(this, {from:\\'mv_a_pst\\'})\" href=\"https://movie.douban.com/subject/27040737/?from=showing\">\\n                                    <img src=\"https://img1.doubanio.com/view/photo/s_ratio_poster/public/p2552073598.jpg\" alt=\"祈祷落幕时\" rel=\"nofollow\" class=\"\" />\\n                                </a>\\n                            </li>\\n                            <li class=\"title\">\\n                                <a onclick=\"moreurl(this, {from:\\'mv_a_tl\\'})\" href=\"https://movie.douban.com/subject/27040737/?from=showing\" class=\"\">祈祷落幕时</a>\\n                                    <span class=\"new-show\"></span>\\n                            </li>\\n                            <li class=\"rating\">\\n                                        <span class=\"rating-star allstar40\"></span><span class=\"subject-rate\">8.0</span>\\n                            </li>\\n                                <li class=\"ticket_btn\"><span><a onclick=\"moreurl(this, {from:\\'mv_b_tc\\'})\" href=\"https://movie.douban.com/ticket/redirect/?url=https%3A%2F%2Fm.maoyan.com%2Fcinema%2Fmovie%2F1205909%3F_v_%3Dyes%26merCode%3D1000011\" target=\"_blank\">选座购票</a></span></li>\\n                        </ul>\\n                        \\n                        \\n                    <li class=\"ui-slide-item\"  data-title=\"雷霆沙赞！ Shazam!\" data-release=\"2019\" data-rate=\"6.6\" data-star=\"35\" data-trailer=\"https://movie.douban.com/subject/2244426/trailer\" data-ticket=\"https://movie.douban.com/ticket/redirect/?url=https%3A%2F%2Fm.maoyan.com%2Fcinema%2Fmovie%2F248123%3F_v_%3Dyes%26merCode%3D1000011\" data-duration=\"132分钟\" data-region=\"美国\" data-director=\"大卫·F·桑德伯格\" data-actors=\"扎克瑞·莱维 / 马克·斯特朗 / 亚瑟·安其\" data-intro=\"\" data-enough=\"true\" data-rater=\"84459\">\\n                        <ul class=\"\">\\n                            <li class=\"poster\">\\n                                <a onclick=\"moreurl(this, {from:\\'mv_a_pst\\'})\" href=\"https://movie.douban.com/subject/2244426/?from=showing\">\\n                                    <img src=\"https://img3.doubanio.com/view/photo/s_ratio_poster/public/p2551249211.jpg\" alt=\"雷霆沙赞！\" rel=\"nofollow\" class=\"\" />\\n                                </a>\\n                            </li>\\n                            <li class=\"title\">\\n                                <a onclick=\"moreurl(this, {from:\\'mv_a_tl\\'})\" href=\"https://movie.douban.com/subject/2244426/?from=showing\" class=\"\">雷霆沙赞！</a>\\n                            </li>\\n                            <li class=\"rating\">\\n                                        <span class=\"rating-star allstar35\"></span><span class=\"subject-rate\">6.6</span>\\n                            </li>\\n                                <li class=\"ticket_btn\"><span><a onclick=\"moreurl(this, {from:\\'mv_b_tc\\'})\" href=\"https://movie.douban.com/ticket/redirect/?url=https%3A%2F%2Fm.maoyan.com%2Fcinema%2Fmovie%2F248123%3F_v_%3Dyes%26merCode%3D1000011\" target=\"_blank\">选座购票</a></span></li>\\n                        </ul>\\n                        \\n                        \\n                    <li class=\"ui-slide-item s\" data-dstat-areaid=70_2 data-dstat-mode=click,expose data-dstat-watch=.ui-slide-content data-dstat-viewport=.screening-bd data-title=\"最佳男友进化论\" data-release=\"2019\" data-rate=\"\" data-star=\"00\" data-trailer=\"https://movie.douban.com/subject/26774017/trailer\" data-ticket=\"https://movie.douban.com/ticket/redirect/?url=https%3A%2F%2Fm.maoyan.com%2Fcinema%2Fmovie%2F368260%3F_v_%3Dyes%26merCode%3D1000011\" data-duration=\"90分钟\" data-region=\"香港\" data-director=\"林子聪\" data-actors=\"郑恺 / 张雨绮 / 徐冬冬\" data-intro=\"\" data-enough=\"false\" data-rater=\"129\">\\n                        <ul class=\"\">\\n                            <li class=\"poster\">\\n                                <a onclick=\"moreurl(this, {from:\\'mv_a_pst\\'})\" href=\"https://movie.douban.com/subject/26774017/?from=showing\">\\n                                    <img src=\"https://img3.doubanio.com/view/photo/s_ratio_poster/public/p2553190782.jpg\" alt=\"最佳男友进化论\" rel=\"nofollow\" class=\"\" />\\n                                </a>\\n                            </li>\\n                            <li class=\"title\">\\n                                <a onclick=\"moreurl(this, {from:\\'mv_a_tl\\'})\" href=\"https://movie.douban.com/subject/26774017/?from=showing\" class=\"\">最佳男友进化...</a>\\n                                    <span class=\"new-show\"></span>\\n                            </li>\\n                            <li class=\"rating\">\\n                                    \\n\\n                                        <span class=\"text-tip\">暂无评分</span>\\n                            </li>\\n                                <li class=\"ticket_btn\"><span><a onclick=\"moreurl(this, {from:\\'mv_b_tc\\'})\" href=\"https://movie.douban.com/ticket/redirect/?url=https%3A%2F%2Fm.maoyan.com%2Fcinema%2Fmovie%2F368260%3F_v_%3Dyes%26merCode%3D1000011\" target=\"_blank\">选座购票</a></span></li>\\n                        </ul>\\n                        \\n                        \\n                    <li class=\"ui-slide-item\"  data-title=\"在乎你\" data-release=\"2019\" data-rate=\"\" data-star=\"00\" data-trailer=\"https://movie.douban.com/subject/27185558/trailer\" data-ticket=\"https://movie.douban.com/ticket/redirect/?url=https%3A%2F%2Fm.maoyan.com%2Fcinema%2Fmovie%2F1213175%3F_v_%3Dyes%26merCode%3D1000011\" data-duration=\"120分钟\" data-region=\"中国大陆\" data-director=\"毕国智\" data-actors=\"俞飞鸿 / 大泽隆夫 / 木下彩音\" data-intro=\"\" data-enough=\"false\" data-rater=\"491\">\\n                        <ul class=\"\">\\n                            <li class=\"poster\">\\n                                <a onclick=\"moreurl(this, {from:\\'mv_a_pst\\'})\" href=\"https://movie.douban.com/subject/27185558/?from=showing\">\\n                                    <img src=\"https://img3.doubanio.com/view/photo/s_ratio_poster/public/p2552608202.jpg\" alt=\"在乎你\" rel=\"nofollow\" class=\"\" />\\n                                </a>\\n                            </li>\\n                            <li class=\"title\">\\n                                <a onclick=\"moreurl(this, {from:\\'mv_a_tl\\'})\" href=\"https://movie.douban.com/subject/27185558/?from=showing\" class=\"\">在乎你</a>\\n                                    <span class=\"new-show\"></span>\\n                            </li>\\n                            <li class=\"rating\">\\n                                    \\n\\n                                        <span class=\"text-tip\">暂无评分</span>\\n                            </li>\\n                                <li class=\"ticket_btn\"><span><a onclick=\"moreurl(this, {from:\\'mv_b_tc\\'})\" href=\"https://movie.douban.com/ticket/redirect/?url=https%3A%2F%2Fm.maoyan.com%2Fcinema%2Fmovie%2F1213175%3F_v_%3Dyes%26merCode%3D1000011\" target=\"_blank\">选座购票</a></span></li>\\n                        </ul>\\n                        \\n                        \\n                    <li class=\"ui-slide-item\"  data-title=\"我的宠物是大象\" data-release=\"2019\" data-rate=\"\" data-star=\"00\" data-trailer=\"https://movie.douban.com/subject/26803717/trailer\" data-ticket=\"https://movie.douban.com/ticket/redirect/?url=https%3A%2F%2Fm.maoyan.com%2Fcinema%2Fmovie%2F343344%3F_v_%3Dyes%26merCode%3D1000011\" data-duration=\"108分钟\" data-region=\"中国大陆\" data-director=\"邵晓黎\" data-actors=\"刘青云 / 尤靖茹 / 孔维\" data-intro=\"\" data-enough=\"false\" data-rater=\"119\">\\n                        <ul class=\"\">\\n                            <li class=\"poster\">\\n                                <a onclick=\"moreurl(this, {from:\\'mv_a_pst\\'})\" href=\"https://movie.douban.com/subject/26803717/?from=showing\">\\n                                    <img src=\"https://img3.doubanio.com/view/photo/s_ratio_poster/public/p2553090666.jpg\" alt=\"我的宠物是大象\" rel=\"nofollow\" class=\"\" />\\n                                </a>\\n                            </li>\\n                            <li class=\"title\">\\n                                <a onclick=\"moreurl(this, {from:\\'mv_a_tl\\'})\" href=\"https://movie.douban.com/subject/26803717/?from=showing\" class=\"\">我的宠物是大...</a>\\n                                    <span class=\"new-show\"></span>\\n                            </li>\\n                            <li class=\"rating\">\\n                                    \\n\\n                                        <span class=\"text-tip\">暂无评分</span>\\n                            </li>\\n                                <li class=\"ticket_btn\"><span><a onclick=\"moreurl(this, {from:\\'mv_b_tc\\'})\" href=\"https://movie.douban.com/ticket/redirect/?url=https%3A%2F%2Fm.maoyan.com%2Fcinema%2Fmovie%2F343344%3F_v_%3Dyes%26merCode%3D1000011\" target=\"_blank\">选座购票</a></span></li>\\n                        </ul>\\n                        \\n                        \\n                    <li class=\"ui-slide-item\"  data-title=\"老师·好\" data-release=\"2019\" data-rate=\"6.8\" data-star=\"35\" data-trailer=\"https://movie.douban.com/subject/27663742/trailer\" data-ticket=\"https://movie.douban.com/ticket/redirect/?url=https%3A%2F%2Fm.maoyan.com%2Fcinema%2Fmovie%2F1212492%3F_v_%3Dyes%26merCode%3D1000011\" data-duration=\"111分钟\" data-region=\"中国大陆\" data-director=\"张栾\" data-actors=\"于谦 / 汤梦佳 / 王广源\" data-intro=\"\" data-enough=\"true\" data-rater=\"37071\">\\n                        <ul class=\"\">\\n                            <li class=\"poster\">\\n                                <a onclick=\"moreurl(this, {from:\\'mv_a_pst\\'})\" href=\"https://movie.douban.com/subject/27663742/?from=showing\">\\n                                    <img src=\"https://img1.doubanio.com/view/photo/s_ratio_poster/public/p2551352209.jpg\" alt=\"老师·好\" rel=\"nofollow\" class=\"\" />\\n                                </a>\\n                            </li>\\n                            <li class=\"title\">\\n                                <a onclick=\"moreurl(this, {from:\\'mv_a_tl\\'})\" href=\"https://movie.douban.com/subject/27663742/?from=showing\" class=\"\">老师·好</a>\\n                            </li>\\n                            <li class=\"rating\">\\n                                        <span class=\"rating-star allstar35\"></span><span class=\"subject-rate\">6.8</span>\\n                            </li>\\n                                <li class=\"ticket_btn\"><span><a onclick=\"moreurl(this, {from:\\'mv_b_tc\\'})\" href=\"https://movie.douban.com/ticket/redirect/?url=https%3A%2F%2Fm.maoyan.com%2Fcinema%2Fmovie%2F1212492%3F_v_%3Dyes%26merCode%3D1000011\" target=\"_blank\">选座购票</a></span></li>\\n                        </ul>\\n                        \\n                        \\n                    <li class=\"ui-slide-item\"  data-title=\"小飞象 Dumbo\" data-release=\"2019\" data-rate=\"6.8\" data-star=\"35\" data-trailer=\"https://movie.douban.com/subject/25924056/trailer\" data-ticket=\"https://movie.douban.com/ticket/redirect/?url=https%3A%2F%2Fm.maoyan.com%2Fcinema%2Fmovie%2F346765%3F_v_%3Dyes%26merCode%3D1000011\" data-duration=\"112分钟\" data-region=\"美国\" data-director=\"蒂姆·波顿\" data-actors=\"伊娃·格林 / 科林·法瑞尔 / 迈克尔·基顿\" data-intro=\"\" data-enough=\"true\" data-rater=\"22869\">\\n                        <ul class=\"\">\\n                            <li class=\"poster\">\\n                                <a onclick=\"moreurl(this, {from:\\'mv_a_pst\\'})\" href=\"https://movie.douban.com/subject/25924056/?from=showing\">\\n                                    <img src=\"https://img3.doubanio.com/view/photo/s_ratio_poster/public/p2549234765.jpg\" alt=\"小飞象\" rel=\"nofollow\" class=\"\" />\\n                                </a>\\n                            </li>\\n                            <li class=\"title\">\\n                                <a onclick=\"moreurl(this, {from:\\'mv_a_tl\\'})\" href=\"https://movie.douban.com/subject/25924056/?from=showing\" class=\"\">小飞象</a>\\n                            </li>\\n                            <li class=\"rating\">\\n                                        <span class=\"rating-star allstar35\"></span><span class=\"subject-rate\">6.8</span>\\n                            </li>\\n                                <li class=\"ticket_btn\"><span><a onclick=\"moreurl(this, {from:\\'mv_b_tc\\'})\" href=\"https://movie.douban.com/ticket/redirect/?url=https%3A%2F%2Fm.maoyan.com%2Fcinema%2Fmovie%2F346765%3F_v_%3Dyes%26merCode%3D1000011\" target=\"_blank\">选座购票</a></span></li>\\n                        </ul>\\n                        \\n                        \\n                    <li class=\"ui-slide-item s\" data-dstat-areaid=70_3 data-dstat-mode=click,expose data-dstat-watch=.ui-slide-content data-dstat-viewport=.screening-bd data-title=\"波西米亚狂想曲 Bohemian Rhapsody\" data-release=\"2018\" data-rate=\"8.7\" data-star=\"45\" data-trailer=\"https://movie.douban.com/subject/5300054/trailer\" data-ticket=\"https://movie.douban.com/ticket/redirect/?url=https%3A%2F%2Fm.maoyan.com%2Fcinema%2Fmovie%2F1167831%3F_v_%3Dyes%26merCode%3D1000011\" data-duration=\"131分钟(中国大陆)\" data-region=\"英国\" data-director=\"布莱恩·辛格\" data-actors=\"拉米·马雷克 / 本·哈迪 / 约瑟夫·梅泽罗\" data-intro=\"\" data-enough=\"true\" data-rater=\"238104\">\\n                        <ul class=\"\">\\n                            <li class=\"poster\">\\n                                <a onclick=\"moreurl(this, {from:\\'mv_a_pst\\'})\" href=\"https://movie.douban.com/subject/5300054/?from=showing\">\\n                                    <img src=\"https://img3.doubanio.com/view/photo/s_ratio_poster/public/p2549558913.jpg\" alt=\"波西米亚狂想曲\" rel=\"nofollow\" class=\"\" />\\n                                </a>\\n                            </li>\\n                            <li class=\"title\">\\n                                <a onclick=\"moreurl(this, {from:\\'mv_a_tl\\'})\" href=\"https://movie.douban.com/subject/5300054/?from=showing\" class=\"\">波西米亚狂想...</a>\\n                            </li>\\n                            <li class=\"rating\">\\n                                        <span class=\"rating-star allstar45\"></span><span class=\"subject-rate\">8.7</span>\\n                            </li>\\n                                <li class=\"ticket_btn\"><span><a onclick=\"moreurl(this, {from:\\'mv_b_tc\\'})\" href=\"https://movie.douban.com/ticket/redirect/?url=https%3A%2F%2Fm.maoyan.com%2Fcinema%2Fmovie%2F1167831%3F_v_%3Dyes%26merCode%3D1000011\" target=\"_blank\">选座购票</a></span></li>\\n                        </ul>\\n                        \\n                        \\n                    <li class=\"ui-slide-item\"  data-title=\"风中有朵雨做的云\" data-release=\"2018\" data-rate=\"7.6\" data-star=\"40\" data-trailer=\"https://movie.douban.com/subject/26728669/trailer\" data-ticket=\"https://movie.douban.com/ticket/redirect/?url=https%3A%2F%2Fm.maoyan.com%2Fcinema%2Fmovie%2F345875%3F_v_%3Dyes%26merCode%3D1000011\" data-duration=\"124分钟(中国大陆)\" data-region=\"中国大陆\" data-director=\"娄烨\" data-actors=\"井柏然 / 宋佳 / 马思纯\" data-intro=\"\" data-enough=\"true\" data-rater=\"117470\">\\n                        <ul class=\"\">\\n                            <li class=\"poster\">\\n                                <a onclick=\"moreurl(this, {from:\\'mv_a_pst\\'})\" href=\"https://movie.douban.com/subject/26728669/?from=showing\">\\n                                    <img src=\"https://img3.doubanio.com/view/photo/s_ratio_poster/public/p2552522615.jpg\" alt=\"风中有朵雨做的云\" rel=\"nofollow\" class=\"\" />\\n                                </a>\\n                            </li>\\n                            <li class=\"title\">\\n                                <a onclick=\"moreurl(this, {from:\\'mv_a_tl\\'})\" href=\"https://movie.douban.com/subject/26728669/?from=showing\" class=\"\">风中有朵雨做...</a>\\n                            </li>\\n                            <li class=\"rating\">\\n                                        <span class=\"rating-star allstar40\"></span><span class=\"subject-rate\">7.6</span>\\n                            </li>\\n                                <li class=\"ticket_btn\"><span><a onclick=\"moreurl(this, {from:\\'mv_b_tc\\'})\" href=\"https://movie.douban.com/ticket/redirect/?url=https%3A%2F%2Fm.maoyan.com%2Fcinema%2Fmovie%2F345875%3F_v_%3Dyes%26merCode%3D1000011\" target=\"_blank\">选座购票</a></span></li>\\n                        </ul>\\n                        \\n                        \\n                    <li class=\"ui-slide-item\"  data-title=\"海市蜃楼 Durante la tormenta\" data-release=\"2018\" data-rate=\"7.8\" data-star=\"40\" data-trailer=\"https://movie.douban.com/subject/30164448/trailer\" data-ticket=\"https://movie.douban.com/ticket/redirect/?url=https%3A%2F%2Fm.maoyan.com%2Fcinema%2Fmovie%2F1219670%3F_v_%3Dyes%26merCode%3D1000011\" data-duration=\"128分钟\" data-region=\"西班牙\" data-director=\"奥里奥尔·保罗\" data-actors=\"阿德里亚娜·乌加特 / 奇诺·达林 / 阿尔瓦罗·莫奇\" data-intro=\"\" data-enough=\"true\" data-rater=\"117754\">\\n                        <ul class=\"\">\\n                            <li class=\"poster\">\\n                                <a onclick=\"moreurl(this, {from:\\'mv_a_pst\\'})\" href=\"https://movie.douban.com/subject/30164448/?from=showing\">\\n                                    <img src=\"https://img3.doubanio.com/view/photo/s_ratio_poster/public/p2551172384.jpg\" alt=\"海市蜃楼\" rel=\"nofollow\" class=\"\" />\\n                                </a>\\n                            </li>\\n                            <li class=\"title\">\\n                                <a onclick=\"moreurl(this, {from:\\'mv_a_tl\\'})\" href=\"https://movie.douban.com/subject/30164448/?from=showing\" class=\"\">海市蜃楼</a>\\n                            </li>\\n                            <li class=\"rating\">\\n                                        <span class=\"rating-star allstar40\"></span><span class=\"subject-rate\">7.8</span>\\n                            </li>\\n                                <li class=\"ticket_btn\"><span><a onclick=\"moreurl(this, {from:\\'mv_b_tc\\'})\" href=\"https://movie.douban.com/ticket/redirect/?url=https%3A%2F%2Fm.maoyan.com%2Fcinema%2Fmovie%2F1219670%3F_v_%3Dyes%26merCode%3D1000011\" target=\"_blank\">选座购票</a></span></li>\\n                        </ul>\\n                        \\n                        \\n                    <li class=\"ui-slide-item\"  data-title=\"菲凡记忆\" data-release=\"2019\" data-rate=\"\" data-star=\"00\" data-trailer=\"https://movie.douban.com/subject/30450410/trailer\" data-ticket=\"https://movie.douban.com/ticket/redirect/?url=https%3A%2F%2Fm.maoyan.com%2Fcinema%2Fmovie%2F1260846%3F_v_%3Dyes%26merCode%3D1000011\" data-duration=\"97分钟\" data-region=\"中国大陆\" data-director=\"田重\" data-actors=\"张奕 / 保剑锋 / 李嘉铭\" data-intro=\"\" data-enough=\"false\" data-rater=\"4\">\\n                        <ul class=\"\">\\n                            <li class=\"poster\">\\n                                <a onclick=\"moreurl(this, {from:\\'mv_a_pst\\'})\" href=\"https://movie.douban.com/subject/30450410/?from=showing\">\\n                                    <img src=\"https://img1.doubanio.com/view/photo/s_ratio_poster/public/p2551162358.jpg\" alt=\"菲凡记忆\" rel=\"nofollow\" class=\"\" />\\n                                </a>\\n                            </li>\\n                            <li class=\"title\">\\n                                <a onclick=\"moreurl(this, {from:\\'mv_a_tl\\'})\" href=\"https://movie.douban.com/subject/30450410/?from=showing\" class=\"\">菲凡记忆</a>\\n                                    <span class=\"new-show\"></span>\\n                            </li>\\n                            <li class=\"rating\">\\n                                    \\n\\n                                        <span class=\"text-tip\">暂无评分</span>\\n                            </li>\\n                                <li class=\"ticket_btn\"><span><a onclick=\"moreurl(this, {from:\\'mv_b_tc\\'})\" href=\"https://movie.douban.com/ticket/redirect/?url=https%3A%2F%2Fm.maoyan.com%2Fcinema%2Fmovie%2F1260846%3F_v_%3Dyes%26merCode%3D1000011\" target=\"_blank\">选座购票</a></span></li>\\n                        </ul>\\n                        \\n                        \\n                    <li class=\"ui-slide-item\"  data-title=\"比悲伤更悲伤的故事 比悲傷更悲傷的故事\" data-release=\"2018\" data-rate=\"4.8\" data-star=\"25\" data-trailer=\"https://movie.douban.com/subject/27624661/trailer\" data-ticket=\"https://movie.douban.com/ticket/redirect/?url=https%3A%2F%2Fm.maoyan.com%2Fcinema%2Fmovie%2F1216383%3F_v_%3Dyes%26merCode%3D1000011\" data-duration=\"105分钟\" data-region=\"台湾\" data-director=\"林孝谦\" data-actors=\"陈意涵 / 刘以豪 / 张书豪\" data-intro=\"\" data-enough=\"true\" data-rater=\"69931\">\\n                        <ul class=\"\">\\n                            <li class=\"poster\">\\n                                <a onclick=\"moreurl(this, {from:\\'mv_a_pst\\'})\" href=\"https://movie.douban.com/subject/27624661/?from=showing\">\\n                                    <img src=\"https://img3.doubanio.com/view/photo/s_ratio_poster/public/p2549523952.jpg\" alt=\"比悲伤更悲伤的故事\" rel=\"nofollow\" class=\"\" />\\n                                </a>\\n                            </li>\\n                            <li class=\"title\">\\n                                <a onclick=\"moreurl(this, {from:\\'mv_a_tl\\'})\" href=\"https://movie.douban.com/subject/27624661/?from=showing\" class=\"\">比悲伤更悲伤...</a>\\n                            </li>\\n                            <li class=\"rating\">\\n                                        <span class=\"rating-star allstar25\"></span><span class=\"subject-rate\">4.8</span>\\n                            </li>\\n                                <li class=\"ticket_btn\"><span><a onclick=\"moreurl(this, {from:\\'mv_b_tc\\'})\" href=\"https://movie.douban.com/ticket/redirect/?url=https%3A%2F%2Fm.maoyan.com%2Fcinema%2Fmovie%2F1216383%3F_v_%3Dyes%26merCode%3D1000011\" target=\"_blank\">选座购票</a></span></li>\\n                        </ul>\\n                        \\n                        \\n                    <li class=\"ui-slide-item s\" data-dstat-areaid=70_4 data-dstat-mode=click,expose data-dstat-watch=.ui-slide-content data-dstat-viewport=.screening-bd data-title=\"海风吹过零丁洋\" data-release=\"2019\" data-rate=\"\" data-star=\"00\" data-trailer=\"https://movie.douban.com/subject/30463624/trailer\" data-ticket=\"https://movie.douban.com/ticket/redirect/?url=https%3A%2F%2Fm.maoyan.com%2Fcinema%2Fmovie%2F1263178%3F_v_%3Dyes%26merCode%3D1000011\" data-duration=\"95分钟\" data-region=\"中国大陆\" data-director=\"杨涧华\" data-actors=\"姜华 / 刘笛 / 李天祥\" data-intro=\"\" data-enough=\"false\" data-rater=\"4\">\\n                        <ul class=\"\">\\n                            <li class=\"poster\">\\n                                <a onclick=\"moreurl(this, {from:\\'mv_a_pst\\'})\" href=\"https://movie.douban.com/subject/30463624/?from=showing\">\\n                                    <img src=\"https://img3.doubanio.com/view/photo/s_ratio_poster/public/p2551569616.jpg\" alt=\"海风吹过零丁洋\" rel=\"nofollow\" class=\"\" />\\n                                </a>\\n                            </li>\\n                            <li class=\"title\">\\n                                <a onclick=\"moreurl(this, {from:\\'mv_a_tl\\'})\" href=\"https://movie.douban.com/subject/30463624/?from=showing\" class=\"\">海风吹过零丁...</a>\\n                                    <span class=\"new-show\"></span>\\n                            </li>\\n                            <li class=\"rating\">\\n                                    \\n\\n                                        <span class=\"text-tip\">暂无评分</span>\\n                            </li>\\n                                <li class=\"ticket_btn\"><span><a onclick=\"moreurl(this, {from:\\'mv_b_tc\\'})\" href=\"https://movie.douban.com/ticket/redirect/?url=https%3A%2F%2Fm.maoyan.com%2Fcinema%2Fmovie%2F1263178%3F_v_%3Dyes%26merCode%3D1000011\" target=\"_blank\">选座购票</a></span></li>\\n                        </ul>\\n                        \\n                        \\n                    <li class=\"ui-slide-item\"  data-title=\"原来如此\" data-release=\"2018\" data-rate=\"\" data-star=\"00\" data-trailer=\"https://movie.douban.com/subject/30345723/trailer\" data-ticket=\"https://movie.douban.com/ticket/redirect/?url=https%3A%2F%2Fm.maoyan.com%2Fcinema%2Fmovie%2F1239678%3F_v_%3Dyes%26merCode%3D1000011\" data-duration=\"83分钟\" data-region=\"中国大陆\" data-director=\"廖必翔\" data-actors=\"池丹 / 徐志飞 / 杨燕\" data-intro=\"\" data-enough=\"false\" data-rater=\"48\">\\n                        <ul class=\"\">\\n                            <li class=\"poster\">\\n                                <a onclick=\"moreurl(this, {from:\\'mv_a_pst\\'})\" href=\"https://movie.douban.com/subject/30345723/?from=showing\">\\n                                    <img src=\"https://img1.doubanio.com/view/photo/s_ratio_poster/public/p2546359739.jpg\" alt=\"原来如此\" rel=\"nofollow\" class=\"\" />\\n                                </a>\\n                            </li>\\n                            <li class=\"title\">\\n                                <a onclick=\"moreurl(this, {from:\\'mv_a_tl\\'})\" href=\"https://movie.douban.com/subject/30345723/?from=showing\" class=\"\">原来如此</a>\\n                                    <span class=\"new-show\"></span>\\n                            </li>\\n                            <li class=\"rating\">\\n                                    \\n\\n                                        <span class=\"text-tip\">暂无评分</span>\\n                            </li>\\n                                <li class=\"ticket_btn\"><span><a onclick=\"moreurl(this, {from:\\'mv_b_tc\\'})\" href=\"https://movie.douban.com/ticket/redirect/?url=https%3A%2F%2Fm.maoyan.com%2Fcinema%2Fmovie%2F1239678%3F_v_%3Dyes%26merCode%3D1000011\" target=\"_blank\">选座购票</a></span></li>\\n                        </ul>\\n                        \\n                        \\n                    <li class=\"ui-slide-item\"  data-title=\"绿皮书 Green Book\" data-release=\"2018\" data-rate=\"8.9\" data-star=\"45\" data-trailer=\"https://movie.douban.com/subject/27060077/trailer\" data-ticket=\"https://movie.douban.com/ticket/redirect/?url=https%3A%2F%2Fm.maoyan.com%2Fcinema%2Fmovie%2F1206605%3F_v_%3Dyes%26merCode%3D1000011\" data-duration=\"130分钟\" data-region=\"美国\" data-director=\"彼得·法雷里\" data-actors=\"维果·莫腾森 / 马赫沙拉·阿里 / 琳达·卡德里尼\" data-intro=\"\" data-enough=\"true\" data-rater=\"495378\">\\n                        <ul class=\"\">\\n                            <li class=\"poster\">\\n                                <a onclick=\"moreurl(this, {from:\\'mv_a_pst\\'})\" href=\"https://movie.douban.com/subject/27060077/?from=showing\">\\n                                    <img src=\"https://img3.doubanio.com/view/photo/s_ratio_poster/public/p2549177902.jpg\" alt=\"绿皮书\" rel=\"nofollow\" class=\"\" />\\n                                </a>\\n                            </li>\\n                            <li class=\"title\">\\n                                <a onclick=\"moreurl(this, {from:\\'mv_a_tl\\'})\" href=\"https://movie.douban.com/subject/27060077/?from=showing\" class=\"\">绿皮书</a>\\n                            </li>\\n                            <li class=\"rating\">\\n                                        <span class=\"rating-star allstar45\"></span><span class=\"subject-rate\">8.9</span>\\n                            </li>\\n                                <li class=\"ticket_btn\"><span><a onclick=\"moreurl(this, {from:\\'mv_b_tc\\'})\" href=\"https://movie.douban.com/ticket/redirect/?url=https%3A%2F%2Fm.maoyan.com%2Fcinema%2Fmovie%2F1206605%3F_v_%3Dyes%26merCode%3D1000011\" target=\"_blank\">选座购票</a></span></li>\\n                        </ul>\\n                        \\n                        \\n                    <li class=\"ui-slide-item\"  data-title=\"流浪地球\" data-release=\"2019\" data-rate=\"8.0\" data-star=\"40\" data-trailer=\"https://movie.douban.com/subject/26266893/trailer\" data-ticket=\"https://movie.douban.com/ticket/redirect/?url=https%3A%2F%2Fm.maoyan.com%2Fcinema%2Fmovie%2F248906%3F_v_%3Dyes%26merCode%3D1000011\" data-duration=\"125分钟\" data-region=\"中国大陆\" data-director=\"郭帆\" data-actors=\"屈楚萧 / 吴京 / 李光洁\" data-intro=\"\" data-enough=\"true\" data-rater=\"1117124\">\\n                        <ul class=\"\">\\n                            <li class=\"poster\">\\n                                <a onclick=\"moreurl(this, {from:\\'mv_a_pst\\'})\" href=\"https://movie.douban.com/subject/26266893/?from=showing\">\\n                                    <img src=\"https://img3.doubanio.com/view/photo/s_ratio_poster/public/p2545472803.jpg\" alt=\"流浪地球\" rel=\"nofollow\" class=\"\" />\\n                                </a>\\n                            </li>\\n                            <li class=\"title\">\\n                                <a onclick=\"moreurl(this, {from:\\'mv_a_tl\\'})\" href=\"https://movie.douban.com/subject/26266893/?from=showing\" class=\"\">流浪地球</a>\\n                            </li>\\n                            <li class=\"rating\">\\n                                        <span class=\"rating-star allstar40\"></span><span class=\"subject-rate\">8.0</span>\\n                            </li>\\n                                <li class=\"ticket_btn\"><span><a onclick=\"moreurl(this, {from:\\'mv_b_tc\\'})\" href=\"https://movie.douban.com/ticket/redirect/?url=https%3A%2F%2Fm.maoyan.com%2Fcinema%2Fmovie%2F248906%3F_v_%3Dyes%26merCode%3D1000011\" target=\"_blank\">选座购票</a></span></li>\\n                        </ul>\\n                        \\n                        \\n                    <li class=\"ui-slide-item\"  data-title=\"地久天长\" data-release=\"2019\" data-rate=\"7.9\" data-star=\"40\" data-trailer=\"https://movie.douban.com/subject/26715636/trailer\" data-ticket=\"https://movie.douban.com/ticket/redirect/?url=https%3A%2F%2Fm.maoyan.com%2Fcinema%2Fmovie%2F507792%3F_v_%3Dyes%26merCode%3D1000011\" data-duration=\"175分钟\" data-region=\"中国大陆\" data-director=\"王小帅\" data-actors=\"王景春 / 咏梅 / 齐溪\" data-intro=\"\" data-enough=\"true\" data-rater=\"80620\">\\n                        <ul class=\"\">\\n                            <li class=\"poster\">\\n                                <a onclick=\"moreurl(this, {from:\\'mv_a_pst\\'})\" href=\"https://movie.douban.com/subject/26715636/?from=showing\">\\n                                    <img src=\"https://img1.doubanio.com/view/photo/s_ratio_poster/public/p2550208359.jpg\" alt=\"地久天长\" rel=\"nofollow\" class=\"\" />\\n                                </a>\\n                            </li>\\n                            <li class=\"title\">\\n                                <a onclick=\"moreurl(this, {from:\\'mv_a_tl\\'})\" href=\"https://movie.douban.com/subject/26715636/?from=showing\" class=\"\">地久天长</a>\\n                            </li>\\n                            <li class=\"rating\">\\n                                        <span class=\"rating-star allstar40\"></span><span class=\"subject-rate\">7.9</span>\\n                            </li>\\n                                <li class=\"ticket_btn\"><span><a onclick=\"moreurl(this, {from:\\'mv_b_tc\\'})\" href=\"https://movie.douban.com/ticket/redirect/?url=https%3A%2F%2Fm.maoyan.com%2Fcinema%2Fmovie%2F507792%3F_v_%3Dyes%26merCode%3D1000011\" target=\"_blank\">选座购票</a></span></li>\\n                        </ul>\\n                        \\n                        \\n                    <li class=\"ui-slide-item s\" data-dstat-areaid=70_5 data-dstat-mode=click,expose data-dstat-watch=.ui-slide-content data-dstat-viewport=.screening-bd data-title=\"阿丽塔：战斗天使 Alita: Battle Angel\" data-release=\"2019\" data-rate=\"7.6\" data-star=\"40\" data-trailer=\"https://movie.douban.com/subject/1652592/trailer\" data-ticket=\"https://movie.douban.com/ticket/redirect/?url=https%3A%2F%2Fm.maoyan.com%2Fcinema%2Fmovie%2F410629%3F_v_%3Dyes%26merCode%3D1000011\" data-duration=\"122分钟\" data-region=\"美国\" data-director=\"罗伯特·罗德里格兹\" data-actors=\"罗莎·萨拉查 / 克里斯托弗·沃尔兹 / 基恩·约翰逊\" data-intro=\"\" data-enough=\"true\" data-rater=\"305060\">\\n                        <ul class=\"\">\\n                            <li class=\"poster\">\\n                                <a onclick=\"moreurl(this, {from:\\'mv_a_pst\\'})\" href=\"https://movie.douban.com/subject/1652592/?from=showing\">\\n                                    <img src=\"https://img3.doubanio.com/view/photo/s_ratio_poster/public/p2544987866.jpg\" alt=\"阿丽塔：战斗天使\" rel=\"nofollow\" class=\"\" />\\n                                </a>\\n                            </li>\\n                            <li class=\"title\">\\n                                <a onclick=\"moreurl(this, {from:\\'mv_a_tl\\'})\" href=\"https://movie.douban.com/subject/1652592/?from=showing\" class=\"\">阿丽塔：战斗...</a>\\n                            </li>\\n                            <li class=\"rating\">\\n                                        <span class=\"rating-star allstar40\"></span><span class=\"subject-rate\">7.6</span>\\n                            </li>\\n                                <li class=\"ticket_btn\"><span><a onclick=\"moreurl(this, {from:\\'mv_b_tc\\'})\" href=\"https://movie.douban.com/ticket/redirect/?url=https%3A%2F%2Fm.maoyan.com%2Fcinema%2Fmovie%2F410629%3F_v_%3Dyes%26merCode%3D1000011\" target=\"_blank\">选座购票</a></span></li>\\n                        </ul>\\n                        \\n                        \\n                    <li class=\"ui-slide-item\"  data-title=\"守灵\" data-release=\"2017\" data-rate=\"\" data-star=\"00\" data-trailer=\"https://movie.douban.com/subject/27063305/trailer\" data-ticket=\"https://movie.douban.com/ticket/redirect/?url=https%3A%2F%2Fm.maoyan.com%2Fcinema%2Fmovie%2F1206939%3F_v_%3Dyes%26merCode%3D1000011\" data-duration=\"88分钟\" data-region=\"中国大陆\" data-director=\"李东\" data-actors=\"张优 / 宋词\" data-intro=\"\" data-enough=\"false\" data-rater=\"154\">\\n                        <ul class=\"\">\\n                            <li class=\"poster\">\\n                                <a onclick=\"moreurl(this, {from:\\'mv_a_pst\\'})\" href=\"https://movie.douban.com/subject/27063305/?from=showing\">\\n                                    <img src=\"https://img3.doubanio.com/view/photo/s_ratio_poster/public/p2549910141.jpg\" alt=\"守灵\" rel=\"nofollow\" class=\"\" />\\n                                </a>\\n                            </li>\\n                            <li class=\"title\">\\n                                <a onclick=\"moreurl(this, {from:\\'mv_a_tl\\'})\" href=\"https://movie.douban.com/subject/27063305/?from=showing\" class=\"\">守灵</a>\\n                            </li>\\n                            <li class=\"rating\">\\n                                    \\n\\n                                        <span class=\"text-tip\">暂无评分</span>\\n                            </li>\\n                                <li class=\"ticket_btn\"><span><a onclick=\"moreurl(this, {from:\\'mv_b_tc\\'})\" href=\"https://movie.douban.com/ticket/redirect/?url=https%3A%2F%2Fm.maoyan.com%2Fcinema%2Fmovie%2F1206939%3F_v_%3Dyes%26merCode%3D1000011\" target=\"_blank\">选座购票</a></span></li>\\n                        </ul>\\n                        \\n                        \\n                    <li class=\"ui-slide-item\"  data-title=\"暗语者\" data-release=\"2018\" data-rate=\"\" data-star=\"00\" data-trailer=\"https://movie.douban.com/subject/30335687/trailer\" data-ticket=\"https://movie.douban.com/ticket/redirect/?url=https%3A%2F%2Fm.maoyan.com%2Fcinema%2Fmovie%2F1257272%3F_v_%3Dyes%26merCode%3D1000011\" data-duration=\"99分钟\" data-region=\"中国大陆\" data-director=\"韩万峰\" data-actors=\"罗立群 / 高赫一 / 金琦茗\" data-intro=\"\" data-enough=\"false\" data-rater=\"14\">\\n                        <ul class=\"\">\\n                            <li class=\"poster\">\\n                                <a onclick=\"moreurl(this, {from:\\'mv_a_pst\\'})\" href=\"https://movie.douban.com/subject/30335687/?from=showing\">\\n                                    <img src=\"https://img1.doubanio.com/view/photo/s_ratio_poster/public/p2535203209.jpg\" alt=\"暗语者\" rel=\"nofollow\" class=\"\" />\\n                                </a>\\n                            </li>\\n                            <li class=\"title\">\\n                                <a onclick=\"moreurl(this, {from:\\'mv_a_tl\\'})\" href=\"https://movie.douban.com/subject/30335687/?from=showing\" class=\"\">暗语者</a>\\n                                    <span class=\"new-show\"></span>\\n                            </li>\\n                            <li class=\"rating\">\\n                                    \\n\\n                                        <span class=\"text-tip\">暂无评分</span>\\n                            </li>\\n                                <li class=\"ticket_btn\"><span><a onclick=\"moreurl(this, {from:\\'mv_b_tc\\'})\" href=\"https://movie.douban.com/ticket/redirect/?url=https%3A%2F%2Fm.maoyan.com%2Fcinema%2Fmovie%2F1257272%3F_v_%3Dyes%26merCode%3D1000011\" target=\"_blank\">选座购票</a></span></li>\\n                        </ul>\\n                        \\n                        \\n                    <li class=\"ui-slide-item\"  data-title=\"驯龙高手3 How To Train Your Dragon: The Hidden World\" data-release=\"2019\" data-rate=\"7.5\" data-star=\"40\" data-trailer=\"https://movie.douban.com/subject/19899707/trailer\" data-ticket=\"https://movie.douban.com/ticket/redirect/?url=https%3A%2F%2Fm.maoyan.com%2Fcinema%2Fmovie%2F247295%3F_v_%3Dyes%26merCode%3D1000011\" data-duration=\"104分钟\" data-region=\"美国\" data-director=\"迪恩·德布洛斯\" data-actors=\"杰伊·巴鲁切尔 / 亚美莉卡·费雷拉 / F·默里·亚伯拉罕\" data-intro=\"\" data-enough=\"true\" data-rater=\"104088\">\\n                        <ul class=\"\">\\n                            <li class=\"poster\">\\n                                <a onclick=\"moreurl(this, {from:\\'mv_a_pst\\'})\" href=\"https://movie.douban.com/subject/19899707/?from=showing\">\\n                                    <img src=\"https://img3.doubanio.com/view/photo/s_ratio_poster/public/p2546335362.jpg\" alt=\"驯龙高手3\" rel=\"nofollow\" class=\"\" />\\n                                </a>\\n                            </li>\\n                            <li class=\"title\">\\n                                <a onclick=\"moreurl(this, {from:\\'mv_a_tl\\'})\" href=\"https://movie.douban.com/subject/19899707/?from=showing\" class=\"\">驯龙高手3</a>\\n                            </li>\\n                            <li class=\"rating\">\\n                                        <span class=\"rating-star allstar40\"></span><span class=\"subject-rate\">7.5</span>\\n                            </li>\\n                                <li class=\"ticket_btn\"><span><a onclick=\"moreurl(this, {from:\\'mv_b_tc\\'})\" href=\"https://movie.douban.com/ticket/redirect/?url=https%3A%2F%2Fm.maoyan.com%2Fcinema%2Fmovie%2F247295%3F_v_%3Dyes%26merCode%3D1000011\" target=\"_blank\">选座购票</a></span></li>\\n                        </ul>\\n                    <li class=\"ui-slide-item\">\\n            </ul>\\n        </div>\\n    </div>\\n    \\n    \\n\\n\\n    <!-- douban ad begin -->\\n    <div id=\"movie_home_left_bottom\" class=\"mb20 s\" data-dstat-areaid=\"72\" data-dstat-mode=\"click,expose\"></div>\\n    <!-- douban ad end -->\\n\\n        \\n\\n        \\n\\n<div class=\"gaia gaia-lite gaia-movie\">\\n    <div class=\"detail-pop\"></div>\\n    <input type=\"hidden\" name=\"islogin\" value=\"false\">\\n    <div class=\"fliter-wp\">\\n      <h2>\\n          <div data-type=\"movie\">最近热门电影</div>\\n          <div class=\"filter\">\\n              <form action=\"get\" class=\"gaia_frm\" autocomplete=\"off\">\\n                  <input type=\"hidden\" name=\"type\" value=\"movie\">\\n                  <div class=\"tags\">\\n                      <div class=\"tag-list\"></div>\\n                  </div>\\n                  <input type=\"hidden\" name=\"page_limit\" value=\"20\">\\n                  <input type=\"hidden\" name=\"page_start\" value=\"0\">\\n              </form>\\n          </div>\\n          <div class=\"fliter-placeholder\"></div>\\n          <a href=\"/explore\" class=\"more-link\">更多»</a>\\n      </h2>\\n    </div>\\n    \\n<div class=\"list-wp\">\\n    <div class=\"list\"></div>\\n    <a class=\"more\" href=\"javascript:;\">载入中...</a>\\n</div>\\n\\n    \\n    \\n    <script type=\"text/tmpl\" id=\"tag-tmpl\">\\n        <label>\\n            <%= _.escape(val)%>\\n            <input type=\"radio\" name=\"<%= type%>\" value=\"<%= _.escape(val)%>\">\\n            <% if (custom) { %>\\n                <a href=\"javascript:;\" class=\"remove\">x</a>\\n            <% } %>\\n        </label>\\n    </script>\\n\\n    <script type=\"text/tmpl\" id=\"subject-tmpl\">\\n        <% if (playable) { %>\\n        <a class=\"item\" target=\"_blank\" href=\"<%= url%>?tag=<%= tag%>&from=gaia_video\">\\n        <% } else {%>\\n        <a class=\"item\" target=\"_blank\" href=\"<%= url%>?tag=<%= tag%>&from=gaia\">\\n        <% } %>\\n            <div class=\"cover-wp\" data-isnew=\"<%= is_new%>\" data-id=\"<%= id%>\">\\n                <img src=\"<%= cover%>\" alt=\"<%= title%>\" data-x=\"<%= cover_x%>\" data-y=\"<%= cover_y%>\"/>\\n            </div>\\n            <p>\\n                <% if (is_new) { %>\\n                    <span class=\"green\">\\n                        <img src=\"https://img3.doubanio.com/f/movie/caa8f80abecee1fc6f9d31924cef8dd9a24c7227/pics/movie/ic_new.png\" width=\"16\" class=\"new\" />\\n                    </span>\\n                <% } %>\\n\\n                <%= title%>\\n\\n                <% if (rate !== \\'\\') { %>\\n                    <strong><%= rate%></strong>\\n                <% } else {%>\\n                    <span>暂无评分</span>\\n                <% } %>\\n            </p>\\n        </a>\\n    </script>\\n\\n    <script type=\"text/tmpl\" id=\"subject-info-tmpl\">\\n        <div class=\"wp\">\\n            <div class=\"info\">\\n                <% if (playable) { %>\\n                <h3><a target=\"_blank\" href=\"<%= url%>?tag=<%= tag%>&from=gaia_video\"><%= title%></a></h3>\\n                <% } else { %>\\n                <h3><a target=\"_blank\" href=\"<%= url%>?tag=<%= tag%>&from=gaia\"><%= title%></a></h3>\\n                <% } %>\\n                <p class=\"rank\">\\n                    <% if (rate !== \\'\\') { %>\\n                        <span class=\"ll bigstar<%= star%>\"></span>&nbsp;&nbsp;\\n                        <strong><%= rate%></strong>\\n                    <% } else { %>\\n                        暂无评分\\n                    <% } %>\\n                </p>\\n                <p class=\"meta\">\\n                    <% if (playable) { %>\\n                        <span class=\"green\">可播放</span>\\n                    <% } %>\\n                    <% if (playable && is_new) { %>\\n                        <span class=\"green\">新出片源</span>\\n                    <% } else if (is_new) { %>\\n                        <span class=\"green\">本周新片</span>\\n                    <% } %>\\n                    <% if (duration) { %>\\n                        <span><%= duration%></span>\\n                    <% } %>\\n                    <% if (episodes_count) { %>\\n                        <span><%= episodes_count%>集</span>\\n                    <% } %>\\n                    <% if (region) { %>\\n                        <span><%= region%></span>\\n                    <% } %>\\n                    <% if (types) { %>\\n                        <% _.each (types.slice(0,3), function(type){ %>\\n                        <span><%= type%></span>\\n                        <% }) %>\\n                    <% } %>\\n                    <% if (directors.length) { %>\\n                        <span><%= directors[0]%>(导演)</span>\\n                    <% } %>\\n                    <% if (actors) { %>\\n                        <% _.each (actors.slice(0,3), function(actor){ %>\\n                        <span><%= actor%></span>\\n                        <% }) %>\\n                    <% } %>\\n                </p>\\n                <p class=\"collect-area\">\\n                    <% if (collection_status === \\'F\\') { %>\\n                        <% if (is_tv) { %>\\n                            <a href=\"javascript:;\" rel=\"nofollow\" class=\"j a_collect_btn\" name=\"sbtn-<%= id%>-do\">在看</a>\\n                        <% } %>\\n                        <a href=\"javascript:;\" rel=\"nofollow\" class=\"j a_collect_btn\" name=\"sbtn-<%= id%>-collect\">看过</a>\\n                        <span>已想看</span>\\n                    <% } else if (is_tv && collection_status === \\'N\\') { %>\\n                        <a href=\"javascript:;\" rel=\"nofollow\" class=\"j a_collect_btn\" name=\"sbtn-<%= id%>-collect\">看过</a>\\n                        <span>已在看</span>\\n                    <% } else if (collection_status === \\'P\\') { %>\\n                        <span>已看过</span>\\n                    <% } else { %>\\n                        <a href=\"javascript:;\" rel=\"nofollow\" class=\"j a_collect_btn\" name=\"sbtn-<%= id%>-wish\">想看</a>\\n                        <% if (is_tv) { %>\\n                            <a href=\"javascript:;\" rel=\"nofollow\" class=\"j a_collect_btn\" name=\"sbtn-<%= id%>-do\">在看</a>\\n                        <% } %>\\n                        <a href=\"javascript:;\" rel=\"nofollow\" class=\"j a_collect_btn\" name=\"sbtn-<%= id%>-collect\">看过</a>\\n                    <% } %>\\n                </p>\\n            </div>\\n            <% if (short_comment.content) {%>\\n            <p class=\"comment\">\\n                <%= short_comment.content%>\\n                <span>- <%= short_comment.author%>的短评</span>\\n            </p>\\n            <% } %>\\n        </div>\\n    </script>\\n\\n    <script type=\"text/tmpl\" id=\"gaia-slide-tmpl\">\\n        <div class=\"slider\">\\n            <div class=\"slide-container\" style=\"height: <%= slideHeight %>px;\">\\n                <div class=\"slide-wrapper\" style=\"width: <%= slideWidth * (pageCount + 2) %>px;\">\\n                    <div class=\"slide-page\" style=\"width: <%= slideWidth %>px;\" data-index=\"<%= pageCount - 1%>\"></div>\\n                    <% for (var i = 0; i < pageCount; i++) { %>\\n                        <div class=\"slide-page\" style=\"width: <%= slideWidth %>px;\" data-index=\"<%= i %>\"></div>\\n                    <% } %>\\n                    <div class=\"slide-page\" style=\"width: <%= slideWidth %>px;\" data-index=\"0\"></div>\\n                </div>\\n            </div>\\n            <div class=\"slide-ctrl ui-slide-control\">\\n                <a class=\"btn-prev\" href=\"javascript:void(0)\"></a>\\n                    <% for (var i = 0; i < pageCount; i++) { %>\\n                        <i class=\"dot <%= i === 0 ? \\'activate\\' : \\'\\' %>\" data-index=\"<%= i %>\"></i>\\n                    <% } %>\\n                <a class=\"btn-next\" href=\"javascript:void(0)\"></a>\\n            </div>\\n        </div>\\n    </script>\\n    \\n\\n</div>\\n\\n        \\n\\n<div class=\"gaia gaia-lite gaia-tv\">\\n    <div class=\"detail-pop\"></div>\\n    <input type=\"hidden\" name=\"islogin\" value=\"false\">\\n    <div class=\"fliter-wp\">\\n      <h2>\\n          <div data-type=\"tv\">最近热门电视剧</div>\\n          <div class=\"filter\">\\n              <form action=\"get\" class=\"gaia_frm\" autocomplete=\"off\">\\n                  <input type=\"hidden\" name=\"type\" value=\"movie\">\\n                  <div class=\"tags\">\\n                      <div class=\"tag-list\"></div>\\n                  </div>\\n                  <input type=\"hidden\" name=\"page_limit\" value=\"20\">\\n                  <input type=\"hidden\" name=\"page_start\" value=\"0\">\\n              </form>\\n          </div>\\n          <div class=\"fliter-placeholder\"></div>\\n          <a href=\"/tv\" class=\"more-link\">更多»</a>\\n      </h2>\\n    </div>\\n    \\n<div class=\"list-wp\">\\n    <div class=\"list\"></div>\\n    <a class=\"more\" href=\"javascript:;\">载入中...</a>\\n</div>\\n\\n    \\n    \\n    <script type=\"text/tmpl\" id=\"tag-tmpl\">\\n        <label>\\n            <%= _.escape(val)%>\\n            <input type=\"radio\" name=\"<%= type%>\" value=\"<%= _.escape(val)%>\">\\n            <% if (custom) { %>\\n                <a href=\"javascript:;\" class=\"remove\">x</a>\\n            <% } %>\\n        </label>\\n    </script>\\n\\n    <script type=\"text/tmpl\" id=\"subject-tmpl\">\\n        <% if (playable) { %>\\n        <a class=\"item\" target=\"_blank\" href=\"<%= url%>?tag=<%= tag%>&from=gaia_video\">\\n        <% } else {%>\\n        <a class=\"item\" target=\"_blank\" href=\"<%= url%>?tag=<%= tag%>&from=gaia\">\\n        <% } %>\\n            <div class=\"cover-wp\" data-isnew=\"<%= is_new%>\" data-id=\"<%= id%>\">\\n                <img src=\"<%= cover%>\" alt=\"<%= title%>\" data-x=\"<%= cover_x%>\" data-y=\"<%= cover_y%>\"/>\\n            </div>\\n            <p>\\n                <% if (is_new) { %>\\n                    <span class=\"green\">\\n                        <img src=\"https://img3.doubanio.com/f/movie/caa8f80abecee1fc6f9d31924cef8dd9a24c7227/pics/movie/ic_new.png\" width=\"16\" class=\"new\" />\\n                    </span>\\n                <% } %>\\n\\n                <%= title%>\\n\\n                <% if (rate !== \\'\\') { %>\\n                    <strong><%= rate%></strong>\\n                <% } else {%>\\n                    <span>暂无评分</span>\\n                <% } %>\\n            </p>\\n        </a>\\n    </script>\\n\\n    <script type=\"text/tmpl\" id=\"subject-info-tmpl\">\\n        <div class=\"wp\">\\n            <div class=\"info\">\\n                <% if (playable) { %>\\n                <h3><a target=\"_blank\" href=\"<%= url%>?tag=<%= tag%>&from=gaia_video\"><%= title%></a></h3>\\n                <% } else { %>\\n                <h3><a target=\"_blank\" href=\"<%= url%>?tag=<%= tag%>&from=gaia\"><%= title%></a></h3>\\n                <% } %>\\n                <p class=\"rank\">\\n                    <% if (rate !== \\'\\') { %>\\n                        <span class=\"ll bigstar<%= star%>\"></span>&nbsp;&nbsp;\\n                        <strong><%= rate%></strong>\\n                    <% } else { %>\\n                        暂无评分\\n                    <% } %>\\n                </p>\\n                <p class=\"meta\">\\n                    <% if (playable) { %>\\n                        <span class=\"green\">可播放</span>\\n                    <% } %>\\n                    <% if (playable && is_new) { %>\\n                        <span class=\"green\">新出片源</span>\\n                    <% } else if (is_new) { %>\\n                        <span class=\"green\">本周新片</span>\\n                    <% } %>\\n                    <% if (duration) { %>\\n                        <span><%= duration%></span>\\n                    <% } %>\\n                    <% if (episodes_count) { %>\\n                        <span><%= episodes_count%>集</span>\\n                    <% } %>\\n                    <% if (region) { %>\\n                        <span><%= region%></span>\\n                    <% } %>\\n                    <% if (types) { %>\\n                        <% _.each (types.slice(0,3), function(type){ %>\\n                        <span><%= type%></span>\\n                        <% }) %>\\n                    <% } %>\\n                    <% if (directors.length) { %>\\n                        <span><%= directors[0]%>(导演)</span>\\n                    <% } %>\\n                    <% if (actors) { %>\\n                        <% _.each (actors.slice(0,3), function(actor){ %>\\n                        <span><%= actor%></span>\\n                        <% }) %>\\n                    <% } %>\\n                </p>\\n                <p class=\"collect-area\">\\n                    <% if (collection_status === \\'F\\') { %>\\n                        <% if (is_tv) { %>\\n                            <a href=\"javascript:;\" rel=\"nofollow\" class=\"j a_collect_btn\" name=\"sbtn-<%= id%>-do\">在看</a>\\n                        <% } %>\\n                        <a href=\"javascript:;\" rel=\"nofollow\" class=\"j a_collect_btn\" name=\"sbtn-<%= id%>-collect\">看过</a>\\n                        <span>已想看</span>\\n                    <% } else if (is_tv && collection_status === \\'N\\') { %>\\n                        <a href=\"javascript:;\" rel=\"nofollow\" class=\"j a_collect_btn\" name=\"sbtn-<%= id%>-collect\">看过</a>\\n                        <span>已在看</span>\\n                    <% } else if (collection_status === \\'P\\') { %>\\n                        <span>已看过</span>\\n                    <% } else { %>\\n                        <a href=\"javascript:;\" rel=\"nofollow\" class=\"j a_collect_btn\" name=\"sbtn-<%= id%>-wish\">想看</a>\\n                        <% if (is_tv) { %>\\n                            <a href=\"javascript:;\" rel=\"nofollow\" class=\"j a_collect_btn\" name=\"sbtn-<%= id%>-do\">在看</a>\\n                        <% } %>\\n                        <a href=\"javascript:;\" rel=\"nofollow\" class=\"j a_collect_btn\" name=\"sbtn-<%= id%>-collect\">看过</a>\\n                    <% } %>\\n                </p>\\n            </div>\\n            <% if (short_comment.content) {%>\\n            <p class=\"comment\">\\n                <%= short_comment.content%>\\n                <span>- <%= short_comment.author%>的短评</span>\\n            </p>\\n            <% } %>\\n        </div>\\n    </script>\\n\\n    <script type=\"text/tmpl\" id=\"gaia-slide-tmpl\">\\n        <div class=\"slider\">\\n            <div class=\"slide-container\" style=\"height: <%= slideHeight %>px;\">\\n                <div class=\"slide-wrapper\" style=\"width: <%= slideWidth * (pageCount + 2) %>px;\">\\n                    <div class=\"slide-page\" style=\"width: <%= slideWidth %>px;\" data-index=\"<%= pageCount - 1%>\"></div>\\n                    <% for (var i = 0; i < pageCount; i++) { %>\\n                        <div class=\"slide-page\" style=\"width: <%= slideWidth %>px;\" data-index=\"<%= i %>\"></div>\\n                    <% } %>\\n                    <div class=\"slide-page\" style=\"width: <%= slideWidth %>px;\" data-index=\"0\"></div>\\n                </div>\\n            </div>\\n            <div class=\"slide-ctrl ui-slide-control\">\\n                <a class=\"btn-prev\" href=\"javascript:void(0)\"></a>\\n                    <% for (var i = 0; i < pageCount; i++) { %>\\n                        <i class=\"dot <%= i === 0 ? \\'activate\\' : \\'\\' %>\" data-index=\"<%= i %>\"></i>\\n                    <% } %>\\n                <a class=\"btn-next\" href=\"javascript:void(0)\"></a>\\n            </div>\\n        </div>\\n    </script>\\n    \\n\\n</div>\\n\\n\\n        \\n        \\n<link rel=\"stylesheet\" href=\"https://img3.doubanio.com/f/movie/e27b13e6547399b3101c03fa007362ab4efc9e8f/css/movie/gallery.css\" />\\n<div id=\"gallery-frames\">\\n    <div class=\"gallery-hd\">\\n            <div class=\"gallery-ui-slide-control\">\\n                <span class=\"prev-btn\"><a class=\"gallery-btn-prev\" href=\"javascript:void(0)\"></a></span>\\n                <span class=\"next-btn\"><a class=\"gallery-btn-next\" href=\"javascript:void(0)\"></a></span>\\n            </div>\\n            <div class=\"slide-tip\"><span class=\"gallery-ui-slide-index\">1</span> / <span class=\"gallery-ui-slide-max\">7</span></div>\\n            <h2>热门推荐</h2>\\n    </div>\\n    <div id=\"hot-gallery\">\\n        <ul class=\\'ui-slide-content\\'>\\n                <li class=\\'ui-slide-item\\'>\\n                    \\n<div class=\"gallery-frame\">\\n        <a href=\"https://www.douban.com/note/713906237/?from=gallery\" target=\"_blank\" data-fid=\"3305\">\\n            <img src=\"https://img3.doubanio.com/view/movie_gallery_frame_hot_rec/normal/public/4f355fda9a2b52e.jpg\" alt=\"新导演的奠基石和敲门砖\" width=\"350\" height=\"240\"/>\\n        </a>\\n    <div class=\"gallery-detail\">\\n        <div class=\"gallery-hd\">\\n                <a href=\"https://www.douban.com/note/713906237/?from=gallery\" target=\"_blank\" data-fid=\"3305\">\\n                    <h3>新导演的奠基石和敲门砖</h3>\\n                </a>\\n        </div>\\n        <div class=\"gallery-bd\">\\n            <p>\\n                短片如何参与戛纳电影节？\\n            </p>\\n        </div>\\n    </div>\\n</div>\\n\\n                </li>\\n                <li class=\\'ui-slide-item\\'>\\n                    \\n<div class=\"gallery-frame\">\\n        <a href=\"https://movie.douban.com/trailer/245622/?from=gallery\" target=\"_blank\" data-fid=\"3304\">\\n            <img src=\"https://img3.doubanio.com/view/movie_gallery_frame_hot_rec/normal/public/b1abe911b5a6b4e.jpg\" alt=\"迪士尼真“狮”版《狮子王》官方中字预告\" width=\"350\" height=\"240\"/>\\n        </a>\\n    <div class=\"gallery-detail\">\\n        <div class=\"gallery-hd\">\\n                <a href=\"https://movie.douban.com/trailer/245622/?from=gallery\" target=\"_blank\" data-fid=\"3304\">\\n                    <h3>迪士尼真“狮”版《狮子王》官方中字预告</h3>\\n                </a>\\n        </div>\\n        <div class=\"gallery-bd\">\\n            <p>\\n                神还原！辛巴与彭彭丁满同框可爱爆表！\\n            </p>\\n        </div>\\n    </div>\\n</div>\\n\\n                </li>\\n                <li class=\\'ui-slide-item\\'>\\n                    \\n<div class=\"gallery-frame\">\\n        <a href=\"https://www.douban.com/note/713005596/?from=gallery\" target=\"_blank\" data-fid=\"3303\">\\n            <img src=\"https://img3.doubanio.com/view/movie_gallery_frame_hot_rec/normal/public/500b02274ef8206.jpg\" alt=\"“雷霆沙赞！”——小小的身体，大大的力量\" width=\"350\" height=\"240\"/>\\n        </a>\\n    <div class=\"gallery-detail\">\\n        <div class=\"gallery-hd\">\\n                <a href=\"https://www.douban.com/note/713005596/?from=gallery\" target=\"_blank\" data-fid=\"3303\">\\n                    <h3>“雷霆沙赞！”——小小的身体，大大的力量</h3>\\n                </a>\\n        </div>\\n        <div class=\"gallery-bd\">\\n            <p>\\n                豆瓣影人PRO专访演员扎克瑞·莱维~（文末有福利）\\n            </p>\\n        </div>\\n    </div>\\n</div>\\n\\n                </li>\\n                <li class=\\'ui-slide-item\\'>\\n                    \\n<div class=\"gallery-frame\">\\n        <a href=\"https://movie.douban.com/trailer/245361/?from=gallery\" target=\"_blank\" data-fid=\"3299\">\\n            <img src=\"https://img3.doubanio.com/view/movie_gallery_frame_hot_rec/normal/public/910dcd95b9484ae.jpg\" alt=\"DC反派电影《小丑》首发中字预告\" width=\"350\" height=\"240\"/>\\n        </a>\\n    <div class=\"gallery-detail\">\\n        <div class=\"gallery-hd\">\\n                <a href=\"https://movie.douban.com/trailer/245361/?from=gallery\" target=\"_blank\" data-fid=\"3299\">\\n                    <h3>DC反派电影《小丑》首发中字预告</h3>\\n                </a>\\n        </div>\\n        <div class=\"gallery-bd\">\\n            <p>\\n                杰昆·菲尼克斯饰演新版小丑！锁定年度期待！\\n            </p>\\n        </div>\\n    </div>\\n</div>\\n\\n                </li>\\n                <li class=\\'ui-slide-item\\'>\\n                    \\n<div class=\"gallery-frame\">\\n        <a href=\"https://movie.douban.com/trailer/245301/?from=gallery\" target=\"_blank\" data-fid=\"3301\">\\n            <img src=\"https://img3.doubanio.com/view/movie_gallery_frame_hot_rec/normal/public/0df493f214ec0e2.jpg\" alt=\"娄烨《风中有朵雨做的云》4月4日全国上映\" width=\"350\" height=\"240\"/>\\n        </a>\\n    <div class=\"gallery-detail\">\\n        <div class=\"gallery-hd\">\\n                <a href=\"https://movie.douban.com/trailer/245301/?from=gallery\" target=\"_blank\" data-fid=\"3301\">\\n                    <h3>娄烨《风中有朵雨做的云》4月4日全国上映</h3>\\n                </a>\\n        </div>\\n        <div class=\"gallery-bd\">\\n            <p>\\n                一场游戏一场梦。\\n            </p>\\n        </div>\\n    </div>\\n</div>\\n\\n                </li>\\n                <li class=\\'ui-slide-item\\'>\\n                    \\n<div class=\"gallery-frame\">\\n        <a href=\"https://movie.douban.com/trailer/245276/?from=gallery\" target=\"_blank\" data-fid=\"3300\">\\n            <img src=\"https://img1.doubanio.com/view/movie_gallery_frame_hot_rec/normal/public/2226c5b80752aa8.jpg\" alt=\"《复仇者联盟4：终局之战》官方中字预告\" width=\"350\" height=\"240\"/>\\n        </a>\\n    <div class=\"gallery-detail\">\\n        <div class=\"gallery-hd\">\\n                <a href=\"https://movie.douban.com/trailer/245276/?from=gallery\" target=\"_blank\" data-fid=\"3300\">\\n                    <h3>《复仇者联盟4：终局之战》官方中字预告</h3>\\n                </a>\\n        </div>\\n        <div class=\"gallery-bd\">\\n            <p>\\n                初代复联最后集结，4月24日全国上映！\\n            </p>\\n        </div>\\n    </div>\\n</div>\\n\\n                </li>\\n                <li class=\\'ui-slide-item\\'>\\n                    \\n<div class=\"gallery-frame\">\\n        <a href=\"https://www.douban.com/note/711822936/?from=gallery\" target=\"_blank\" data-fid=\"3294\">\\n            <img src=\"https://img1.doubanio.com/view/movie_gallery_frame_hot_rec/normal/public/4fa89d934721878.jpg\" alt=\"四月追剧指南上线！《权游》大结局即将上演\" width=\"350\" height=\"240\"/>\\n        </a>\\n    <div class=\"gallery-detail\">\\n        <div class=\"gallery-hd\">\\n                <a href=\"https://www.douban.com/note/711822936/?from=gallery\" target=\"_blank\" data-fid=\"3294\">\\n                    <h3>四月追剧指南上线！《权游》大结局即将上演</h3>\\n                </a>\\n        </div>\\n        <div class=\"gallery-bd\">\\n            <p>\\n                除了《权力的游戏》，4月还有哪些神剧？\\n            </p>\\n        </div>\\n    </div>\\n</div>\\n\\n                </li>\\n        </ul>\\n    </div>\\n</div>\\n\\n\\n    \\n\\n    \\n    \\n    \\n    <div id=\"reviews\" class=\"s\" data-dstat-areaid=\"77\" data-dstat-mode=\"click,expose\">\\n        <div class=\"reviews-hd\">\\n            <h2>最受欢迎的影评<span><a href=\"/review/best/\">更多热门影评&raquo;</a></span><span><a href=\"/review/latest/\">新片影评&raquo;</a></span></h2>\\n        </div>\\n        <div class=\"reviews-bd\">\\n                \\n    <div class=\"review \">\\n        <div class=\"review-hd\">\\n            <a href=\"https://movie.douban.com/subject/26290398/?from=reviews\">\\n                    <img class=\"lazy\"\\n                        data-original=\"https://img1.doubanio.com/view/photo/s_ratio_poster/public/p2530385279.jpg\"\\n                        src=\"https://img3.doubanio.com/f/movie/54a69da17972770faffce1f758c820ecb8e440af/pics/movie/grey.gif\"\\n                        alt=\"美食大冒险之英雄烩\" />\\n            </a>\\n        </div>\\n        <div class=\"review-bd\">\\n            <h3><a href=\"https://movie.douban.com/review/9570036/\" class=\"\">我们有美食，我们也有功夫</a></h3>\\n            <div class=\"review-meta\">\\n                <a href=\"https://www.douban.com/people/shenshiliu/\">沈十六</a> 评论\\n                <a href=\"https://movie.douban.com/subject/26290398/?from=reviews\">《美食大冒险之英雄烩》</a>\\n\\n                    <span class=\"allstar50\"></span>\\n            </div>\\n            <div class=\"review-content\">\\n                这几年很多人都在喊“国漫崛起”、“xx是原创动画之光”，也会看到一些表现不俗的动画电影，比如每年一部的“大”系列——《大圣归来》、《大鱼海棠》、《大护法》。他们题材不同，风格各异，但都有笑点泪点，也...\\n                    <a href=\"https://movie.douban.com/review/9570036/\">(全文)</a>\\n            </div>\\n        </div>\\n    </div>\\n\\n                \\n    <div class=\"review \">\\n        <div class=\"review-hd\">\\n            <a href=\"https://movie.douban.com/subject/26985127/?from=reviews\">\\n                    <img class=\"lazy\"\\n                        data-original=\"https://img3.doubanio.com/view/photo/s_ratio_poster/public/p2529571873.jpg\"\\n                        src=\"https://img3.doubanio.com/f/movie/54a69da17972770faffce1f758c820ecb8e440af/pics/movie/grey.gif\"\\n                        alt=\"一出好戏\" />\\n            </a>\\n        </div>\\n        <div class=\"review-bd\">\\n            <h3><a href=\"https://movie.douban.com/review/9584058/\" class=\"\">《一出好戏》：野心够大，能力不足</a></h3>\\n            <div class=\"review-meta\">\\n                <a href=\"https://www.douban.com/people/175293106/\">电影幕后故事</a> 评论\\n                <a href=\"https://movie.douban.com/subject/26985127/?from=reviews\">《一出好戏》</a>\\n\\n                    <span class=\"allstar30\"></span>\\n            </div>\\n            <div class=\"review-content\">\\n                黄渤当导演了，什么概念？ 现在舞台上活跃的明星演员们有一个算一个，都是毁誉参半，有人捧就有人骂，这是常态。 但唯独黄渤是个例外，他是有口皆碑的“好人”，这可不是发好人卡的意思，是真的人好。 做人做事态...\\n                    <a href=\"https://movie.douban.com/review/9584058/\">(全文)</a>\\n            </div>\\n        </div>\\n    </div>\\n\\n                \\n    <div class=\"review \">\\n        <div class=\"review-hd\">\\n            <a href=\"https://movie.douban.com/subject/1937946/?from=reviews\">\\n                    <img class=\"lazy\"\\n                        data-original=\"https://img3.doubanio.com/view/photo/s_ratio_poster/public/p2079334286.jpg\"\\n                        src=\"https://img3.doubanio.com/f/movie/54a69da17972770faffce1f758c820ecb8e440af/pics/movie/grey.gif\"\\n                        alt=\"穿越时空的少女\" />\\n            </a>\\n        </div>\\n        <div class=\"review-bd\">\\n            <h3><a href=\"https://movie.douban.com/review/9588335/\" class=\"\">不会被遗忘的时光</a></h3>\\n            <div class=\"review-meta\">\\n                <a href=\"https://www.douban.com/people/182798080/\">你谁呀</a> 评论\\n                <a href=\"https://movie.douban.com/subject/1937946/?from=reviews\">《穿越时空的少女》</a>\\n\\n                    <span class=\"allstar40\"></span>\\n            </div>\\n            <div class=\"review-content\">\\n                学校操场上，精力过剩的男生用运动挥霍着青春期的汗水，门口那条林荫步道中，与好友结伴走向回家的公交站，还有那辆刚买不久但已被骑得伤痕累累的变速山地车，和书包里节省下两天的早餐钱所换来的漫画书。 当然，...\\n                    <a href=\"https://movie.douban.com/review/9588335/\">(全文)</a>\\n            </div>\\n        </div>\\n    </div>\\n\\n                \\n    <div class=\"review last\">\\n        <div class=\"review-hd\">\\n            <a href=\"https://movie.douban.com/subject/26426194/?from=reviews\">\\n                    <img class=\"lazy\"\\n                        data-original=\"https://img3.doubanio.com/view/photo/s_ratio_poster/public/p2530572643.jpg\"\\n                        src=\"https://img3.doubanio.com/f/movie/54a69da17972770faffce1f758c820ecb8e440af/pics/movie/grey.gif\"\\n                        alt=\"巨齿鲨\" />\\n            </a>\\n        </div>\\n        <div class=\"review-bd\">\\n            <h3><a href=\"https://movie.douban.com/review/9576584/\" class=\"\">关于中国元素，我想说几句。</a></h3>\\n            <div class=\"review-meta\">\\n                <a href=\"https://www.douban.com/people/167392628/\">有趣</a> 评论\\n                <a href=\"https://movie.douban.com/subject/26426194/?from=reviews\">《巨齿鲨》</a>\\n\\n                    <span class=\"allstar40\"></span>\\n            </div>\\n            <div class=\"review-content\">\\n                首先，我能告诉大家，《巨齿鲨》是一部6.5到7分，对比强森的《狂暴巨兽》的合格爆米花电影。拍鲨鱼的电影是多，但之前的《鲨滩》和《鲨海》都是主讲美女对抗鲨鱼，主打小格局下的幽暗惊悚，但这是一部妥妥的怪兽...\\n                    <a href=\"https://movie.douban.com/review/9576584/\">(全文)</a>\\n            </div>\\n        </div>\\n    </div>\\n\\n        </div>\\n    </div>\\n\\n    \\n\\n\\n\\n            </div>\\n            <div class=\"aside\">\\n                \\n    \\n    \\n\\n    \\n    \\n\\n    <div class=\"rating_answer\">\\n        <ul>\\n            <li>\\n                <a href=\"https://blog.douban.com/douban/2015/12/18/3060/\" target=\"_blank\">豆瓣电影评分八问</a>\\n            </li>\\n        </ul>\\n    </div>\\n\\n\\n    <!-- douban ad begin -->\\n    <div id=\"dale_movie_home_top_right\" class=\"s\" data-dstat-areaid=\"71\" data-dstat-mode=\"click,expose\"></div>\\n    <!-- douban ad end -->\\n\\n    \\n  \\n  \\n  \\n  <div class=\"hot_link\">\\n    <h2> 电影活动 &nbsp;·&nbsp;·&nbsp;·&nbsp;·&nbsp;·&nbsp;· </h2>\\n    <ul>\\n          <li>\\n              <a href=\"https://www.douban.com/note/713005596/\" data-bid=\"2719\" target=\"_blank\">\\n                  专访“沙赞”——小身体大能量(福利)\\n              </a>\\n          </li>\\n    </ul>\\n  </div>\\n\\n\\n    <!-- douban ad begin -->\\n    <div id=\"dale_movie_home_top_right_ford\" class=\"s\" data-dstat-areaid=\"71\" data-dstat-mode=\"click,expose\"></div>\\n    <div id=\"dale_movie_home_top_right2\" class=\"s\" data-dstat-areaid=\"71\" data-dstat-mode=\"click,expose\"></div>\\n    <!-- douban ad end -->\\n\\n    \\n    <div id=\"billboard\" class=\"s\" data-dstat-areaid=\"75\" data-dstat-mode=\"click,expose\">\\n        <div class=\"billboard-hd\">\\n            <h2>一周口碑榜<span><a href=\"/chart\">更多榜单&raquo;</a></span></h2>\\n        </div>\\n        <div class=\"billboard-bd\">\\n            <table>\\n                    <tr>\\n                        <td class=\"order\">1</td>\\n                        <td class=\"title\"><a onclick=\"moreurl(this, {from:\\'mv_rk\\'})\" href=\"https://movie.douban.com/subject/26728669/\">风中有朵雨做的云</a></td>\\n                    </tr>\\n                    <tr>\\n                        <td class=\"order\">2</td>\\n                        <td class=\"title\"><a onclick=\"moreurl(this, {from:\\'mv_rk\\'})\" href=\"https://movie.douban.com/subject/30192401/\">气球</a></td>\\n                    </tr>\\n                    <tr>\\n                        <td class=\"order\">3</td>\\n                        <td class=\"title\"><a onclick=\"moreurl(this, {from:\\'mv_rk\\'})\" href=\"https://movie.douban.com/subject/30334073/\">调音师</a></td>\\n                    </tr>\\n                    <tr>\\n                        <td class=\"order\">4</td>\\n                        <td class=\"title\"><a onclick=\"moreurl(this, {from:\\'mv_rk\\'})\" href=\"https://movie.douban.com/subject/26701196/\">无主之作</a></td>\\n                    </tr>\\n                    <tr>\\n                        <td class=\"order\">5</td>\\n                        <td class=\"title\"><a onclick=\"moreurl(this, {from:\\'mv_rk\\'})\" href=\"https://movie.douban.com/subject/27035460/\">永不止息</a></td>\\n                    </tr>\\n                    <tr>\\n                        <td class=\"order\">6</td>\\n                        <td class=\"title\"><a onclick=\"moreurl(this, {from:\\'mv_rk\\'})\" href=\"https://movie.douban.com/subject/2244426/\">雷霆沙赞！</a></td>\\n                    </tr>\\n                    <tr>\\n                        <td class=\"order\">7</td>\\n                        <td class=\"title\"><a onclick=\"moreurl(this, {from:\\'mv_rk\\'})\" href=\"https://movie.douban.com/subject/6538697/\">劫匪</a></td>\\n                    </tr>\\n                    <tr>\\n                        <td class=\"order\">8</td>\\n                        <td class=\"title\"><a onclick=\"moreurl(this, {from:\\'mv_rk\\'})\" href=\"https://movie.douban.com/subject/30433802/\">月事革命</a></td>\\n                    </tr>\\n                    <tr>\\n                        <td class=\"order\">9</td>\\n                        <td class=\"title\"><a onclick=\"moreurl(this, {from:\\'mv_rk\\'})\" href=\"https://movie.douban.com/subject/27133218/\">非我族类</a></td>\\n                    </tr>\\n                    <tr>\\n                        <td class=\"order\">10</td>\\n                        <td class=\"title\"><a onclick=\"moreurl(this, {from:\\'mv_rk\\'})\" href=\"https://movie.douban.com/subject/30218116/\">哈纳莱伊湾</a></td>\\n                    </tr>\\n            </table>\\n        </div>\\n    </div>\\n\\n    \\n\\n\\n    <!-- douban ad begin -->\\n    <div id=\"dale_movie_home_bottom_right\"></div>\\n    <!-- douban ad end -->\\n\\n    \\n    \\n\\n    <div id=\"doulist\">\\n        <h2>热门豆列</h2>\\n        <ul>\\n            <li>\\n            <span>14推荐</span>\\n            <div class=\"title\"><a target=\"_blank\" href=\"https://www.douban.com/doulist/1545747/\">这些年，我看过的les片(不断更新中）</a></div>\\n            </li>\\n            <li>\\n            <span>2572推荐</span>\\n            <div class=\"title\"><a target=\"_blank\" href=\"https://www.douban.com/doulist/184195/\">【♨大未的私房菜馆♨】</a></div>\\n            </li>\\n        </ul>\\n    </div>\\n\\n\\n    \\n    <div id=\"contact-and-cooperation\">\\n        <div class=\"contact-and-cooperation-hd\">\\n            <h2>合作联系</h2>\\n        </div>\\n        <div class=\"contact-and-cooperation-bd\">\\n            <ul>\\n                    <li>电影合作邮箱：<img src=\"https://img3.doubanio.com/f/movie/c858df348b4d199c848774ed1b3ed529052f0fa1/pics/movie/email_movie.png\"/></li>\\n                    <li>电视剧合作邮箱：\\n                        <img src=\"https://img3.doubanio.com/f/movie/4de38ce91fdad7bcf3246c2594c84fa800eba08a/pics/movie/email_tv.png\"/>\\n                        <img src=\"https://img3.doubanio.com/f/shire/486503da8c82ffdbecec41c065927f96cbf02e4f/pics/icon/ic_new.png\" class=\"new\" />\\n                    </li>\\n                    <li>豆瓣影人PRO合作邮箱：<img src=\"https://img3.doubanio.com/f/movie/51a921a21ca8b612d586d37d3eb122e583a20d67/pics/movie/email_pro.png\"/></li>\\n            </ul>\\n        </div>\\n    </div>\\n    \\n\\n    <br/>\\n    \\n    \\n    <div class=\"contact mod\">\\n        <h2>关注我们</h2>\\n        <ul class=\"embassy-list clearfix\">\\n            <li>\\n                <a href=\"https://weibo.com/doubanfilm\" target=\"_blank\" class=\"icon-embassy-weibo\"></a>\\n                <a href=\"https://weibo.com/doubanfilm\" target=\"_blank\" class=\"primary-link\">微博</a>\\n            </li>\\n            <li>\\n                <a class=\"icon-embassy-weixin\">\\n                    <div class=\"hover\"><img src=\"https://img3.doubanio.com/f/movie/2e2ea342f4f4590300de32c5f30a9184176b3541/pics/movie/home_wechat_qrcode@2x.jpg\" width=\"130px\" height=\"130px\"></div>\\n                </a>\\n                <a class=\"primary-link\" href=\"javascript:;\">微信</a>\\n            </li>\\n            <li>\\n                <a href=\"https://weibo.com/doubanzui\" target=\"_blank\" class=\"icon-embassy-bite-me\"></a>\\n                <a href=\"https://weibo.com/doubanzui\" target=\"_blank\" class=\"primary-link\">瓣嘴</a>\\n            </li>\\n            <li>\\n                <a href=\"https://www.douban.com/people/186015655/\" target=\"_blank\" class=\"icon-embassy-film-pro\"></a>\\n                <a href=\"https://www.douban.com/people/186015655/\" target=\"_blank\" class=\"primary-link\">豆瓣影人PRO</a>\\n            </li>\\n            <li>\\n                <a href=\"https://www.douban.com/people/nobodyfilm/\" target=\"_blank\" class=\"icon-embassy-club-site\"></a>\\n                <a href=\"https://www.douban.com/people/nobodyfilm/\" target=\"_blank\" class=\"primary-link\">观影club</a>\\n            </li>\\n        </ul>\\n    </div>\\n\\n    <!-- douban ad begin -->\\n    <div id=\"dale_movie_home_inner_bottom\"></div>\\n    <div id=\"dale_movie_home_download_bottom\"></div>\\n    <!-- douban ad end -->\\n\\n    <!-- douban ad begin -->\\n    <div id=\"dale_movie_home_bottom_right_down\"></div>\\n    <!-- douban ad end -->\\n\\n            </div>\\n            <div class=\"extra\">\\n                \\n    <!-- douban ad begin -->\\n    <div id=\"dale_movie_homepage_bottom\"></div>\\n    <!-- douban ad end -->\\n\\n            </div>\\n        </div>\\n    </div>\\n\\n        \\n    <div id=\"footer\">\\n            <div class=\"footer-extra\"></div>\\n        \\n<span id=\"icp\" class=\"fleft gray-link\">\\n    &copy; 2005－2019 douban.com, all rights reserved 北京豆网科技有限公司\\n</span>\\n\\n<a href=\"https://www.douban.com/hnypt/variformcyst.py\" style=\"display: none;\"></a>\\n\\n<span class=\"fright\">\\n    <a href=\"https://www.douban.com/about\">关于豆瓣</a>\\n    · <a href=\"https://www.douban.com/jobs\">在豆瓣工作</a>\\n    · <a href=\"https://www.douban.com/about?topic=contactus\">联系我们</a>\\n    · <a href=\"https://www.douban.com/about?policy=disclaimer\">免责声明</a>\\n    \\n    · <a href=\"https://help.douban.com/?app=movie\" target=\"_blank\">帮助中心</a>\\n    · <a href=\"https://www.douban.com/doubanapp/\">移动应用</a>\\n    · <a href=\"https://www.douban.com/partner/\">豆瓣广告</a>\\n</span>\\n\\n    </div>\\n\\n    </div>\\n    <script type=\"text/javascript\" src=\"https://img3.doubanio.com/misc/mixed_static/1dd9ea66a9b8c99b.js\"></script>\\n        \\n        \\n    <link rel=\"stylesheet\" type=\"text/css\" href=\"https://img3.doubanio.com/f/shire/8377b9498330a2e6f056d863987cc7a37eb4d486/css/ui/dialog.css\" />\\n    <link rel=\"stylesheet\" type=\"text/css\" href=\"https://img3.doubanio.com/f/movie/4aca95d66d37ec0712b3d19973b5d8feb75f2f05/css/movie/mod/reg_login_pop.css\" />\\n    <script type=\"text/javascript\" src=\"https://img3.doubanio.com/f/shire/77323ae72a612bba8b65f845491513ff3329b1bb/js/do.js\" data-cfg-autoload=\"false\"></script>\\n    <script type=\"text/javascript\" src=\"https://img3.doubanio.com/f/shire/4ea3216519a6183c7bcd4f7d1a6d4fd57ce1a244/js/ui/dialog.js\"></script>\\n    <script type=\"text/javascript\">\\n        var HTTPS_DB=\\'https://www.douban.com\\';\\nvar account_pop={open:function(o,e){e?referrer=\"?referrer=\"+encodeURIComponent(e):referrer=\"?referrer=\"+window.location.href;var n=\"\",i=\"\",t=448;n=\"用户登录\",i=\"https://accounts.douban.com/passport/login_popup?source=movie\";var r=document.location.protocol+\"//\"+document.location.hostname,a=dui.Dialog({width:340,title:n,height:t,cls:\"account_pop\",isHideTitle:!0,modal:!0,content:\"<iframe scrolling=\\'no\\' frameborder=\\'0\\' width=\\'340\\' height=\\'\"+t+\"\\' src=\\'\"+i+\"\\' name=\\'\"+r+\"\\'></iframe>\"},!0),c=a.node;if(c.undelegate(),c.delegate(\".dui-dialog-close\",\"click\",function(){var o=$(\"body\");o.find(\"#login_msk\").hide(),o.find(\".account_pop\").remove()}),$(window).width()<478){var d=\"\";\"reg\"===o?d=HTTPS_DB+\"/accounts/register\"+referrer:\"login\"===o&&(d=HTTPS_DB+\"/accounts/login\"+referrer),window.location.href=d}else a.open();$(window).bind(\"message\",function(o){\"https://accounts.douban.com\"===o.originalEvent.origin&&(c.find(\"iframe\").css(\"height\",o.originalEvent.data),c.height(o.originalEvent.data),a.update())})}};Douban&&Douban.init_show_login&&(Douban.init_show_login=function(o){var e=$(o);e.click(function(){var o=e.data(\"ref\")||\"\";return account_pop.open(\"login\",o),!1})}),Do(function(){$(\"body\").delegate(\".pop_register\",\"click\",function(o){o.preventDefault();var e=$(this).data(\"ref\")||\"\";return account_pop.open(\"reg\",e),!1}),$(\"body\").delegate(\".pop_login\",\"click\",function(o){o.preventDefault();var e=$(this).data(\"ref\")||\"\";return account_pop.open(\"login\",e),!1})});\\n    </script>\\n\\n    \\n    <!-- douban ad begin -->\\n    \\n    \\n\\n\\n\\n\\n    \\n<script type=\"text/javascript\">\\n    (function (global) {\\n        var newNode = global.document.createElement(\\'script\\'),\\n            existingNode = global.document.getElementsByTagName(\\'script\\')[0],\\n            adSource = \\'//erebor.douban.com/\\',\\n            userId = \\'\\',\\n            browserId = \\'kfYCXAR5rCE\\',\\n            criteria = \\'3:/\\',\\n            preview = \\'\\',\\n            debug = false,\\n            adSlots = [\\'dale_movie_homepage_top_large\\', \\'dale_movie_home_top_right\\', \\'dale_movie_home_top_right_ford\\', \\'dale_movie_home_top_right2\\', \\'dale_movie_home_main_top\\', \\'dale_movie_home_bottom_right\\', \\'dale_movie_homepage_bottom\\', \\'movie_home_left_bottom\\', \\'dale_movie_home_bottom_right_down\\', \\'dale_movie_home_inner_bottom\\', \\'dale_movie_home_download_bottom\\'];\\n\\n        global.DoubanAdRequest = {src: adSource, uid: userId, bid: browserId, crtr: criteria, prv: preview, debug: debug};\\n        global.DoubanAdSlots = (global.DoubanAdSlots || []).concat(adSlots);\\n\\n        newNode.setAttribute(\\'type\\', \\'text/javascript\\');\\n        newNode.setAttribute(\\'src\\', \\'https://img3.doubanio.com/f/adjs/32e0cf0a8269761a00293dae037815e720bfd2e8/ad.release.js\\');\\n        newNode.setAttribute(\\'async\\', true);\\n        existingNode.parentNode.insertBefore(newNode, existingNode);\\n    })(this);\\n</script>\\n\\n\\n\\n\\n\\n\\n\\n\\n\\n\\n    <!-- douban ad end -->\\n    \\n\\n    \\n    \\n\\n\\n\\n\\n\\n\\n\\n\\n\\n<script type=\"text/javascript\">\\nvar _paq = _paq || [];\\n_paq.push([\\'trackPageView\\']);\\n_paq.push([\\'enableLinkTracking\\']);\\n(function() {\\n    var p=((\\'https:\\' == document.location.protocol) ? \\'https\\' : \\'http\\'), u=p+\\'://fundin.douban.com/\\';\\n    _paq.push([\\'setTrackerUrl\\', u+\\'piwik\\']);\\n    _paq.push([\\'setSiteId\\', \\'100001\\']);\\n    var d=document, g=d.createElement(\\'script\\'), s=d.getElementsByTagName(\\'script\\')[0];\\n    g.type=\\'text/javascript\\';\\n    g.defer=true;\\n    g.async=true;\\n    g.src=p+\\'://img3.doubanio.com/dae/fundin/piwik.js\\';\\n    s.parentNode.insertBefore(g,s);\\n})();\\n</script>\\n\\n<script type=\"text/javascript\">\\nvar setMethodWithNs = function(namespace) {\\n  var ns = namespace ? namespace + \\'.\\' : \\'\\'\\n    , fn = function(string) {\\n        if(!ns) {return string}\\n        return ns + string\\n      }\\n  return fn\\n}\\n\\nvar gaWithNamespace = function(fn, namespace) {\\n  var method = setMethodWithNs(namespace)\\n  fn.call(this, method)\\n}\\n\\nvar _gaq = _gaq || []\\n  , accounts = [\\n      { id: \\'UA-7019765-1\\', namespace: \\'douban\\' }\\n    , { id: \\'UA-7019765-19\\', namespace: \\'\\' }\\n    ]\\n  , gaInit = function(account) {\\n      gaWithNamespace(function(method) {\\n        gaInitFn.call(this, method, account)\\n      }, account.namespace)\\n    }\\n  , gaInitFn = function(method, account) {\\n      _gaq.push([method(\\'_setAccount\\'), account.id]);\\n      _gaq.push([method(\\'_setSampleRate\\'), \\'5\\']);\\n\\n      \\n  _gaq.push([method(\\'_addOrganic\\'), \\'google\\', \\'q\\'])\\n  _gaq.push([method(\\'_addOrganic\\'), \\'baidu\\', \\'wd\\'])\\n  _gaq.push([method(\\'_addOrganic\\'), \\'soso\\', \\'w\\'])\\n  _gaq.push([method(\\'_addOrganic\\'), \\'youdao\\', \\'q\\'])\\n  _gaq.push([method(\\'_addOrganic\\'), \\'so.360.cn\\', \\'q\\'])\\n  _gaq.push([method(\\'_addOrganic\\'), \\'sogou\\', \\'query\\'])\\n  if (account.namespace) {\\n    _gaq.push([method(\\'_addIgnoredOrganic\\'), \\'豆瓣\\'])\\n    _gaq.push([method(\\'_addIgnoredOrganic\\'), \\'douban\\'])\\n    _gaq.push([method(\\'_addIgnoredOrganic\\'), \\'豆瓣网\\'])\\n    _gaq.push([method(\\'_addIgnoredOrganic\\'), \\'www.douban.com\\'])\\n  }\\n\\n      if (account.namespace === \\'douban\\') {\\n        _gaq.push([method(\\'_setDomainName\\'), \\'.douban.com\\'])\\n      }\\n\\n        _gaq.push([method(\\'_setCustomVar\\'), 1, \\'responsive_view_mode\\', \\'desktop\\', 3])\\n\\n        _gaq.push([method(\\'_setCustomVar\\'), 2, \\'login_status\\', \\'0\\', 2]);\\n\\n      _gaq.push([method(\\'_trackPageview\\')])\\n    }\\n\\nfor(var i = 0, l = accounts.length; i < l; i++) {\\n  var account = accounts[i]\\n  gaInit(account)\\n}\\n\\n\\n;(function() {\\n    var ga = document.createElement(\\'script\\');\\n    ga.src = (\\'https:\\' == document.location.protocol ? \\'https://ssl\\' : \\'http://www\\') + \\'.google-analytics.com/ga.js\\';\\n    ga.setAttribute(\\'async\\', \\'true\\');\\n    document.documentElement.firstChild.appendChild(ga);\\n})()\\n</script>\\n\\n\\n\\n\\n\\n\\n\\n\\n      \\n    \\n\\n    <!-- anson67-docker-->\\n\\n  <script>_SPLITTEST=\\'\\'</script>\\n</body>\\n\\n</html>\\n\\n\\n'"
      ]
     },
     "execution_count": 27,
     "metadata": {},
     "output_type": "execute_result"
    }
   ],
   "source": [
    "html_content"
   ]
  },
  {
   "cell_type": "code",
   "execution_count": 28,
   "metadata": {},
   "outputs": [],
   "source": [
    "original_string = 'href=\"https://movie.douban.com/subject/26213252/?from=showing\">'"
   ]
  },
  {
   "cell_type": "code",
   "execution_count": 29,
   "metadata": {},
   "outputs": [],
   "source": [
    "import matplotlib.pyplot as plt"
   ]
  },
  {
   "cell_type": "code",
   "execution_count": 30,
   "metadata": {},
   "outputs": [
    {
     "data": {
      "text/plain": [
       "['https://img3.doubanio.com/view/photo/s_ratio_poster/public/p2551353482.jpg',\n",
       " 'https://img3.doubanio.com/view/photo/s_ratio_poster/public/p2551249211.jpg',\n",
       " 'https://img3.doubanio.com/view/photo/s_ratio_poster/public/p2553190782.jpg',\n",
       " 'https://img3.doubanio.com/view/photo/s_ratio_poster/public/p2552608202.jpg',\n",
       " 'https://img3.doubanio.com/view/photo/s_ratio_poster/public/p2553090666.jpg',\n",
       " 'https://img3.doubanio.com/view/photo/s_ratio_poster/public/p2549234765.jpg',\n",
       " 'https://img3.doubanio.com/view/photo/s_ratio_poster/public/p2549558913.jpg',\n",
       " 'https://img3.doubanio.com/view/photo/s_ratio_poster/public/p2552522615.jpg',\n",
       " 'https://img3.doubanio.com/view/photo/s_ratio_poster/public/p2551172384.jpg',\n",
       " 'https://img3.doubanio.com/view/photo/s_ratio_poster/public/p2549523952.jpg',\n",
       " 'https://img3.doubanio.com/view/photo/s_ratio_poster/public/p2551569616.jpg',\n",
       " 'https://img3.doubanio.com/view/photo/s_ratio_poster/public/p2549177902.jpg',\n",
       " 'https://img3.doubanio.com/view/photo/s_ratio_poster/public/p2545472803.jpg',\n",
       " 'https://img3.doubanio.com/view/photo/s_ratio_poster/public/p2544987866.jpg',\n",
       " 'https://img3.doubanio.com/view/photo/s_ratio_poster/public/p2549910141.jpg',\n",
       " 'https://img3.doubanio.com/view/photo/s_ratio_poster/public/p2546335362.jpg',\n",
       " 'https://img3.doubanio.com/view/photo/s_ratio_poster/public/p2529571873.jpg',\n",
       " 'https://img3.doubanio.com/view/photo/s_ratio_poster/public/p2079334286.jpg',\n",
       " 'https://img3.doubanio.com/view/photo/s_ratio_poster/public/p2530572643.jpg']"
      ]
     },
     "execution_count": 30,
     "metadata": {},
     "output_type": "execute_result"
    }
   ],
   "source": [
    "image_pattern.findall(html_content)"
   ]
  },
  {
   "cell_type": "code",
   "execution_count": 31,
   "metadata": {},
   "outputs": [
    {
     "data": {
      "text/plain": [
       "{'https://movie.douban.com/subject/1652592/?from=showing',\n",
       " 'https://movie.douban.com/subject/19899707/?from=showing',\n",
       " 'https://movie.douban.com/subject/2244426/?from=showing',\n",
       " 'https://movie.douban.com/subject/25924056/?from=showing',\n",
       " 'https://movie.douban.com/subject/26266893/?from=showing',\n",
       " 'https://movie.douban.com/subject/26715636/?from=showing',\n",
       " 'https://movie.douban.com/subject/26728669/?from=showing',\n",
       " 'https://movie.douban.com/subject/26774017/?from=showing',\n",
       " 'https://movie.douban.com/subject/26803717/?from=showing',\n",
       " 'https://movie.douban.com/subject/26850330/?from=showing',\n",
       " 'https://movie.douban.com/subject/27040737/?from=showing',\n",
       " 'https://movie.douban.com/subject/27060077/?from=showing',\n",
       " 'https://movie.douban.com/subject/27063305/?from=showing',\n",
       " 'https://movie.douban.com/subject/27185558/?from=showing',\n",
       " 'https://movie.douban.com/subject/27202819/?from=showing',\n",
       " 'https://movie.douban.com/subject/27624661/?from=showing',\n",
       " 'https://movie.douban.com/subject/27663742/?from=showing',\n",
       " 'https://movie.douban.com/subject/30164448/?from=showing',\n",
       " 'https://movie.douban.com/subject/30334073/?from=showing',\n",
       " 'https://movie.douban.com/subject/30335687/?from=showing',\n",
       " 'https://movie.douban.com/subject/30345723/?from=showing',\n",
       " 'https://movie.douban.com/subject/30450410/?from=showing',\n",
       " 'https://movie.douban.com/subject/30463624/?from=showing',\n",
       " 'https://movie.douban.com/subject/5300054/?from=showing'}"
      ]
     },
     "execution_count": 31,
     "metadata": {},
     "output_type": "execute_result"
    }
   ],
   "source": [
    "set(url_pattern.findall(html_content))"
   ]
  },
  {
   "cell_type": "markdown",
   "metadata": {},
   "source": [
    "# 关于爬虫的深入知识"
   ]
  },
  {
   "cell_type": "markdown",
   "metadata": {},
   "source": [
    "1.beautifulsoup\n",
    "2.webkit"
   ]
  },
  {
   "cell_type": "code",
   "execution_count": 32,
   "metadata": {},
   "outputs": [
    {
     "name": "stdout",
     "output_type": "stream",
     "text": [
      "['https://movie.douban.com/subject/27202819/?from=showing']\n",
      "https://movie.douban.com/subject/27202819/?from=showing\n",
      "['https://movie.douban.com/subject/27202819/?from=showing']\n",
      "https://movie.douban.com/subject/27202819/?from=showing\n",
      "['https://movie.douban.com/subject/26850330/?from=showing']\n",
      "https://movie.douban.com/subject/26850330/?from=showing\n",
      "['https://movie.douban.com/subject/26850330/?from=showing']\n",
      "https://movie.douban.com/subject/26850330/?from=showing\n",
      "['https://movie.douban.com/subject/30334073/?from=showing']\n",
      "https://movie.douban.com/subject/30334073/?from=showing\n",
      "['https://movie.douban.com/subject/30334073/?from=showing']\n",
      "https://movie.douban.com/subject/30334073/?from=showing\n",
      "['https://movie.douban.com/subject/27040737/?from=showing']\n",
      "https://movie.douban.com/subject/27040737/?from=showing\n",
      "['https://movie.douban.com/subject/27040737/?from=showing']\n",
      "https://movie.douban.com/subject/27040737/?from=showing\n",
      "['https://movie.douban.com/subject/2244426/?from=showing']\n",
      "https://movie.douban.com/subject/2244426/?from=showing\n",
      "['https://movie.douban.com/subject/2244426/?from=showing']\n",
      "https://movie.douban.com/subject/2244426/?from=showing\n",
      "['https://movie.douban.com/subject/26774017/?from=showing']\n",
      "https://movie.douban.com/subject/26774017/?from=showing\n",
      "['https://movie.douban.com/subject/26774017/?from=showing']\n",
      "https://movie.douban.com/subject/26774017/?from=showing\n",
      "['https://movie.douban.com/subject/27185558/?from=showing']\n",
      "https://movie.douban.com/subject/27185558/?from=showing\n",
      "['https://movie.douban.com/subject/27185558/?from=showing']\n",
      "https://movie.douban.com/subject/27185558/?from=showing\n",
      "['https://movie.douban.com/subject/26803717/?from=showing']\n",
      "https://movie.douban.com/subject/26803717/?from=showing\n",
      "['https://movie.douban.com/subject/26803717/?from=showing']\n",
      "https://movie.douban.com/subject/26803717/?from=showing\n",
      "['https://movie.douban.com/subject/27663742/?from=showing']\n",
      "https://movie.douban.com/subject/27663742/?from=showing\n",
      "['https://movie.douban.com/subject/27663742/?from=showing']\n",
      "https://movie.douban.com/subject/27663742/?from=showing\n",
      "['https://movie.douban.com/subject/25924056/?from=showing']\n",
      "https://movie.douban.com/subject/25924056/?from=showing\n",
      "['https://movie.douban.com/subject/25924056/?from=showing']\n",
      "https://movie.douban.com/subject/25924056/?from=showing\n",
      "['https://movie.douban.com/subject/5300054/?from=showing']\n",
      "https://movie.douban.com/subject/5300054/?from=showing\n",
      "['https://movie.douban.com/subject/5300054/?from=showing']\n",
      "https://movie.douban.com/subject/5300054/?from=showing\n",
      "['https://movie.douban.com/subject/26728669/?from=showing']\n",
      "https://movie.douban.com/subject/26728669/?from=showing\n",
      "['https://movie.douban.com/subject/26728669/?from=showing']\n",
      "https://movie.douban.com/subject/26728669/?from=showing\n",
      "['https://movie.douban.com/subject/30164448/?from=showing']\n",
      "https://movie.douban.com/subject/30164448/?from=showing\n",
      "['https://movie.douban.com/subject/30164448/?from=showing']\n",
      "https://movie.douban.com/subject/30164448/?from=showing\n",
      "['https://movie.douban.com/subject/30450410/?from=showing']\n",
      "https://movie.douban.com/subject/30450410/?from=showing\n",
      "['https://movie.douban.com/subject/30450410/?from=showing']\n",
      "https://movie.douban.com/subject/30450410/?from=showing\n",
      "['https://movie.douban.com/subject/27624661/?from=showing']\n",
      "https://movie.douban.com/subject/27624661/?from=showing\n",
      "['https://movie.douban.com/subject/27624661/?from=showing']\n",
      "https://movie.douban.com/subject/27624661/?from=showing\n",
      "['https://movie.douban.com/subject/30463624/?from=showing']\n",
      "https://movie.douban.com/subject/30463624/?from=showing\n",
      "['https://movie.douban.com/subject/30463624/?from=showing']\n",
      "https://movie.douban.com/subject/30463624/?from=showing\n",
      "['https://movie.douban.com/subject/30345723/?from=showing']\n",
      "https://movie.douban.com/subject/30345723/?from=showing\n",
      "['https://movie.douban.com/subject/30345723/?from=showing']\n",
      "https://movie.douban.com/subject/30345723/?from=showing\n",
      "['https://movie.douban.com/subject/27060077/?from=showing']\n",
      "https://movie.douban.com/subject/27060077/?from=showing\n",
      "['https://movie.douban.com/subject/27060077/?from=showing']\n",
      "https://movie.douban.com/subject/27060077/?from=showing\n",
      "['https://movie.douban.com/subject/26266893/?from=showing']\n",
      "https://movie.douban.com/subject/26266893/?from=showing\n",
      "['https://movie.douban.com/subject/26266893/?from=showing']\n",
      "https://movie.douban.com/subject/26266893/?from=showing\n",
      "['https://movie.douban.com/subject/26715636/?from=showing']\n",
      "https://movie.douban.com/subject/26715636/?from=showing\n",
      "['https://movie.douban.com/subject/26715636/?from=showing']\n",
      "https://movie.douban.com/subject/26715636/?from=showing\n",
      "['https://movie.douban.com/subject/1652592/?from=showing']\n",
      "https://movie.douban.com/subject/1652592/?from=showing\n",
      "['https://movie.douban.com/subject/1652592/?from=showing']\n",
      "https://movie.douban.com/subject/1652592/?from=showing\n",
      "['https://movie.douban.com/subject/27063305/?from=showing']\n",
      "https://movie.douban.com/subject/27063305/?from=showing\n",
      "['https://movie.douban.com/subject/27063305/?from=showing']\n",
      "https://movie.douban.com/subject/27063305/?from=showing\n",
      "['https://movie.douban.com/subject/30335687/?from=showing']\n",
      "https://movie.douban.com/subject/30335687/?from=showing\n",
      "['https://movie.douban.com/subject/30335687/?from=showing']\n",
      "https://movie.douban.com/subject/30335687/?from=showing\n",
      "['https://movie.douban.com/subject/19899707/?from=showing']\n",
      "https://movie.douban.com/subject/19899707/?from=showing\n",
      "['https://movie.douban.com/subject/19899707/?from=showing']\n",
      "https://movie.douban.com/subject/19899707/?from=showing\n"
     ]
    }
   ],
   "source": [
    "for line in html_content.split():\n",
    "    match = url_pattern.findall(line)\n",
    "    if match:\n",
    "        print(match)\n",
    "        print(match[0])"
   ]
  },
  {
   "cell_type": "markdown",
   "metadata": {},
   "source": [
    "# Get all tokens"
   ]
  },
  {
   "cell_type": "code",
   "execution_count": 33,
   "metadata": {},
   "outputs": [],
   "source": [
    "import jieba"
   ]
  },
  {
   "cell_type": "code",
   "execution_count": 34,
   "metadata": {},
   "outputs": [],
   "source": [
    "def  cut(string): return list(jieba.cut(string))"
   ]
  },
  {
   "cell_type": "code",
   "execution_count": 35,
   "metadata": {},
   "outputs": [
    {
     "name": "stderr",
     "output_type": "stream",
     "text": [
      "Building prefix dict from the default dictionary ...\n",
      "Loading model from cache C:\\Users\\XIONGF~1\\AppData\\Local\\Temp\\jieba.cache\n",
      "Loading model cost 0.860 seconds.\n",
      "Prefix dict has been built succesfully.\n"
     ]
    },
    {
     "data": {
      "text/plain": [
       "['这是', '一个', '测试']"
      ]
     },
     "execution_count": 35,
     "metadata": {},
     "output_type": "execute_result"
    }
   ],
   "source": [
    "cut('这是一个测试')"
   ]
  },
  {
   "cell_type": "code",
   "execution_count": 36,
   "metadata": {},
   "outputs": [],
   "source": [
    "ALL_TOKENS = cut(TEXT)"
   ]
  },
  {
   "cell_type": "code",
   "execution_count": 37,
   "metadata": {},
   "outputs": [],
   "source": [
    "valid_tokens = [t for t in ALL_TOKENS if t.strip() and t != 'n']"
   ]
  },
  {
   "cell_type": "code",
   "execution_count": 38,
   "metadata": {},
   "outputs": [
    {
     "data": {
      "text/plain": [
       "21906852"
      ]
     },
     "execution_count": 38,
     "metadata": {},
     "output_type": "execute_result"
    }
   ],
   "source": [
    "len(ALL_TOKENS)"
   ]
  },
  {
   "cell_type": "code",
   "execution_count": 39,
   "metadata": {},
   "outputs": [
    {
     "data": {
      "text/plain": [
       "17221785"
      ]
     },
     "execution_count": 39,
     "metadata": {},
     "output_type": "execute_result"
    }
   ],
   "source": [
    "len(valid_tokens)"
   ]
  },
  {
   "cell_type": "code",
   "execution_count": 40,
   "metadata": {},
   "outputs": [
    {
     "data": {
      "text/plain": [
       "['此外',\n",
       " '自',\n",
       " '本周',\n",
       " '6',\n",
       " '月',\n",
       " '12',\n",
       " '日',\n",
       " '起',\n",
       " '除',\n",
       " '小米',\n",
       " '手机',\n",
       " '6',\n",
       " '等',\n",
       " '15',\n",
       " '款',\n",
       " '机型',\n",
       " '外',\n",
       " '其余',\n",
       " '机型',\n",
       " '已']"
      ]
     },
     "execution_count": 40,
     "metadata": {},
     "output_type": "execute_result"
    }
   ],
   "source": [
    "valid_tokens[:20]"
   ]
  },
  {
   "cell_type": "markdown",
   "metadata": {},
   "source": [
    "## Get the frequences of words"
   ]
  },
  {
   "cell_type": "code",
   "execution_count": 42,
   "metadata": {},
   "outputs": [],
   "source": [
    "from collections import Counter"
   ]
  },
  {
   "cell_type": "code",
   "execution_count": 43,
   "metadata": {},
   "outputs": [
    {
     "data": {
      "text/plain": [
       "Counter({1: 2, 2: 3, 3: 1, 5: 1, 0: 1})"
      ]
     },
     "execution_count": 43,
     "metadata": {},
     "output_type": "execute_result"
    }
   ],
   "source": [
    "Counter([1,1,2,2,2,3,5,0])"
   ]
  },
  {
   "cell_type": "code",
   "execution_count": 44,
   "metadata": {},
   "outputs": [],
   "source": [
    "words_count = Counter(valid_tokens)"
   ]
  },
  {
   "cell_type": "code",
   "execution_count": 46,
   "metadata": {},
   "outputs": [
    {
     "data": {
      "text/plain": [
       "[('的', 703820),\n",
       " ('在', 264633),\n",
       " ('月', 189525),\n",
       " ('日', 169920),\n",
       " ('新华社', 142462),\n",
       " ('和', 134220),\n",
       " ('年', 123531),\n",
       " ('了', 121904),\n",
       " ('是', 100288),\n",
       " ('１', 88187)]"
      ]
     },
     "execution_count": 46,
     "metadata": {},
     "output_type": "execute_result"
    }
   ],
   "source": [
    "words_count.most_common(10)"
   ]
  },
  {
   "cell_type": "code",
   "execution_count": 50,
   "metadata": {},
   "outputs": [],
   "source": [
    "frequences = [f for w, f in words_count.most_common(100)]"
   ]
  },
  {
   "cell_type": "code",
   "execution_count": 51,
   "metadata": {},
   "outputs": [],
   "source": [
    "x = [i for i in range(len(frequences[:100]))]\n"
   ]
  },
  {
   "cell_type": "code",
   "execution_count": 53,
   "metadata": {},
   "outputs": [
    {
     "data": {
      "text/plain": [
       "100"
      ]
     },
     "execution_count": 53,
     "metadata": {},
     "output_type": "execute_result"
    }
   ],
   "source": [
    "len(frequences)\n"
   ]
  },
  {
   "cell_type": "code",
   "execution_count": 54,
   "metadata": {},
   "outputs": [],
   "source": [
    "import matplotlib.pyplot as plt"
   ]
  },
  {
   "cell_type": "code",
   "execution_count": 56,
   "metadata": {},
   "outputs": [],
   "source": [
    "%matplotlib inline"
   ]
  },
  {
   "cell_type": "code",
   "execution_count": 57,
   "metadata": {},
   "outputs": [
    {
     "data": {
      "text/plain": [
       "[<matplotlib.lines.Line2D at 0x1fe35fd3ba8>]"
      ]
     },
     "execution_count": 57,
     "metadata": {},
     "output_type": "execute_result"
    },
    {
     "data": {
      "image/png": "[encoded data removed]",
      "text/plain": [
       "<Figure size 432x288 with 1 Axes>"
      ]
     },
     "metadata": {
      "needs_background": "light"
     },
     "output_type": "display_data"
    }
   ],
   "source": [
    "plt.plot(x, frequences)"
   ]
  },
  {
   "cell_type": "code",
   "execution_count": 59,
   "metadata": {},
   "outputs": [],
   "source": [
    "# 把所有的词的词频取出来\n",
    "frequences_all = [f for w,f in words_count.most_common()]"
   ]
  },
  {
   "cell_type": "code",
   "execution_count": 60,
   "metadata": {},
   "outputs": [],
   "source": [
    "# 把所有词的词频相加\n",
    "frequences_sum = sum(frequences_all)"
   ]
  },
  {
   "cell_type": "code",
   "execution_count": 61,
   "metadata": {},
   "outputs": [
    {
     "data": {
      "text/plain": [
       "17221785"
      ]
     },
     "execution_count": 61,
     "metadata": {},
     "output_type": "execute_result"
    }
   ],
   "source": [
    "frequences_sum"
   ]
  },
  {
   "cell_type": "code",
   "execution_count": 62,
   "metadata": {},
   "outputs": [],
   "source": [
    "import numpy as np"
   ]
  },
  {
   "cell_type": "code",
   "execution_count": 65,
   "metadata": {},
   "outputs": [
    {
     "data": {
      "text/plain": [
       "[<matplotlib.lines.Line2D at 0x1fe35e6cef0>]"
      ]
     },
     "execution_count": 65,
     "metadata": {},
     "output_type": "execute_result"
    },
    {
     "data": {
      "image/png": "[encoded data removed]",
      "text/plain": [
       "<Figure size 432x288 with 1 Axes>"
      ]
     },
     "metadata": {
      "needs_background": "light"
     },
     "output_type": "display_data"
    }
   ],
   "source": [
    " # 把上面取的frequency取log，再画出来\n",
    "plt.plot(x, np.log(frequences)) "
   ]
  },
  {
   "cell_type": "code",
   "execution_count": 66,
   "metadata": {},
   "outputs": [
    {
     "data": {
      "text/plain": [
       "5.8065990255946174e-08"
      ]
     },
     "execution_count": 66,
     "metadata": {},
     "output_type": "execute_result"
    }
   ],
   "source": [
    "1/frequences_sum"
   ]
  },
  {
   "cell_type": "code",
   "execution_count": 67,
   "metadata": {},
   "outputs": [],
   "source": [
    "# 计算一个词出现在这个数据集中的概率，若输入的词不存在，则返回1/frequences_sum，这已经是一个极小得数了\n",
    "def get_prob(word):\n",
    "    esp = 1 / frequences_sum\n",
    "    if word in words_count:\n",
    "        return words_count[word] / frequences_sum\n",
    "    else:\n",
    "        return esp\n",
    "    "
   ]
  },
  {
   "cell_type": "code",
   "execution_count": 68,
   "metadata": {},
   "outputs": [
    {
     "data": {
      "text/plain": [
       "0.0011602746172943166"
      ]
     },
     "execution_count": 68,
     "metadata": {},
     "output_type": "execute_result"
    }
   ],
   "source": [
    "get_prob('我们')"
   ]
  },
  {
   "cell_type": "code",
   "execution_count": 69,
   "metadata": {},
   "outputs": [],
   "source": [
    "# reduce 函数返回累计的值，这里是累乘\n",
    "def product(numbers):\n",
    "    return reduce(lambda n1,n2: n1*n2, numbers)"
   ]
  },
  {
   "cell_type": "code",
   "execution_count": 70,
   "metadata": {},
   "outputs": [
    {
     "data": {
      "text/plain": [
       "240"
      ]
     },
     "execution_count": 70,
     "metadata": {},
     "output_type": "execute_result"
    }
   ],
   "source": [
    "product([1,2,3,4,10])"
   ]
  },
  {
   "cell_type": "code",
   "execution_count": 71,
   "metadata": {},
   "outputs": [],
   "source": [
    "# 给一段句子，分词之后，获取每一个单独的词在整个数据集里面出现的概率，将这些概率相乘，即可得出整个句子在整个数据集中出现的频率\n",
    "def language_model_one_gram(string):\n",
    "    words = cut(string)\n",
    "    return product([get_prob(w) for w in words])"
   ]
  },
  {
   "cell_type": "code",
   "execution_count": 72,
   "metadata": {},
   "outputs": [
    {
     "data": {
      "text/plain": [
       "2.1655991012505302e-16"
      ]
     },
     "execution_count": 72,
     "metadata": {},
     "output_type": "execute_result"
    }
   ],
   "source": [
    "language_model_one_gram('广交会在下个月举办')"
   ]
  },
  {
   "cell_type": "code",
   "execution_count": 73,
   "metadata": {},
   "outputs": [
    {
     "data": {
      "text/plain": [
       "1.4511549339176565e-18"
      ]
     },
     "execution_count": 73,
     "metadata": {},
     "output_type": "execute_result"
    }
   ],
   "source": [
    "language_model_one_gram('长征火箭下周发射')"
   ]
  },
  {
   "cell_type": "code",
   "execution_count": 76,
   "metadata": {},
   "outputs": [],
   "source": [
    "sentences = \"\"\"\n",
    "这是一个比较正常的句子\n",
    "这是一个比较罕见的句子\n",
    "小明毕业于清华大学\n",
    "小明毕业于秦华大学\n",
    "\"\"\".split()"
   ]
  },
  {
   "cell_type": "code",
   "execution_count": 78,
   "metadata": {},
   "outputs": [
    {
     "name": "stdout",
     "output_type": "stream",
     "text": [
      "这是一个比较正常的句子 7.429984647015532e-22\n",
      "这是一个比较罕见的句子 2.295126147507416e-22\n",
      "小明毕业于清华大学 3.039960976514903e-18\n",
      "小明毕业于秦华大学 5.813337476916057e-24\n"
     ]
    }
   ],
   "source": [
    "for s in sentences:\n",
    "    print(s, language_model_one_gram(s))"
   ]
  },
  {
   "cell_type": "code",
   "execution_count": 80,
   "metadata": {},
   "outputs": [
    {
     "name": "stdout",
     "output_type": "stream",
     "text": [
      "明天晚上请你吃大餐，我们一起吃苹果 is more possible\n",
      "---- 今天晚上请你吃大餐，我们一起吃日料 with probility 6.279484454158278e-50\n",
      "---- 明天晚上请你吃大餐，我们一起吃苹果 with probility 5.1533768284792506e-48\n",
      "真是一只好看的小猫 is more possible\n",
      "---- 真事一只好看的小猫 with probility 2.873219522813593e-25\n",
      "---- 真是一只好看的小猫 with probility 1.0935351206452033e-21\n",
      "今晚我去吃火锅 is more possible\n",
      "---- 我去吃火锅，今晚 with probility 6.876097222574346e-26\n",
      "---- 今晚我去吃火锅 with probility 1.1841866800627252e-18\n"
     ]
    }
   ],
   "source": [
    "# 判断哪个句子出现的概率高，其实就是此判断句子是否合理\n",
    "need_compared = [\n",
    "    \"今天晚上请你吃大餐，我们一起吃日料 明天晚上请你吃大餐，我们一起吃苹果\",\n",
    "    \"真事一只好看的小猫 真是一只好看的小猫\",\n",
    "    \"我去吃火锅，今晚 今晚我去吃火锅\"\n",
    "]\n",
    "\n",
    "for s in need_compared:\n",
    "    s1, s2 = s.split()\n",
    "    p1, p2 = language_model_one_gram(s1), language_model_one_gram(s2)\n",
    "    \n",
    "    better =s1 if p1>p2 else s2\n",
    "    \n",
    "    print('{} is more possible'.format(better))\n",
    "    print('-'*4 + ' {} with probility {}'.format(s1,p1))\n",
    "    print('-'*4 + ' {} with probility {}'.format(s2,p2))"
   ]
  },
  {
   "cell_type": "markdown",
   "metadata": {},
   "source": [
    "# 2-Gram"
   ]
  },
  {
   "cell_type": "markdown",
   "metadata": {},
   "source": [
    "## Get the combination probability of 2-grams"
   ]
  },
  {
   "cell_type": "markdown",
   "metadata": {},
   "source": [
    "$$ Pr(w_2|w_1) = \\frac{Pr(w_1 \\cdot w_2)}{Pr(w_1)} $$"
   ]
  },
  {
   "cell_type": "markdown",
   "metadata": {},
   "source": [
    "### 编写公式分别以两个$$开头结尾 Pr(w_2|w_1) = \\frac{Pr(w_1 \\cdot w_2)}{Pr(w_1)}"
   ]
  },
  {
   "cell_type": "code",
   "execution_count": 82,
   "metadata": {},
   "outputs": [],
   "source": [
    "valid_tokens_two = [str(t) for t in valid_tokens]"
   ]
  },
  {
   "cell_type": "code",
   "execution_count": 85,
   "metadata": {},
   "outputs": [],
   "source": [
    "# 把数据两两连着的分在一起，成为2_gram的总的词\n",
    "all_2_grams_words = [''.join(valid_tokens_two[i:i+2]) for i in range(len(valid_tokens_two[:-2]))]  # [:-2]表示从0到倒数第二个"
   ]
  },
  {
   "cell_type": "code",
   "execution_count": 90,
   "metadata": {},
   "outputs": [],
   "source": [
    "# 拿两个词连着出现的频数除以总的数据的个数\n",
    "_2_gram_sum = len(all_2_grams_words)\n",
    "_2_gram_counter = Counter(all_2_grams_words)\n",
    "\n",
    "def get_combination_prob(w1, w2):\n",
    "    if w1 + w2 in _2_gram_counter: return _2_gram_counter[w1+w2] / _2_gram_sum\n",
    "    else: return 1/_2_gram_sum\n",
    "    "
   ]
  },
  {
   "cell_type": "code",
   "execution_count": 91,
   "metadata": {},
   "outputs": [
    {
     "data": {
      "text/plain": [
       "1.8000459069772276e-06"
      ]
     },
     "execution_count": 91,
     "metadata": {},
     "output_type": "execute_result"
    }
   ],
   "source": [
    "get_combination_prob('去','北京')"
   ]
  },
  {
   "cell_type": "code",
   "execution_count": 92,
   "metadata": {},
   "outputs": [
    {
     "data": {
      "text/plain": [
       "8.129239579897157e-07"
      ]
     },
     "execution_count": 92,
     "metadata": {},
     "output_type": "execute_result"
    }
   ],
   "source": [
    "get_combination_prob('波音','飞机')"
   ]
  },
  {
   "cell_type": "code",
   "execution_count": 93,
   "metadata": {},
   "outputs": [],
   "source": [
    "# 上面的公式，得到在w1存在的情况下w2出现的概率\n",
    "def get_prob_2_gram(w1, w2):\n",
    "    return get_combination_prob(w1,w2)/get_prob(w1)"
   ]
  },
  {
   "cell_type": "code",
   "execution_count": 94,
   "metadata": {},
   "outputs": [
    {
     "data": {
      "text/plain": [
       "0.004251817802783131"
      ]
     },
     "execution_count": 94,
     "metadata": {},
     "output_type": "execute_result"
    }
   ],
   "source": [
    "get_prob_2_gram('去','北京')"
   ]
  },
  {
   "cell_type": "code",
   "execution_count": 95,
   "metadata": {},
   "outputs": [
    {
     "data": {
      "text/plain": [
       "0.0006857770649650213"
      ]
     },
     "execution_count": 95,
     "metadata": {},
     "output_type": "execute_result"
    }
   ],
   "source": [
    "get_prob_2_gram('去','沈阳')"
   ]
  },
  {
   "cell_type": "code",
   "execution_count": 99,
   "metadata": {},
   "outputs": [],
   "source": [
    "from icecream import ic\n"
   ]
  },
  {
   "cell_type": "code",
   "execution_count": 100,
   "metadata": {},
   "outputs": [],
   "source": [
    "def langauge_model_of_2_gram(sentence):\n",
    "    sentence_probability = 1\n",
    "    \n",
    "    words = cut(sentence)\n",
    "    \n",
    "    for i, word in enumerate(words):\n",
    "        if i == 0:\n",
    "            prob = get_prob(word)\n",
    "        else:\n",
    "            previous = words[i-1]\n",
    "            prob = get_prob_2_gram(previous, word)\n",
    "        sentence_probability *= prob\n",
    "    \n",
    "    return sentence_probability"
   ]
  },
  {
   "cell_type": "code",
   "execution_count": 101,
   "metadata": {},
   "outputs": [
    {
     "data": {
      "text/plain": [
       "6.70899554535661e-16"
      ]
     },
     "execution_count": 101,
     "metadata": {},
     "output_type": "execute_result"
    }
   ],
   "source": [
    "langauge_model_of_2_gram('今天小明抽奖抽到一台苹果手机')"
   ]
  },
  {
   "cell_type": "code",
   "execution_count": 102,
   "metadata": {},
   "outputs": [
    {
     "data": {
      "text/plain": [
       "4.5133725473313174e-18"
      ]
     },
     "execution_count": 102,
     "metadata": {},
     "output_type": "execute_result"
    }
   ],
   "source": [
    "langauge_model_of_2_gram('小明今天抽奖抽到一台苹果手机')"
   ]
  },
  {
   "cell_type": "code",
   "execution_count": 103,
   "metadata": {},
   "outputs": [
    {
     "data": {
      "text/plain": [
       "3.9724842499924055e-18"
      ]
     },
     "execution_count": 103,
     "metadata": {},
     "output_type": "execute_result"
    }
   ],
   "source": [
    "langauge_model_of_2_gram('小明今天抽奖抽到一台波音飞机')"
   ]
  },
  {
   "cell_type": "markdown",
   "metadata": {},
   "source": [
    "# Review the problem using 2-gram"
   ]
  },
  {
   "cell_type": "code",
   "execution_count": 104,
   "metadata": {},
   "outputs": [
    {
     "name": "stdout",
     "output_type": "stream",
     "text": [
      "今天晚上请你吃大餐，我们一起吃日料 is more possible\n",
      "---- 今天晚上请你吃大餐，我们一起吃日料 with probility 6.895905640955031e-28\n",
      "---- 明天晚上请你吃大餐，我们一起吃苹果 with probility 5.516724512764024e-28\n",
      "真是一只好看的小猫 is more possible\n",
      "---- 真事一只好看的小猫 with probility 1.6570998748154123e-19\n",
      "---- 真是一只好看的小猫 with probility 3.4765951336188093e-16\n",
      "今晚我去吃火锅 is more possible\n",
      "---- 今晚我去吃火锅 with probility 6.82225584071837e-14\n",
      "---- 今晚火锅去吃我 with probility 9.986004768787415e-16\n",
      "养乐多绿来一杯 is more possible\n",
      "---- 洋葱奶昔来一杯 with probility 1.0579577386518395e-12\n",
      "---- 养乐多绿来一杯 with probility 5.806600374258542e-08\n"
     ]
    }
   ],
   "source": [
    "need_compared = [\"今天晚上请你吃大餐，我们一起吃日料 明天晚上请你吃大餐，我们一起吃苹果\",\n",
    "    \"真事一只好看的小猫 真是一只好看的小猫\",\n",
    "    \"今晚我去吃火锅 今晚火锅去吃我\",\n",
    "    \"洋葱奶昔来一杯 养乐多绿来一杯\"]\n",
    "     \n",
    "for s in need_compared:\n",
    "    s1, s2 = s.split()\n",
    "    p1, p2 = langauge_model_of_2_gram(s1),langauge_model_of_2_gram(s2)\n",
    "    \n",
    "    better = s1 if p1>p2 else s2\n",
    "    \n",
    "    print('{} is more possible'.format(better))\n",
    "    print('-'*4 + ' {} with probility {}'.format(s1, p1))\n",
    "    print('-'*4 + ' {} with probility {}'.format(s2, p2))"
   ]
  },
  {
   "cell_type": "code",
   "execution_count": 105,
   "metadata": {},
   "outputs": [],
   "source": [
    "grammar = \"\"\"\n",
    "sentence => noun_phrase verb_phrase \n",
    "noun_phrase => Article Adj* noun belong \n",
    "belong => de property\n",
    "de => 的\n",
    "property => 眼睛 | 裙子 | 胳膊 | 尾巴\n",
    "Adj* => null | Adj Adj*\n",
    "verb_phrase => verb noun_phrase\n",
    "Article =>  一个 | 这个\n",
    "noun =>   女人 |  篮球 | 桌子 | 小猫\n",
    "verb => 看着   |  坐在 |  听着 | 看见\n",
    "Adj =>   蓝色的 |  好看的 | 小小的\n",
    "\"\"\""
   ]
  },
  {
   "cell_type": "code",
   "execution_count": 106,
   "metadata": {},
   "outputs": [],
   "source": [
    "import random"
   ]
  },
  {
   "cell_type": "code",
   "execution_count": 113,
   "metadata": {},
   "outputs": [],
   "source": [
    "def parse_grammar(grammar_str, sep='=>'):\n",
    "    grammar = {}\n",
    "    for line in grammar_str.split('\\n'):\n",
    "        line = line.strip()\n",
    "        if not line: continue\n",
    "        \n",
    "        target, rules = line.split(sep)\n",
    "        \n",
    "        grammar[target.strip()] = [r.split() for r in rules.split('|')]\n",
    "        \n",
    "    return grammar"
   ]
  },
  {
   "cell_type": "code",
   "execution_count": 114,
   "metadata": {},
   "outputs": [],
   "source": [
    "def gene(grammar_parsed, target='sentence'):\n",
    "    if target not in grammar_parsed: return target\n",
    "    \n",
    "    rule = random.choice(grammar_parsed[target])\n",
    "    return ''.join(gene(grammar_parsed,target=r) for r in rule if r != 'null')"
   ]
  },
  {
   "cell_type": "code",
   "execution_count": 115,
   "metadata": {},
   "outputs": [],
   "source": [
    "g = parse_grammar(grammar)"
   ]
  },
  {
   "cell_type": "code",
   "execution_count": 116,
   "metadata": {},
   "outputs": [
    {
     "data": {
      "text/plain": [
       "{'sentence': [['noun_phrase', 'verb_phrase']],\n",
       " 'noun_phrase': [['Article', 'Adj*', 'noun', 'belong']],\n",
       " 'belong': [['de', 'property']],\n",
       " 'de': [['的']],\n",
       " 'property': [['眼睛'], ['裙子'], ['胳膊'], ['尾巴']],\n",
       " 'Adj*': [['null'], ['Adj', 'Adj*']],\n",
       " 'verb_phrase': [['verb', 'noun_phrase']],\n",
       " 'Article': [['一个'], ['这个']],\n",
       " 'noun': [['女人'], ['篮球'], ['桌子'], ['小猫']],\n",
       " 'verb': [['看着'], ['坐在'], ['听着'], ['看见']],\n",
       " 'Adj': [['蓝色的'], ['好看的'], ['小小的']]}"
      ]
     },
     "execution_count": 116,
     "metadata": {},
     "output_type": "execute_result"
    }
   ],
   "source": [
    "g"
   ]
  },
  {
   "cell_type": "code",
   "execution_count": 123,
   "metadata": {},
   "outputs": [],
   "source": [
    "random_generated = [gene(g) for _ in range(10)]"
   ]
  },
  {
   "cell_type": "code",
   "execution_count": 125,
   "metadata": {},
   "outputs": [
    {
     "data": {
      "text/plain": [
       "['这个小猫的胳膊听着一个女人的胳膊',\n",
       " '一个小小的蓝色的篮球的胳膊听着一个篮球的眼睛',\n",
       " '一个女人的尾巴坐在这个小小的篮球的眼睛',\n",
       " '这个小小的篮球的胳膊坐在这个女人的眼睛',\n",
       " '一个篮球的眼睛看见一个桌子的尾巴',\n",
       " '这个篮球的胳膊坐在这个桌子的尾巴',\n",
       " '一个篮球的眼睛看着一个篮球的裙子',\n",
       " '这个蓝色的小小的篮球的尾巴看见一个桌子的裙子',\n",
       " '这个小小的小猫的胳膊坐在这个女人的眼睛',\n",
       " '一个篮球的胳膊听着一个小猫的尾巴']"
      ]
     },
     "execution_count": 125,
     "metadata": {},
     "output_type": "execute_result"
    }
   ],
   "source": [
    "random_generated"
   ]
  },
  {
   "cell_type": "code",
   "execution_count": 126,
   "metadata": {},
   "outputs": [],
   "source": [
    "s1 = {1,2,3}"
   ]
  },
  {
   "cell_type": "code",
   "execution_count": 127,
   "metadata": {},
   "outputs": [],
   "source": [
    "s2 = {4,5,2}"
   ]
  },
  {
   "cell_type": "code",
   "execution_count": 128,
   "metadata": {},
   "outputs": [
    {
     "data": {
      "text/plain": [
       "{1, 2, 3, 4, 5}"
      ]
     },
     "execution_count": 128,
     "metadata": {},
     "output_type": "execute_result"
    }
   ],
   "source": [
    "s1 | s2    # '\\' ==> 'or'"
   ]
  },
  {
   "cell_type": "code",
   "execution_count": 129,
   "metadata": {},
   "outputs": [
    {
     "data": {
      "text/plain": [
       "['这个小猫的胳膊听着一个女人的胳膊',\n",
       " '这个小小的小猫的胳膊坐在这个女人的眼睛',\n",
       " '一个女人的尾巴坐在这个小小的篮球的眼睛',\n",
       " '这个小小的篮球的胳膊坐在这个女人的眼睛',\n",
       " '一个篮球的眼睛看见一个桌子的尾巴',\n",
       " '这个篮球的胳膊坐在这个桌子的尾巴',\n",
       " '一个篮球的胳膊听着一个小猫的尾巴',\n",
       " '一个篮球的眼睛看着一个篮球的裙子',\n",
       " '一个小小的蓝色的篮球的胳膊听着一个篮球的眼睛',\n",
       " '这个蓝色的小小的篮球的尾巴看见一个桌子的裙子']"
      ]
     },
     "execution_count": 129,
     "metadata": {},
     "output_type": "execute_result"
    }
   ],
   "source": [
    "sorted(random_generated, key=langauge_model_of_2_gram, reverse=True)"
   ]
  },
  {
   "cell_type": "code",
   "execution_count": 130,
   "metadata": {},
   "outputs": [
    {
     "data": {
      "text/plain": [
       "['这个蓝色的小小的篮球的尾巴看见一个桌子的裙子',\n",
       " '一个小小的蓝色的篮球的胳膊听着一个篮球的眼睛',\n",
       " '一个篮球的眼睛看着一个篮球的裙子',\n",
       " '一个篮球的胳膊听着一个小猫的尾巴',\n",
       " '这个篮球的胳膊坐在这个桌子的尾巴',\n",
       " '一个篮球的眼睛看见一个桌子的尾巴',\n",
       " '这个小小的篮球的胳膊坐在这个女人的眼睛',\n",
       " '一个女人的尾巴坐在这个小小的篮球的眼睛',\n",
       " '这个小小的小猫的胳膊坐在这个女人的眼睛',\n",
       " '这个小猫的胳膊听着一个女人的胳膊']"
      ]
     },
     "execution_count": 130,
     "metadata": {},
     "output_type": "execute_result"
    }
   ],
   "source": [
    "sorted(random_generated, key=langauge_model_of_2_gram)"
   ]
  },
  {
   "cell_type": "code",
   "execution_count": 131,
   "metadata": {},
   "outputs": [
    {
     "data": {
      "text/plain": [
       "['一个女人的尾巴坐在这个小小的篮球的眼睛',\n",
       " '一个小小的蓝色的篮球的胳膊听着一个篮球的眼睛',\n",
       " '一个篮球的眼睛看着一个篮球的裙子',\n",
       " '一个篮球的眼睛看见一个桌子的尾巴',\n",
       " '一个篮球的胳膊听着一个小猫的尾巴',\n",
       " '这个小小的小猫的胳膊坐在这个女人的眼睛',\n",
       " '这个小小的篮球的胳膊坐在这个女人的眼睛',\n",
       " '这个小猫的胳膊听着一个女人的胳膊',\n",
       " '这个篮球的胳膊坐在这个桌子的尾巴',\n",
       " '这个蓝色的小小的篮球的尾巴看见一个桌子的裙子']"
      ]
     },
     "execution_count": 131,
     "metadata": {},
     "output_type": "execute_result"
    }
   ],
   "source": [
    "sorted(random_generated)"
   ]
  },
  {
   "cell_type": "code",
   "execution_count": null,
   "metadata": {},
   "outputs": [],
   "source": []
  }
 ],
 "metadata": {
  "kernelspec": {
   "display_name": "Python 3",
   "language": "python",
   "name": "python3"
  },
  "language_info": {
   "codemirror_mode": {
    "name": "ipython",
    "version": 3
   },
   "file_extension": ".py",
   "mimetype": "text/x-python",
   "name": "python",
   "nbconvert_exporter": "python",
   "pygments_lexer": "ipython3",
   "version": "3.7.1"
  }
 },
 "nbformat": 4,
 "nbformat_minor": 2
}
