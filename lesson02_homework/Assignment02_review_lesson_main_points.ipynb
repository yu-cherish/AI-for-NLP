{
 "cells": [
  {
   "cell_type": "markdown",
   "metadata": {},
   "source": [
    "# 2. Review the main points of this lesson."
   ]
  },
  {
   "cell_type": "markdown",
   "metadata": {},
   "source": [
    "### 1.How to Github and Why do we use Jupyter and Pycharm;"
   ]
  },
  {
   "cell_type": "markdown",
   "metadata": {},
   "source": [
    "Ans：\n",
    "1. 对于git来讲，人们当他做一个文件版本的管理工具，人们可以更好地更新自己所写的代码，也可以多人合作共同开发代码。一般我们个人用的话，就是在上面创建一个repostory来存储我们写的代码，存好之后还可以在本地修改代码，使用git命令来把我们新修改的代码更新到对应的repostory文件中。如果是一个公司团队协作的话，会有自己的gitlab，成员分别有自己的账户，可以克隆团队代码到本地，修改之后使用git命令更新团队的代码，但是如果有两个及其以上的人修改到同一片代码，可能会有冲突，解决冲突，重新推即可。\n",
    "\n",
    "2. 对于jupyter来讲，这是一个方便展示的工具，可做笔记本使用来做一些笔记什么的，也可以运行代码，运行某一行代码的时候可以及时的看到运行的结果。但是有一点是很不方便的，就是在调试的时候；还有一点就是如果打开以前的工作重新运行的时候，要一行行的运行，比较麻烦。\n",
    "\n",
    "3. 关于pycharm，这是一个很好的编写python代码的工具，对于代码量大，是一个工程的时候，用这个就比jupyter方便多了。而且编写的时候都有提示，可以更快速地编写代码。"
   ]
  },
  {
   "cell_type": "markdown",
   "metadata": {},
   "source": [
    "### 2. What's the Probability Model?\n"
   ]
  },
  {
   "cell_type": "markdown",
   "metadata": {},
   "source": [
    "1. 概率模型通常用来描述不同的随机变量之间的关系，通常情况下刻画了一个或者多个随机变量之间的相互非确定性的概率关系。它是一个概率分布函数或密度函数的集合。\n",
    "2. 有些资料提到机器学习尤其是概率图模型的核心是条件概率的思想。\n",
    "3. 从数学上来讲，几种概率模型分别是：古典概型、几何概型、条件概率、二行分布、超几何分布\n",
    "4. (1)古典概型：有限性和等可能性；$$ P(A) = \\frac{事件A包含的样本点数}{样本点总数}$$\n",
    "（2）几何概型：古典概型的推广。等可能性和每次实验结果是无限多个，且所有结果可用一个度量的集合区域表示。$$ P(A) = \\frac{构成事件A的区域长度（或面积、体积）}{实验的全部结果所构成的区域长度（或面积、体积）} $$ \n",
    "(3) 条件概率：$$ P(B|A) = \\frac{P(AB)}{P(A)} $$ \n",
    "5. 几种概率图模型：朴素贝叶斯分类器、最大熵模型、隐马尔科夫模型、最大熵马尔科夫模型、马尔科夫随机场、条件随机场\n"
   ]
  },
  {
   "cell_type": "markdown",
   "metadata": {},
   "source": [
    "### 3. Can you came up with some sceneraies at which we could use Probability Model?"
   ]
  },
  {
   "cell_type": "markdown",
   "metadata": {},
   "source": [
    "我们可以用到概率模型的场景：\n",
    "1. 吸烟与患病率问题\n",
    "2. 订购商品的概率模型\n",
    "3. 医学诊断---一些变量可以表示病人的年龄、性别、体温、血压等一系列身体的指标，来预测一些病情"
   ]
  },
  {
   "cell_type": "markdown",
   "metadata": {},
   "source": [
    "###  4. Why do we use probability and what's the difficult points for programming based on parsing and pattern match?"
   ]
  },
  {
   "cell_type": "markdown",
   "metadata": {},
   "source": [
    "1. 为什么用概率：概率可以解决现实生活中的一些问题。\n",
    "2. 基于语法和模式匹配的程序的困难点在哪里："
   ]
  },
  {
   "cell_type": "markdown",
   "metadata": {},
   "source": [
    "### 5. What's the Language Model？"
   ]
  },
  {
   "cell_type": "markdown",
   "metadata": {},
   "source": [
    "1. 语言模型就是用来计算一个句子的概率的模型。\n",
    "2. 利用语言模型可以确定那个词序列的可能性更大；或者是给定若干个词，预测下一个最可能出现的词语。\n",
    "3. 计算一个句子的概率$$ S = w_1,w_2,...,w_n $$ 它的概率可以表示为$$ P(S) = P(w_1,w_2,...,w_n) = P(w_1)P(w_2|w_1)...P(w_n|w_1,w_2,...,w_n-1) $$  通过这个式子可以看到参数过多，过于繁琐。\n",
    "4. 常见的一些近似计算方法：n-gram模型方法、决策树方法、最大熵模型方法、神经网络方法等等。"
   ]
  },
  {
   "cell_type": "markdown",
   "metadata": {},
   "source": [
    "### 6. Can you came up with some sceneraies at which we could use Language Model?"
   ]
  },
  {
   "cell_type": "markdown",
   "metadata": {},
   "source": [
    "1. 智能拼音输入法\n",
    "2. 中文分词\n",
    "3. 机器翻译\n",
    "4. 语音识别\n",
    "5. 音字转换"
   ]
  },
  {
   "cell_type": "markdown",
   "metadata": {},
   "source": [
    "### 7. What's the 1-gram language model？"
   ]
  },
  {
   "cell_type": "markdown",
   "metadata": {},
   "source": [
    "1. 1-gram 模型是n-gram语言模型的最简单的情况，基于概率来判别句子是否合理。\n",
    "2. 1-gram就是每次只考虑单个词的在整个集合中出现的概率，然后将这些单个词所组成的句子的概率计算出来，计算方法是将这些单个词的概率相乘，得出概率大的句子组合是最可能接近人类语言顺序的。"
   ]
  },
  {
   "cell_type": "markdown",
   "metadata": {},
   "source": [
    "### 8. What's the disadvantages and advantages of 1-gram language model？"
   ]
  },
  {
   "cell_type": "markdown",
   "metadata": {},
   "source": [
    "1. 缺点：有时候不大准确，没有考虑到有些词语之间的组合是更符合人类语言的，但是概率可能会比较低，这样就会导致判断错误。\n",
    "2. 优点：易于计算。"
   ]
  },
  {
   "cell_type": "markdown",
   "metadata": {},
   "source": [
    "### 9.  What't the 2-gram models？"
   ]
  },
  {
   "cell_type": "markdown",
   "metadata": {},
   "source": [
    "1. 2-gram是n-gram语言模型的一种\n",
    "2. 2-gram考虑两个连续词语连着出现的概率，基于条件概率的公式将一个句子中每两个连续的词语的概率都求出来，然后像1-gram一样把这求出来的两两的概率相乘得出句子的概率，得出概率大的句子组合是最可能接近人类语言顺序的。"
   ]
  },
  {
   "cell_type": "markdown",
   "metadata": {},
   "source": [
    "### 10. what's the web crawler, and can you implement a simple crawler?"
   ]
  },
  {
   "cell_type": "markdown",
   "metadata": {},
   "source": [
    "1. 网络爬虫是按照一定的规则，自动的抓取万维网信息的程序或者脚本。\n",
    "2. 可以实现一个简单的网络爬虫"
   ]
  },
  {
   "cell_type": "markdown",
   "metadata": {},
   "source": [
    "### 11. There may be some issues to make our crwaler programming difficult, what are these, and how do we solve them?"
   ]
  },
  {
   "cell_type": "markdown",
   "metadata": {},
   "source": [
    "###### 问题：\n",
    "1. 万维网上面有不计其数的网页，研究表明有30%是重复的，而且在不同的层级交叉使用；\n",
    "2. 动态页面的存在：客户端、服务器端脚本语言的应用使得指向相同 Web 信息的 URL 数量呈指数级增长。\n",
    "###### 如何解决：\n"
   ]
  },
  {
   "cell_type": "markdown",
   "metadata": {},
   "source": [
    "### 12. What't the Regular Expression and how to use?"
   ]
  },
  {
   "cell_type": "markdown",
   "metadata": {},
   "source": [
    "###### 是什么？\n",
    "1. 正则表达式是对字符串操作的一种逻辑公式，就使用事先定义好的一些特定字符以及这些字符的组合，组合成一个‘规则字符串’，这个‘规则字符串’用来表达对字符串的一种过滤逻辑。\n",
    "2. 正则表达式是一种文本模式，该模式描述在搜索文本时要匹配的一个或者多个字符串；通常被用来检索、替换那些符合某个模式或者规则的文本。\n",
    "3. 给定一个正则表达式和另一个字符串，可达到如下目的：给定的字符串是否匹配；通过正则表达式，从字符串中获取我们想要的特定部分。\n",
    "###### 怎么用？\n",
    "1. 正则表达式有特定的语法来表示特定匹配的内容，我们用正确的语法来编写代码即可"
   ]
  }
 ],
 "metadata": {
  "kernelspec": {
   "display_name": "Python 3",
   "language": "python",
   "name": "python3"
  },
  "language_info": {
   "codemirror_mode": {
    "name": "ipython",
    "version": 3
   },
   "file_extension": ".py",
   "mimetype": "text/x-python",
   "name": "python",
   "nbconvert_exporter": "python",
   "pygments_lexer": "ipython3",
   "version": "3.7.1"
  }
 },
 "nbformat": 4,
 "nbformat_minor": 2
}
