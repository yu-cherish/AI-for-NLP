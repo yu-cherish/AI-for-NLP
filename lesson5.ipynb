{
 "cells": [
  {
   "cell_type": "code",
   "execution_count": 1,
   "metadata": {},
   "outputs": [
    {
     "name": "stderr",
     "output_type": "stream",
     "text": [
      "C:\\Users\\xiongfeng\\Anaconda3\\lib\\site-packages\\smart_open\\ssh.py:34: UserWarning: paramiko missing, opening SSH/SCP/SFTP paths will be disabled.  `pip install paramiko` to suppress\n",
      "  warnings.warn('paramiko missing, opening SSH/SCP/SFTP paths will be disabled.  `pip install paramiko` to suppress')\n",
      "C:\\Users\\xiongfeng\\Anaconda3\\lib\\site-packages\\gensim\\utils.py:1197: UserWarning: detected Windows; aliasing chunkize to chunkize_serial\n",
      "  warnings.warn(\"detected Windows; aliasing chunkize to chunkize_serial\")\n"
     ]
    }
   ],
   "source": [
    "from gensim.models import Word2Vec"
   ]
  },
  {
   "cell_type": "code",
   "execution_count": 2,
   "metadata": {},
   "outputs": [],
   "source": [
    "sentences = [['cat', 'say', 'meow'], ['dog', 'say', 'woof']]"
   ]
  },
  {
   "cell_type": "code",
   "execution_count": 3,
   "metadata": {},
   "outputs": [],
   "source": [
    "model = Word2Vec(sentences, min_count=1)"
   ]
  },
  {
   "cell_type": "code",
   "execution_count": 4,
   "metadata": {},
   "outputs": [
    {
     "data": {
      "text/plain": [
       "{'cat': <gensim.models.keyedvectors.Vocab at 0x1cb8c8beb00>,\n",
       " 'say': <gensim.models.keyedvectors.Vocab at 0x1cb8c8beb38>,\n",
       " 'meow': <gensim.models.keyedvectors.Vocab at 0x1cb8c8beb70>,\n",
       " 'dog': <gensim.models.keyedvectors.Vocab at 0x1cb8c8beba8>,\n",
       " 'woof': <gensim.models.keyedvectors.Vocab at 0x1cb8c8bebe0>}"
      ]
     },
     "execution_count": 4,
     "metadata": {},
     "output_type": "execute_result"
    }
   ],
   "source": [
    "model.wv.vocab"
   ]
  },
  {
   "cell_type": "code",
   "execution_count": 5,
   "metadata": {},
   "outputs": [
    {
     "name": "stderr",
     "output_type": "stream",
     "text": [
      "C:\\Users\\xiongfeng\\Anaconda3\\lib\\site-packages\\ipykernel_launcher.py:1: DeprecationWarning: Call to deprecated `most_similar` (Method will be removed in 4.0.0, use self.wv.most_similar() instead).\n",
      "  \"\"\"Entry point for launching an IPython kernel.\n"
     ]
    },
    {
     "data": {
      "text/plain": [
       "[('say', -0.010894028469920158),\n",
       " ('meow', -0.04983286187052727),\n",
       " ('dog', -0.080301932990551),\n",
       " ('woof', -0.12667368352413177)]"
      ]
     },
     "execution_count": 5,
     "metadata": {},
     "output_type": "execute_result"
    }
   ],
   "source": [
    "model.most_similar('cat')"
   ]
  },
  {
   "cell_type": "code",
   "execution_count": 7,
   "metadata": {},
   "outputs": [
    {
     "data": {
      "text/plain": [
       "array([-4.4649947e-03, -2.8851393e-03,  2.3308620e-03, -1.4231288e-03,\n",
       "        4.7620884e-03, -2.4871270e-03, -3.2275128e-03, -2.7829860e-03,\n",
       "       -1.2103237e-03,  1.8407095e-03, -1.7276407e-03,  3.7928652e-03,\n",
       "        1.7634830e-03,  3.7414283e-03, -4.3029082e-03, -2.2544600e-03,\n",
       "        1.5899889e-03, -2.3992090e-03,  4.3043946e-03, -3.9919219e-03,\n",
       "       -9.5291616e-04, -4.7599929e-03,  1.0608268e-03, -1.7070427e-03,\n",
       "       -2.3445415e-03, -8.0078008e-04, -3.8002201e-03, -1.6201846e-04,\n",
       "       -1.5585467e-03,  1.7311794e-03, -2.7229525e-03,  3.6006337e-03,\n",
       "       -4.9423738e-03,  3.4528514e-03, -4.2243046e-03, -1.8946226e-03,\n",
       "        3.6976929e-03, -2.6168162e-04,  4.6142959e-03,  2.3888852e-03,\n",
       "        2.9021527e-03, -4.1024215e-03, -1.6179893e-04, -1.3069580e-03,\n",
       "       -3.4279772e-03,  2.7171085e-03,  6.6804967e-04,  9.6483127e-04,\n",
       "        4.0094927e-04,  8.3102862e-04, -1.1578352e-03, -4.9286108e-03,\n",
       "       -1.3070187e-03, -4.5171538e-03, -1.4978674e-03, -4.6269437e-03,\n",
       "        4.2988365e-03, -2.6022694e-03,  4.9754428e-03,  2.5294528e-03,\n",
       "       -6.7143573e-04, -3.3661027e-03,  3.9233956e-03, -1.1753555e-03,\n",
       "       -4.7949487e-03,  4.3648551e-03, -4.2076721e-03,  1.3192735e-03,\n",
       "       -2.3342895e-03, -4.6405159e-03,  3.8844435e-03, -2.2511138e-03,\n",
       "       -2.5288935e-03,  2.0226634e-03, -3.2728761e-03,  2.3308520e-03,\n",
       "       -2.0086628e-03,  3.3150250e-03,  2.5904689e-03,  1.3721809e-03,\n",
       "        1.6066938e-04,  3.7046100e-03, -7.3483810e-05, -1.7573998e-03,\n",
       "        1.4954355e-03,  3.5911454e-03, -6.5501028e-04,  4.1748062e-03,\n",
       "       -1.4985062e-03,  4.0752310e-03,  3.7749785e-03,  4.0144715e-03,\n",
       "       -2.3920885e-03, -2.2150869e-03, -1.6898599e-03, -7.8704447e-04,\n",
       "       -2.9178660e-03,  3.1361275e-03,  4.2444146e-03, -2.0325878e-04],\n",
       "      dtype=float32)"
      ]
     },
     "execution_count": 7,
     "metadata": {},
     "output_type": "execute_result"
    }
   ],
   "source": [
    "model.wv['cat']"
   ]
  },
  {
   "cell_type": "code",
   "execution_count": 9,
   "metadata": {},
   "outputs": [],
   "source": [
    "import pandas as pd\n",
    "from gensim.models.word2vec import LineSentence\n",
    "import jieba\n"
   ]
  },
  {
   "cell_type": "code",
   "execution_count": 19,
   "metadata": {},
   "outputs": [],
   "source": [
    "database = 'E:\\datasets_nlp_lesson\\export_sql_1558435\\sqlResult_1558435.csv'\n",
    "content = pd.read_csv(database, encoding='gb18030')\n",
    "samples = content['content'][:100].tolist()"
   ]
  },
  {
   "cell_type": "code",
   "execution_count": 20,
   "metadata": {},
   "outputs": [],
   "source": [
    "def cut(string): return ' '.join(jieba.cut(string))"
   ]
  },
  {
   "cell_type": "code",
   "execution_count": 30,
   "metadata": {},
   "outputs": [],
   "source": [
    "with open('mini_samples.txt', 'w', encoding='utf-8') as f:\n",
    "    for s in samples:\n",
    "        f.write(cut(s)+'\\n')\n"
   ]
  },
  {
   "cell_type": "code",
   "execution_count": 31,
   "metadata": {},
   "outputs": [],
   "source": [
    "sentence = LineSentence('mini_samples.txt')"
   ]
  },
  {
   "cell_type": "code",
   "execution_count": 32,
   "metadata": {},
   "outputs": [],
   "source": [
    "model=Word2Vec(sentence, min_count=1)"
   ]
  },
  {
   "cell_type": "code",
   "execution_count": 33,
   "metadata": {},
   "outputs": [
    {
     "data": {
      "text/plain": [
       "array([ 2.38848571e-02, -2.58109272e-01, -3.01337421e-01,  2.45637506e-01,\n",
       "        1.50225699e-01,  1.74222872e-01, -5.06024174e-02,  3.19643207e-02,\n",
       "        1.77279234e-01, -2.13279221e-02, -1.10476762e-01,  3.25159654e-02,\n",
       "        5.41347787e-02,  1.86709777e-01,  7.29320496e-02,  5.87018915e-02,\n",
       "       -1.84772179e-01, -1.92911595e-01, -2.30853744e-02, -1.02413319e-01,\n",
       "       -4.87724058e-02, -2.38072917e-01, -1.15046263e-01,  1.00741953e-01,\n",
       "        1.15959950e-01,  2.00385563e-02,  5.71983308e-02, -2.23617628e-01,\n",
       "        1.12176694e-01,  3.55157070e-02, -1.13144130e-01,  8.83774012e-02,\n",
       "        1.24553978e-01,  1.62767366e-01, -1.74796537e-01,  3.90154719e-02,\n",
       "        1.79352686e-01,  3.45082618e-02,  1.90179646e-01,  4.78918329e-02,\n",
       "        1.58939198e-01,  3.70926992e-03,  2.91404635e-01,  1.31587356e-01,\n",
       "       -1.50039769e-03, -5.31298518e-02,  9.98635814e-02, -1.00263424e-01,\n",
       "        2.46047705e-01,  1.13609448e-01, -9.82661024e-02, -2.19692305e-01,\n",
       "       -1.81022584e-02, -1.12754606e-01, -2.14537770e-01, -2.58501191e-02,\n",
       "       -5.69956563e-02,  5.11694327e-02, -9.67077240e-02,  1.45002455e-01,\n",
       "       -1.46883398e-01,  1.85165733e-01, -3.95750791e-01, -2.79292077e-01,\n",
       "        8.10189024e-02,  2.56300122e-01, -6.50335327e-02, -1.68974072e-01,\n",
       "        8.42976756e-03, -2.31886487e-02, -1.02508366e-01, -3.07176709e-02,\n",
       "        3.12250927e-02,  3.08364572e-04,  2.29586035e-01,  7.46751502e-02,\n",
       "        6.74937218e-02,  9.08302516e-03,  9.50726792e-02,  1.45240322e-01,\n",
       "       -2.17761900e-02, -1.83385342e-01,  1.77107707e-01, -2.09033370e-01,\n",
       "       -1.75118998e-01,  1.94131434e-01,  1.01798557e-01, -1.91640537e-02,\n",
       "       -2.21250013e-01, -1.09276265e-01,  7.46050477e-02,  8.23067501e-02,\n",
       "        1.45569474e-01, -2.10069001e-01, -4.59863357e-02,  2.69294053e-01,\n",
       "        1.23327903e-01, -1.72404259e-01, -2.19918758e-01,  1.79787561e-01],\n",
       "      dtype=float32)"
      ]
     },
     "execution_count": 33,
     "metadata": {},
     "output_type": "execute_result"
    }
   ],
   "source": [
    "model.wv['汽车']"
   ]
  },
  {
   "cell_type": "code",
   "execution_count": 34,
   "metadata": {},
   "outputs": [
    {
     "name": "stderr",
     "output_type": "stream",
     "text": [
      "C:\\Users\\xiongfeng\\Anaconda3\\lib\\site-packages\\ipykernel_launcher.py:1: DeprecationWarning: Call to deprecated `most_similar` (Method will be removed in 4.0.0, use self.wv.most_similar() instead).\n",
      "  \"\"\"Entry point for launching an IPython kernel.\n"
     ]
    },
    {
     "data": {
      "text/plain": [
       "[('万部', 0.9950679540634155),\n",
       " ('估值', 0.9950090050697327),\n",
       " ('2000', 0.9949792623519897),\n",
       " ('这一', 0.9949705004692078),\n",
       " ('看到', 0.9949480891227722),\n",
       " ('表示', 0.9949420690536499),\n",
       " ('这个', 0.9949256181716919),\n",
       " ('机构', 0.9949195981025696),\n",
       " ('供应商', 0.9949193596839905),\n",
       " ('相比', 0.9949138164520264)]"
      ]
     },
     "execution_count": 34,
     "metadata": {},
     "output_type": "execute_result"
    }
   ],
   "source": [
    "model.most_similar('小米')"
   ]
  },
  {
   "cell_type": "code",
   "execution_count": 36,
   "metadata": {},
   "outputs": [],
   "source": [
    "# model.wv.vocab  词汇表内容太长，所以这边注释掉了"
   ]
  },
  {
   "cell_type": "markdown",
   "metadata": {},
   "source": [
    "## 现在是 mini 测试集，如果大家把维基百科+新闻语料库的所有信息全部加上，那么效果肯定会不错的"
   ]
  },
  {
   "cell_type": "markdown",
   "metadata": {},
   "source": [
    "## Name Entity Recognization"
   ]
  },
  {
   "cell_type": "markdown",
   "metadata": {},
   "source": [
    "区分出来什么是人名（person），组织机构名（organization），地点（location）"
   ]
  },
  {
   "cell_type": "markdown",
   "metadata": {},
   "source": [
    "### jieba分词可以判别词性"
   ]
  },
  {
   "cell_type": "code",
   "execution_count": 37,
   "metadata": {},
   "outputs": [],
   "source": [
    "from jieba import posseg"
   ]
  },
  {
   "cell_type": "markdown",
   "metadata": {},
   "source": [
    "posseg ==> Part of Speech Segment"
   ]
  },
  {
   "cell_type": "code",
   "execution_count": 38,
   "metadata": {},
   "outputs": [],
   "source": [
    "# https://blog.csdn.net/suibianshen2012/article/details/53487157\n",
    "# 这篇博客介绍了结巴分词的词性符号表示"
   ]
  },
  {
   "cell_type": "code",
   "execution_count": 39,
   "metadata": {},
   "outputs": [],
   "source": [
    "text = \"\"\"新华社华盛顿4月26日电 美国总统特朗普26日表示，美国将撤销在《武器贸易条约》上的签字。\n",
    "\n",
    "特朗普当天在美国印第安纳州首府印第安纳波利斯举行的美国全国步枪协会年会上说，《武器贸易条约》是一个“严重误导的条约”，美国将撤销在该条约上的签字，联合国将很快收到美国正式拒绝该条约的通知。\"\"\""
   ]
  },
  {
   "cell_type": "code",
   "execution_count": 40,
   "metadata": {},
   "outputs": [
    {
     "name": "stdout",
     "output_type": "stream",
     "text": [
      "新华社/nt\n",
      "华盛顿/ns\n",
      "4/m\n",
      "月/m\n",
      "26/m\n",
      "日电/j\n",
      " /x\n",
      "美国/ns\n",
      "总统/n\n",
      "特朗普/nr\n",
      "26/m\n",
      "日/m\n",
      "表示/v\n",
      "，/x\n",
      "美国/ns\n",
      "将/d\n",
      "撤销/v\n",
      "在/p\n",
      "《/x\n",
      "武器/n\n",
      "贸易/vn\n",
      "条约/n\n",
      "》/x\n",
      "上/f\n",
      "的/uj\n",
      "签字/v\n",
      "。/x\n",
      "\n",
      "/x\n",
      "\n",
      "/x\n",
      "特朗普/nr\n",
      "当天/t\n",
      "在/p\n",
      "美国/ns\n",
      "印第安纳州/ns\n",
      "首府/n\n",
      "印第安纳波利斯/ns\n",
      "举行/v\n",
      "的/uj\n",
      "美国/ns\n",
      "全国/n\n",
      "步枪/n\n",
      "协会/n\n",
      "年/m\n",
      "会上/t\n",
      "说/v\n",
      "，/x\n",
      "《/x\n",
      "武器/n\n",
      "贸易/vn\n",
      "条约/n\n",
      "》/x\n",
      "是/v\n",
      "一个/m\n",
      "“/x\n",
      "严重/a\n",
      "误导/n\n",
      "的/uj\n",
      "条约/n\n",
      "”/x\n",
      "，/x\n",
      "美国/ns\n",
      "将/d\n",
      "撤销/v\n",
      "在/p\n",
      "该/r\n",
      "条约/n\n",
      "上/f\n",
      "的/uj\n",
      "签字/v\n",
      "，/x\n",
      "联合国/nt\n",
      "将/d\n",
      "很快/d\n",
      "收到/v\n",
      "美国/ns\n",
      "正式/ad\n",
      "拒绝/v\n",
      "该/r\n",
      "条约/n\n",
      "的/uj\n",
      "通知/v\n",
      "。/x\n"
     ]
    }
   ],
   "source": [
    "for w in posseg.cut(text):\n",
    "    print(w)"
   ]
  },
  {
   "cell_type": "markdown",
   "metadata": {},
   "source": [
    "## 哈工大的LTP"
   ]
  },
  {
   "cell_type": "markdown",
   "metadata": {},
   "source": [
    "pyltp 是语言技术平台 （language technology platform）的python 封装。\n",
    "\n",
    "github page: https://github.com/HIT-SCIR/pyltp\n",
    "\n",
    "documentation: https://pyltp.readthedocs.io/zh_CN/latest/api.html#id13"
   ]
  },
  {
   "cell_type": "markdown",
   "metadata": {},
   "source": [
    "### stanford-corenlp\n",
    "For a list of python packages using the Stanford-CoreNLP server: https://stanfordnlp.github.io/CoreNLP/other-languages.html\n",
    "\n",
    "Here we use pycorenlp for its simplicity.\n",
    "\n",
    "Before running the python interface, we need to launch the CoreNLP server from the terminal:\n",
    "\n",
    "cd path/to/CoreNLP/folder\n",
    "java -mx6g -cp \"*\" edu.stanford.nlp.pipeline.StanfordCoreNLPServer -timeout 5000 --add-modules java.se.ee\n",
    "The parameter -mx6g specifies the amount of memory that CoreNLP is allowed to use. In this case, it’s six gigabytes. The -timeout 5000 parameter specifies the timeout in milliseconds. --add-modules java.se.ee is for java version 9/10/11.\n",
    "\n",
    "See more info: https://towardsdatascience.com/natural-language-processing-using-stanfords-corenlp-d9e64c1e1024"
   ]
  }
 ],
 "metadata": {
  "kernelspec": {
   "display_name": "Python 3",
   "language": "python",
   "name": "python3"
  },
  "language_info": {
   "codemirror_mode": {
    "name": "ipython",
    "version": 3
   },
   "file_extension": ".py",
   "mimetype": "text/x-python",
   "name": "python",
   "nbconvert_exporter": "python",
   "pygments_lexer": "ipython3",
   "version": "3.7.1"
  }
 },
 "nbformat": 4,
 "nbformat_minor": 2
}
